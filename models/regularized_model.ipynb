{
  "nbformat": 4,
  "nbformat_minor": 0,
  "metadata": {
    "orig_nbformat": 2,
    "kernelspec": {
      "name": "python3",
      "display_name": "Python 3",
      "language": "python"
    },
    "colab": {
      "name": "example_segmentation.ipynb",
      "private_outputs": true,
      "provenance": [],
      "collapsed_sections": []
    },
    "accelerator": "TPU"
  },
  "cells": [
    {
      "cell_type": "code",
      "metadata": {
        "id": "ehv-1jfjpUUD"
      },
      "source": [
        "# colab only\n",
        "# !pip install tf-nightly"
      ],
      "execution_count": 1,
      "outputs": []
    },
    {
      "cell_type": "code",
      "metadata": {
        "id": "yMnSgX_Okepr"
      },
      "source": [
        "import tensorflow as tf\n",
        "import tensorflow_addons as tfa\n",
        "import matplotlib.pyplot as plt\n",
        "import numpy as np\n",
        "\n",
        "import pathlib\n",
        "import pydot"
      ],
      "execution_count": 2,
      "outputs": []
    },
    {
      "cell_type": "code",
      "metadata": {
        "id": "WDFGXyYIlsPo"
      },
      "source": [
        "# from google.colab import drive\n",
        "# drive.mount('/content/drive')"
      ],
      "execution_count": 3,
      "outputs": []
    },
    {
      "cell_type": "code",
      "metadata": {
        "id": "kjOPq-vKY5wM"
      },
      "source": [
        "DRIVE_FOLDER = \"../food201/\" # \"/content/drive/My Drive/food201\""
      ],
      "execution_count": 4,
      "outputs": []
    },
    {
      "cell_type": "code",
      "metadata": {
        "id": "I-FtNlp1lN9h"
      },
      "source": [
        "SUBSET_FOLDER = \"\""
      ],
      "execution_count": 5,
      "outputs": []
    },
    {
      "cell_type": "code",
      "metadata": {
        "id": "_Z-vKmikkerH"
      },
      "source": [
        "TRAIN_DATA_FOLDER = pathlib.Path(DRIVE_FOLDER + SUBSET_FOLDER + \"/segmented_train\")\n",
        "TEST_DATA_FOLDER = pathlib.Path(DRIVE_FOLDER + SUBSET_FOLDER + \"/segmented_test\")\n",
        "\n",
        "TRAIN_MASK_FOLDER = pathlib.Path(DRIVE_FOLDER + SUBSET_FOLDER + \"/new_masks_train\")\n",
        "TEST_MASK_FOLDER = pathlib.Path(DRIVE_FOLDER + SUBSET_FOLDER + \"/new_masks_test\")"
      ],
      "execution_count": 6,
      "outputs": []
    },
    {
      "cell_type": "markdown",
      "metadata": {
        "id": "gi131choker9"
      },
      "source": [
        "## Settings"
      ]
    },
    {
      "cell_type": "code",
      "metadata": {
        "id": "kUe95a-pkesD"
      },
      "source": [
        "IMAGE_WIDTH = 128\n",
        "IMAGE_HEIGHT = 128"
      ],
      "execution_count": 7,
      "outputs": []
    },
    {
      "cell_type": "code",
      "metadata": {
        "id": "YVkhTVP9kesU"
      },
      "source": [
        "CLASSES = 202"
      ],
      "execution_count": 8,
      "outputs": []
    },
    {
      "cell_type": "markdown",
      "metadata": {
        "id": "8503zwwGketE"
      },
      "source": [
        "## Load data"
      ]
    },
    {
      "cell_type": "code",
      "metadata": {
        "id": "6jJCWGD1ketR"
      },
      "source": [
        "def load_filenames(data_dir):\n",
        "    image_count = len(list(data_dir.glob('*/*.jpg')))\n",
        "    print(f\"Prefetched: {image_count} images\")\n",
        "    test_filenames = tf.data.Dataset.list_files(str(data_dir/'*/*'), shuffle=False)\n",
        "    return image_count, test_filenames.shuffle(image_count, reshuffle_each_iteration=False)"
      ],
      "execution_count": 9,
      "outputs": []
    },
    {
      "cell_type": "code",
      "metadata": {
        "id": "Wn0iJU5kkets"
      },
      "source": [
        "TEST_SIZE, test_data = load_filenames(TEST_DATA_FOLDER)"
      ],
      "execution_count": 10,
      "outputs": [
        {
          "output_type": "stream",
          "name": "stdout",
          "text": [
            "Prefetched: 2439 images\n"
          ]
        }
      ]
    },
    {
      "cell_type": "code",
      "metadata": {
        "id": "oZLHvyrDkeuE"
      },
      "source": [
        "TRAIN_SIZE, train_data = load_filenames(TRAIN_DATA_FOLDER)\n"
      ],
      "execution_count": 11,
      "outputs": [
        {
          "output_type": "stream",
          "name": "stdout",
          "text": [
            "Prefetched: 9654 images\n"
          ]
        }
      ]
    },
    {
      "cell_type": "markdown",
      "metadata": {
        "id": "m1fjKM_VkeuW"
      },
      "source": [
        "## Create `image, label` tuples"
      ]
    },
    {
      "cell_type": "code",
      "metadata": {
        "id": "y08zL6atkeuX"
      },
      "source": [
        "def get_mask(image_path):\n",
        "    # Produce correct path.\n",
        "    mask_path = tf.strings.regex_replace(image_path, 'segmented', 'new_masks')\n",
        "    mask_file = tf.strings.regex_replace(mask_path, '.jpg', '.png')\n",
        "\n",
        "    mask = tf.io.read_file(mask_file)\n",
        "    mask = tf.image.decode_png(mask)\n",
        "    return mask"
      ],
      "execution_count": 12,
      "outputs": []
    },
    {
      "cell_type": "code",
      "metadata": {
        "id": "LAy_QN9nkevG"
      },
      "source": [
        "def get_image(image_path):\n",
        "    image = tf.io.read_file(image_path)\n",
        "    image = tf.image.decode_jpeg(image, channels=3)\n",
        "    return image"
      ],
      "execution_count": 13,
      "outputs": []
    },
    {
      "cell_type": "code",
      "metadata": {
        "id": "y_2AecRWkeva"
      },
      "source": [
        "def prepare_example(image_path):\n",
        "    image = get_image(image_path)\n",
        "    mask = get_mask(image_path)\n",
        "    return image, mask"
      ],
      "execution_count": 14,
      "outputs": []
    },
    {
      "cell_type": "code",
      "metadata": {
        "id": "MIATAf3Akevw"
      },
      "source": [
        "# Process datasets.\n",
        "train_data = train_data.map(prepare_example, num_parallel_calls=tf.data.experimental.AUTOTUNE, deterministic=False)\n",
        "test_data = test_data.map(prepare_example, num_parallel_calls=tf.data.experimental.AUTOTUNE, deterministic=False)"
      ],
      "execution_count": 15,
      "outputs": []
    },
    {
      "source": [
        "## Create validation split"
      ],
      "cell_type": "markdown",
      "metadata": {}
    },
    {
      "cell_type": "code",
      "execution_count": 16,
      "metadata": {},
      "outputs": [],
      "source": [
        "VAL_RATIO = 0.75"
      ]
    },
    {
      "cell_type": "code",
      "execution_count": 17,
      "metadata": {},
      "outputs": [
        {
          "output_type": "stream",
          "name": "stdout",
          "text": [
            "Train size: 7240\n"
          ]
        }
      ],
      "source": [
        "train_indices = np.random.choice(range(TRAIN_SIZE), int(VAL_RATIO * TRAIN_SIZE), replace=False)\n",
        "print(f\"Train size: {train_indices.shape[0]}\")"
      ]
    },
    {
      "cell_type": "code",
      "execution_count": 18,
      "metadata": {},
      "outputs": [
        {
          "output_type": "stream",
          "name": "stdout",
          "text": [
            "Validation size: 2414\n"
          ]
        }
      ],
      "source": [
        "val_indices = list(set(range(TRAIN_SIZE)) - set(train_indices))\n",
        "print(f\"Validation size: {len(val_indices)}\")"
      ]
    },
    {
      "cell_type": "code",
      "execution_count": 19,
      "metadata": {},
      "outputs": [],
      "source": [
        "def subset_dataset(dataset, indices):\n",
        "    return dataset.enumerate().filter(lambda i, t: tf.reduce_any(i == indices)).map(lambda j, u: u)"
      ]
    },
    {
      "cell_type": "code",
      "execution_count": 20,
      "metadata": {},
      "outputs": [],
      "source": [
        "train_data = subset_dataset(train_data, train_indices)\n",
        "val_data = subset_dataset(train_data, val_indices)"
      ]
    },
    {
      "source": [
        "## Cache"
      ],
      "cell_type": "markdown",
      "metadata": {}
    },
    {
      "cell_type": "code",
      "execution_count": 21,
      "metadata": {},
      "outputs": [],
      "source": [
        "# We cache before augmentations to maintain variability across epochs.\n",
        "train_data = train_data.cache()"
      ]
    },
    {
      "cell_type": "code",
      "execution_count": 22,
      "metadata": {},
      "outputs": [],
      "source": [
        "# Need to resize validation and test data first since we don't augment these.\n",
        "def resize_example(image, mask):\n",
        "    image = tf.image.resize(image, [IMAGE_HEIGHT, IMAGE_WIDTH])\n",
        "    mask = tf.image.resize(mask, [IMAGE_HEIGHT, IMAGE_WIDTH], method=tf.image.ResizeMethod.NEAREST_NEIGHBOR)\n",
        "    return image, mask"
      ]
    },
    {
      "cell_type": "code",
      "execution_count": 23,
      "metadata": {},
      "outputs": [],
      "source": [
        "val_data = val_data.map(resize_example).cache()\n",
        "test_data = test_data.map(resize_example).cache()"
      ]
    },
    {
      "cell_type": "markdown",
      "metadata": {
        "id": "34aBj_tCkewx"
      },
      "source": [
        "## Image augmentations\n",
        "\n",
        "We use out of model augmentations so that we don't need to include the heavy weight `Tensorflow Ops` in our app.\n",
        "Additionally this allows us to use also augmentations that change mask.\n",
        "\n",
        "The downside is significant slowdown since we cannot cache the augmentations."
      ]
    },
    {
      "cell_type": "code",
      "execution_count": 24,
      "metadata": {},
      "outputs": [],
      "source": [
        "HSV = [0.3, 0.3, 0.3]\n",
        "\n",
        "def random_hsv(image):\n",
        "    if tf.random.uniform([]) < HSV[0]:\n",
        "        image = tf.image.adjust_hue(image, tf.random.uniform([], -0.1, 0.1))\n",
        "    if tf.random.uniform([]) < HSV[1]:\n",
        "        image = tf.image.adjust_saturation(image, tf.random.uniform([], 0.25, 4))\n",
        "    if tf.random.uniform([]) < HSV[2]:\n",
        "        image = tf.image.adjust_brightness(image, tf.random.uniform([], -1, 1))\n",
        "    return image"
      ]
    },
    {
      "cell_type": "code",
      "execution_count": 25,
      "metadata": {},
      "outputs": [],
      "source": [
        "HFLIP_PROB = 0.5\n",
        "HSV_PROB = 0.5\n",
        "ROT_PROB = 0.5\n",
        "SHIFT = 24"
      ]
    },
    {
      "cell_type": "code",
      "execution_count": 26,
      "metadata": {},
      "outputs": [],
      "source": [
        "def image_augment(image, mask):\n",
        "    # Horizontal flip.\n",
        "    if tf.random.uniform([]) < HFLIP_PROB:\n",
        "        image = tf.image.flip_left_right(image)\n",
        "        mask = tf.image.flip_left_right(mask)\n",
        "\n",
        "    # Color augmentations.\n",
        "    if tf.random.uniform([]) < HSV_PROB:\n",
        "        image = random_hsv(image)\n",
        "\n",
        "    # Rotation cc by 90 deg.\n",
        "    if tf.random.uniform([]) < ROT_PROB:\n",
        "        image = tf.image.rot90(image)\n",
        "        mask = tf.image.rot90(mask)\n",
        "\n",
        "    # Shifted resize to desired dimensions.\n",
        "    shifted_height = tf.random.uniform([], minval=IMAGE_HEIGHT, maxval=IMAGE_HEIGHT + SHIFT, dtype=tf.int32)\n",
        "    shifted_width = tf.random.uniform([], minval=IMAGE_WIDTH, maxval=IMAGE_WIDTH + SHIFT, dtype=tf.int32)\n",
        "\n",
        "    image = tf.image.resize(image, [shifted_height, shifted_width])\n",
        "    # Resize mask using nearest neighbor to avoid introducing non-existent labels.\n",
        "    mask = tf.image.resize(mask, [shifted_height, shifted_width], method=tf.image.ResizeMethod.NEAREST_NEIGHBOR)\n",
        "\n",
        "    image = tf.image.random_crop(image, [IMAGE_HEIGHT, IMAGE_WIDTH, 3])\n",
        "    mask = tf.image.random_crop(mask, [IMAGE_HEIGHT, IMAGE_WIDTH, 1])\n",
        "\n",
        "    return image, mask"
      ]
    },
    {
      "cell_type": "code",
      "execution_count": 27,
      "metadata": {},
      "outputs": [],
      "source": [
        "# Augment only training dataset.\n",
        "train_data = train_data.map(image_augment)"
      ]
    },
    {
      "cell_type": "markdown",
      "metadata": {
        "id": "Ktx2gwJ9kewP"
      },
      "source": [
        "## Batching"
      ]
    },
    {
      "cell_type": "code",
      "execution_count": 28,
      "metadata": {},
      "outputs": [],
      "source": [
        "SHUFFLE_BUFFER = 500\n",
        "BATCH_SIZE = 8"
      ]
    },
    {
      "cell_type": "code",
      "execution_count": 29,
      "metadata": {},
      "outputs": [],
      "source": [
        "def batch_and_tune(dataset):\n",
        "  dataset = dataset.shuffle(buffer_size=SHUFFLE_BUFFER)\n",
        "  dataset = dataset.batch(BATCH_SIZE)\n",
        "  dataset = dataset.prefetch(buffer_size=tf.data.experimental.AUTOTUNE)\n",
        "  return dataset"
      ]
    },
    {
      "cell_type": "code",
      "execution_count": 30,
      "metadata": {},
      "outputs": [],
      "source": [
        "train_data = batch_and_tune(train_data)\n",
        "val_data = batch_and_tune(val_data) # Shuffle too, so we see different pictures in callback."
      ]
    },
    {
      "source": [
        "## Callbacks"
      ],
      "cell_type": "markdown",
      "metadata": {}
    },
    {
      "cell_type": "code",
      "execution_count": 31,
      "metadata": {},
      "outputs": [],
      "source": [
        "# Visualization callback to see how mask prediction progresses.\n",
        "class MaskCallback(tf.keras.callbacks.Callback):\n",
        "    def on_epoch_end(self, epoch, logs=None):\n",
        "        plot_mask_predictions(val_data, 3)\n",
        "\n",
        "def create_mask(pred_mask):\n",
        "  pred_mask = tf.argmax(pred_mask, axis=-1)\n",
        "  pred_mask = pred_mask[..., tf.newaxis]\n",
        "  return pred_mask[0]"
      ]
    },
    {
      "cell_type": "code",
      "execution_count": 32,
      "metadata": {},
      "outputs": [],
      "source": [
        "def plot_mask_predictions(dataset, examples=3):\n",
        "    plt.figure(figsize=(21, 7 * examples))\n",
        "\n",
        "    for i, (image, mask) in enumerate(dataset.take(examples)):\n",
        "        ax = plt.subplot(examples, 3, 3*i+1)\n",
        "        plt.imshow(image[0].numpy().astype(\"uint8\"))\n",
        "        plt.axis(\"off\")\n",
        "\n",
        "        ax = plt.subplot(examples, 3, 3*i+2)\n",
        "        plt.imshow(mask[0].numpy().astype(\"uint8\").squeeze(axis=2), cmap='gray', vmin=0, vmax=tf.math.reduce_max(mask[0]))\n",
        "        plt.axis(\"off\")\n",
        "\n",
        "\n",
        "        pred_mask = create_mask(model.predict(image))\n",
        "\n",
        "        ax = plt.subplot(examples, 3, 3*i+3)\n",
        "        plt.imshow(pred_mask.numpy().astype(\"uint8\").squeeze(axis=2), cmap='gray', vmin=0, vmax=tf.math.reduce_max(pred_mask))\n",
        "        plt.axis(\"off\")\n",
        "\n",
        "    plt.show()"
      ]
    },
    {
      "cell_type": "code",
      "execution_count": 33,
      "metadata": {},
      "outputs": [],
      "source": [
        "mask_callback = MaskCallback()\n",
        "learning_rate_callback = tf.keras.callbacks.ReduceLROnPlateau(factor=0.1, patience=5, min_lr=0.000001, verbose=1)"
      ]
    },
    {
      "cell_type": "markdown",
      "metadata": {
        "id": "6YHwXI0LkexD"
      },
      "source": [
        "## Load MobileNet v3"
      ]
    },
    {
      "cell_type": "code",
      "metadata": {
        "id": "veTPJj9ckexF"
      },
      "source": [
        "# IMPORTANT: Run this just once per Jupyter kernel start since new loads increase layer numbers.\n",
        "mobile_net = tf.keras.applications.MobileNetV3Large(\n",
        "    input_shape=(IMAGE_HEIGHT, IMAGE_WIDTH, 3), alpha=1.0, minimalistic=False, include_top=False,\n",
        "    weights='imagenet', input_tensor=None, pooling=None,\n",
        "    dropout_rate=0.2\n",
        ")"
      ],
      "execution_count": 34,
      "outputs": [
        {
          "output_type": "stream",
          "name": "stdout",
          "text": [
            "WARNING:tensorflow:`input_shape` is undefined or non-square, or `rows` is not 224. Weights for input shape (224, 224) will be loaded as the default.\n"
          ]
        }
      ]
    },
    {
      "cell_type": "code",
      "metadata": {
        "id": "Yfd9fkGmkexf"
      },
      "source": [
        "# U-net encoder skips.\n",
        "encoder_layers = [\n",
        "    're_lu_2',   # \\2^1\n",
        "    're_lu_6',   # \\2^2\n",
        "    'multiply_1',   # \\2^3\n",
        "    'multiply_13',  # \\2^4\n",
        "    'Conv_1',      # \\2^5 (7x7 for 224x224)\n",
        "]\n",
        "\n",
        "encoder = [mobile_net.get_layer(l).output for l in encoder_layers]\n",
        "encoder = tf.keras.Model(inputs=mobile_net.input, outputs=encoder)"
      ],
      "execution_count": 35,
      "outputs": []
    },
    {
      "cell_type": "code",
      "execution_count": 36,
      "metadata": {},
      "outputs": [],
      "source": [
        "# Don't train 'imagenet' weights.\n",
        "encoder.trainable = False"
      ]
    },
    {
      "cell_type": "markdown",
      "metadata": {
        "id": "z5izTUl_kexq"
      },
      "source": [
        "## Segmentation head"
      ]
    },
    {
      "cell_type": "code",
      "execution_count": 37,
      "metadata": {},
      "outputs": [],
      "source": [
        "# Regularization as per recommended defaults.\n",
        "GROUP_NORM = 16\n",
        "DROPOUT = 0.5\n",
        "L2 = tf.keras.regularizers.L2(l2=0.0001) "
      ]
    },
    {
      "cell_type": "code",
      "metadata": {
        "id": "YiJwndm9kexs"
      },
      "source": [
        "def upsampling_layer(x, channels, kernel=(3,3), strides=(2,2), dropout=0.5):\n",
        "    \"\"\"\n",
        "    General Conv2DTranspose -> BN -> (Dropout) -> ReLU layer.\n",
        "    \"\"\"\n",
        "    x = tf.keras.layers.Conv2DTranspose(channels, kernel, strides=strides, padding='same', use_bias=False, kernel_regularizer=L2)(x)\n",
        "    x = tfa.layers.GroupNormalization(GROUP_NORM)(x)   \n",
        "    x = tf.keras.layers.Dropout(rate=dropout)(x)\n",
        "    x = tf.keras.layers.ReLU()(x)\n",
        "    return x"
      ],
      "execution_count": 38,
      "outputs": []
    },
    {
      "cell_type": "code",
      "execution_count": 39,
      "metadata": {},
      "outputs": [],
      "source": [
        "def convolutional_layer(x, channels, kernel=(3,3), strides=(1,1), dropout=0.5):\n",
        "    x = tf.keras.layers.Conv2D(channels, kernel, strides=strides, padding=\"same\", use_bias=False, kernel_regularizer=L2)(x)\n",
        "    x = tfa.layers.GroupNormalization(GROUP_NORM)(x)\n",
        "    x = tf.keras.layers.Dropout(rate=dropout)(x)\n",
        "    x = tf.keras.layers.ReLU()(x)\n",
        "    return x"
      ]
    },
    {
      "cell_type": "code",
      "execution_count": 40,
      "metadata": {},
      "outputs": [],
      "source": [
        "def decoder(x, channels_in, channels_out):\n",
        "    x = convolutional_layer(x, channels_in // 4, 1)\n",
        "    x = upsampling_layer(x, channels_in // 4, 3, dropout=DROPOUT)\n",
        "    x = convolutional_layer(x, channels_in // 4, 3)\n",
        "    x = convolutional_layer(x, channels_out, 1)\n",
        "    return x"
      ]
    },
    {
      "cell_type": "code",
      "metadata": {
        "id": "QPF6stIskex4"
      },
      "source": [
        "decoder_filters = [(1024, 512), (512, 256), (256, 128), (128, 64), (64, 64)]  # Number of filters as we progress down the decoder."
      ],
      "execution_count": 41,
      "outputs": []
    },
    {
      "cell_type": "code",
      "metadata": {
        "id": "cMyw-VFHkeyC"
      },
      "source": [
        "inputs = tf.keras.layers.Input(shape=[IMAGE_HEIGHT, IMAGE_WIDTH, 3])\n",
        "\n",
        "# Scale to [-1, 1] as expected by mobile net.\n",
        "inputs_scaled = tf.keras.layers.experimental.preprocessing.Rescaling(scale=1./127.5, offset=-1)(inputs)\n",
        "inputs = tf.keras.layers.Input(tensor=inputs_scaled)    # Wrapper for encoder.\n",
        "\n",
        "# Encoding.\n",
        "# Set `training` to false to keep BN in inference mode for fine tuning.\n",
        "encoder_outputs = encoder(inputs, training=False)\n",
        "\n",
        "# Last model layer output.\n",
        "x = encoder_outputs[-1]\n",
        "# Reverse since we go from smallest to largest.\n",
        "encoder_outputs = reversed(encoder_outputs[:-1])\n",
        "\n",
        "# Forming U-net.\n",
        "for encoder_output, filters in zip(encoder_outputs, decoder_filters):\n",
        "    decoder_output = decoder(x, filters[0], filters[1])\n",
        "    x = tf.keras.layers.Concatenate()([decoder_output, encoder_output]) # Skip connection.\n",
        "    \n",
        "# Head\n",
        "x = upsampling_layer(x, 32, 3, 2)\n",
        "x = convolutional_layer(x, 32, 3, 2)\n",
        "\n",
        "# Get mask prediction back to original size.\n",
        "outputs = tf.keras.layers.Conv2DTranspose(CLASSES, 3, strides=2, padding='same')(x)\n",
        "\n",
        "model = tf.keras.Model(inputs=inputs, outputs=outputs)"
      ],
      "execution_count": 42,
      "outputs": []
    },
    {
      "cell_type": "code",
      "metadata": {
        "id": "TseGsMk_keyT"
      },
      "source": [
        "model.compile(\n",
        "    optimizer=tf.keras.optimizers.RMSprop(learning_rate=0.001),\n",
        "    loss=tf.keras.losses.SparseCategoricalCrossentropy(from_logits=True),\n",
        "    metrics=[\n",
        "        tf.keras.metrics.SparseCategoricalAccuracy(name='accuracy'),\n",
        "        tf.keras.metrics.SparseTopKCategoricalAccuracy(k=5, name='top_5_accuracy')\n",
        "    ]\n",
        ")"
      ],
      "execution_count": 43,
      "outputs": []
    },
    {
      "cell_type": "code",
      "execution_count": 56,
      "metadata": {},
      "outputs": [
        {
          "output_type": "stream",
          "name": "stdout",
          "text": [
            "Model: \"model_1\"\n__________________________________________________________________________________________________\nLayer (type)                    Output Shape         Param #     Connected to                     \n==================================================================================================\ninput_3 (InputLayer)            [(None, 128, 128, 3) 0                                            \n__________________________________________________________________________________________________\nmodel (Functional)              [(None, 64, 64, 64), 2992512     input_3[0][0]                    \n__________________________________________________________________________________________________\nconv2d (Conv2D)                 (None, 4, 4, 256)    245760      model[0][4]                      \n__________________________________________________________________________________________________\ngroup_normalization (GroupNorma (None, 4, 4, 256)    512         conv2d[0][0]                     \n__________________________________________________________________________________________________\ndropout (Dropout)               (None, 4, 4, 256)    0           group_normalization[0][0]        \n__________________________________________________________________________________________________\nre_lu_40 (ReLU)                 (None, 4, 4, 256)    0           dropout[0][0]                    \n__________________________________________________________________________________________________\nconv2d_transpose (Conv2DTranspo (None, 8, 8, 256)    589824      re_lu_40[0][0]                   \n__________________________________________________________________________________________________\ngroup_normalization_1 (GroupNor (None, 8, 8, 256)    512         conv2d_transpose[0][0]           \n__________________________________________________________________________________________________\ndropout_1 (Dropout)             (None, 8, 8, 256)    0           group_normalization_1[0][0]      \n__________________________________________________________________________________________________\nre_lu_41 (ReLU)                 (None, 8, 8, 256)    0           dropout_1[0][0]                  \n__________________________________________________________________________________________________\nconv2d_1 (Conv2D)               (None, 8, 8, 256)    589824      re_lu_41[0][0]                   \n__________________________________________________________________________________________________\ngroup_normalization_2 (GroupNor (None, 8, 8, 256)    512         conv2d_1[0][0]                   \n__________________________________________________________________________________________________\ndropout_2 (Dropout)             (None, 8, 8, 256)    0           group_normalization_2[0][0]      \n__________________________________________________________________________________________________\nre_lu_42 (ReLU)                 (None, 8, 8, 256)    0           dropout_2[0][0]                  \n__________________________________________________________________________________________________\nconv2d_2 (Conv2D)               (None, 8, 8, 512)    131072      re_lu_42[0][0]                   \n__________________________________________________________________________________________________\ngroup_normalization_3 (GroupNor (None, 8, 8, 512)    1024        conv2d_2[0][0]                   \n__________________________________________________________________________________________________\ndropout_3 (Dropout)             (None, 8, 8, 512)    0           group_normalization_3[0][0]      \n__________________________________________________________________________________________________\nre_lu_43 (ReLU)                 (None, 8, 8, 512)    0           dropout_3[0][0]                  \n__________________________________________________________________________________________________\nconcatenate (Concatenate)       (None, 8, 8, 1184)   0           re_lu_43[0][0]                   \n                                                                 model[0][3]                      \n__________________________________________________________________________________________________\nconv2d_3 (Conv2D)               (None, 8, 8, 128)    151552      concatenate[0][0]                \n__________________________________________________________________________________________________\ngroup_normalization_4 (GroupNor (None, 8, 8, 128)    256         conv2d_3[0][0]                   \n__________________________________________________________________________________________________\ndropout_4 (Dropout)             (None, 8, 8, 128)    0           group_normalization_4[0][0]      \n__________________________________________________________________________________________________\nre_lu_44 (ReLU)                 (None, 8, 8, 128)    0           dropout_4[0][0]                  \n__________________________________________________________________________________________________\nconv2d_transpose_1 (Conv2DTrans (None, 16, 16, 128)  147456      re_lu_44[0][0]                   \n__________________________________________________________________________________________________\ngroup_normalization_5 (GroupNor (None, 16, 16, 128)  256         conv2d_transpose_1[0][0]         \n__________________________________________________________________________________________________\ndropout_5 (Dropout)             (None, 16, 16, 128)  0           group_normalization_5[0][0]      \n__________________________________________________________________________________________________\nre_lu_45 (ReLU)                 (None, 16, 16, 128)  0           dropout_5[0][0]                  \n__________________________________________________________________________________________________\nconv2d_4 (Conv2D)               (None, 16, 16, 128)  147456      re_lu_45[0][0]                   \n__________________________________________________________________________________________________\ngroup_normalization_6 (GroupNor (None, 16, 16, 128)  256         conv2d_4[0][0]                   \n__________________________________________________________________________________________________\ndropout_6 (Dropout)             (None, 16, 16, 128)  0           group_normalization_6[0][0]      \n__________________________________________________________________________________________________\nre_lu_46 (ReLU)                 (None, 16, 16, 128)  0           dropout_6[0][0]                  \n__________________________________________________________________________________________________\nconv2d_5 (Conv2D)               (None, 16, 16, 256)  32768       re_lu_46[0][0]                   \n__________________________________________________________________________________________________\ngroup_normalization_7 (GroupNor (None, 16, 16, 256)  512         conv2d_5[0][0]                   \n__________________________________________________________________________________________________\ndropout_7 (Dropout)             (None, 16, 16, 256)  0           group_normalization_7[0][0]      \n__________________________________________________________________________________________________\nre_lu_47 (ReLU)                 (None, 16, 16, 256)  0           dropout_7[0][0]                  \n__________________________________________________________________________________________________\nconcatenate_1 (Concatenate)     (None, 16, 16, 496)  0           re_lu_47[0][0]                   \n                                                                 model[0][2]                      \n__________________________________________________________________________________________________\nconv2d_6 (Conv2D)               (None, 16, 16, 64)   31744       concatenate_1[0][0]              \n__________________________________________________________________________________________________\ngroup_normalization_8 (GroupNor (None, 16, 16, 64)   128         conv2d_6[0][0]                   \n__________________________________________________________________________________________________\ndropout_8 (Dropout)             (None, 16, 16, 64)   0           group_normalization_8[0][0]      \n__________________________________________________________________________________________________\nre_lu_48 (ReLU)                 (None, 16, 16, 64)   0           dropout_8[0][0]                  \n__________________________________________________________________________________________________\nconv2d_transpose_2 (Conv2DTrans (None, 32, 32, 64)   36864       re_lu_48[0][0]                   \n__________________________________________________________________________________________________\ngroup_normalization_9 (GroupNor (None, 32, 32, 64)   128         conv2d_transpose_2[0][0]         \n__________________________________________________________________________________________________\ndropout_9 (Dropout)             (None, 32, 32, 64)   0           group_normalization_9[0][0]      \n__________________________________________________________________________________________________\nre_lu_49 (ReLU)                 (None, 32, 32, 64)   0           dropout_9[0][0]                  \n__________________________________________________________________________________________________\nconv2d_7 (Conv2D)               (None, 32, 32, 64)   36864       re_lu_49[0][0]                   \n__________________________________________________________________________________________________\ngroup_normalization_10 (GroupNo (None, 32, 32, 64)   128         conv2d_7[0][0]                   \n__________________________________________________________________________________________________\ndropout_10 (Dropout)            (None, 32, 32, 64)   0           group_normalization_10[0][0]     \n__________________________________________________________________________________________________\nre_lu_50 (ReLU)                 (None, 32, 32, 64)   0           dropout_10[0][0]                 \n__________________________________________________________________________________________________\nconv2d_8 (Conv2D)               (None, 32, 32, 128)  8192        re_lu_50[0][0]                   \n__________________________________________________________________________________________________\ngroup_normalization_11 (GroupNo (None, 32, 32, 128)  256         conv2d_8[0][0]                   \n__________________________________________________________________________________________________\ndropout_11 (Dropout)            (None, 32, 32, 128)  0           group_normalization_11[0][0]     \n__________________________________________________________________________________________________\nre_lu_51 (ReLU)                 (None, 32, 32, 128)  0           dropout_11[0][0]                 \n__________________________________________________________________________________________________\nconcatenate_2 (Concatenate)     (None, 32, 32, 200)  0           re_lu_51[0][0]                   \n                                                                 model[0][1]                      \n__________________________________________________________________________________________________\nconv2d_9 (Conv2D)               (None, 32, 32, 32)   6400        concatenate_2[0][0]              \n__________________________________________________________________________________________________\ngroup_normalization_12 (GroupNo (None, 32, 32, 32)   64          conv2d_9[0][0]                   \n__________________________________________________________________________________________________\ndropout_12 (Dropout)            (None, 32, 32, 32)   0           group_normalization_12[0][0]     \n__________________________________________________________________________________________________\nre_lu_52 (ReLU)                 (None, 32, 32, 32)   0           dropout_12[0][0]                 \n__________________________________________________________________________________________________\nconv2d_transpose_3 (Conv2DTrans (None, 64, 64, 32)   9216        re_lu_52[0][0]                   \n__________________________________________________________________________________________________\ngroup_normalization_13 (GroupNo (None, 64, 64, 32)   64          conv2d_transpose_3[0][0]         \n__________________________________________________________________________________________________\ndropout_13 (Dropout)            (None, 64, 64, 32)   0           group_normalization_13[0][0]     \n__________________________________________________________________________________________________\nre_lu_53 (ReLU)                 (None, 64, 64, 32)   0           dropout_13[0][0]                 \n__________________________________________________________________________________________________\nconv2d_10 (Conv2D)              (None, 64, 64, 32)   9216        re_lu_53[0][0]                   \n__________________________________________________________________________________________________\ngroup_normalization_14 (GroupNo (None, 64, 64, 32)   64          conv2d_10[0][0]                  \n__________________________________________________________________________________________________\ndropout_14 (Dropout)            (None, 64, 64, 32)   0           group_normalization_14[0][0]     \n__________________________________________________________________________________________________\nre_lu_54 (ReLU)                 (None, 64, 64, 32)   0           dropout_14[0][0]                 \n__________________________________________________________________________________________________\nconv2d_11 (Conv2D)              (None, 64, 64, 64)   2048        re_lu_54[0][0]                   \n__________________________________________________________________________________________________\ngroup_normalization_15 (GroupNo (None, 64, 64, 64)   128         conv2d_11[0][0]                  \n__________________________________________________________________________________________________\ndropout_15 (Dropout)            (None, 64, 64, 64)   0           group_normalization_15[0][0]     \n__________________________________________________________________________________________________\nre_lu_55 (ReLU)                 (None, 64, 64, 64)   0           dropout_15[0][0]                 \n__________________________________________________________________________________________________\nconcatenate_3 (Concatenate)     (None, 64, 64, 128)  0           re_lu_55[0][0]                   \n                                                                 model[0][0]                      \n__________________________________________________________________________________________________\nconv2d_transpose_4 (Conv2DTrans (None, 128, 128, 32) 36864       concatenate_3[0][0]              \n__________________________________________________________________________________________________\ngroup_normalization_16 (GroupNo (None, 128, 128, 32) 64          conv2d_transpose_4[0][0]         \n__________________________________________________________________________________________________\ndropout_16 (Dropout)            (None, 128, 128, 32) 0           group_normalization_16[0][0]     \n__________________________________________________________________________________________________\nre_lu_56 (ReLU)                 (None, 128, 128, 32) 0           dropout_16[0][0]                 \n__________________________________________________________________________________________________\nconv2d_12 (Conv2D)              (None, 64, 64, 32)   9216        re_lu_56[0][0]                   \n__________________________________________________________________________________________________\ngroup_normalization_17 (GroupNo (None, 64, 64, 32)   64          conv2d_12[0][0]                  \n__________________________________________________________________________________________________\ndropout_17 (Dropout)            (None, 64, 64, 32)   0           group_normalization_17[0][0]     \n__________________________________________________________________________________________________\nre_lu_57 (ReLU)                 (None, 64, 64, 32)   0           dropout_17[0][0]                 \n__________________________________________________________________________________________________\nconv2d_transpose_5 (Conv2DTrans (None, 128, 128, 202 58378       re_lu_57[0][0]                   \n==================================================================================================\nTotal params: 5,278,154\nTrainable params: 2,285,642\nNon-trainable params: 2,992,512\n__________________________________________________________________________________________________\n"
          ]
        }
      ],
      "source": [
        "model.summary()"
      ]
    },
    {
      "cell_type": "markdown",
      "metadata": {
        "id": "BlxDt1eakeyx"
      },
      "source": [
        "## Model training"
      ]
    },
    {
      "cell_type": "code",
      "execution_count": 60,
      "metadata": {},
      "outputs": [],
      "source": [
        "EPOCHS = 30"
      ]
    },
    {
      "cell_type": "code",
      "execution_count": 58,
      "metadata": {},
      "outputs": [],
      "source": [
        "# ============================\n",
        "# !!!!!! SET NEW RUN ID !!!!!!\n",
        "# ============================\n",
        "checkpoint_callback = tf.keras.callbacks.ModelCheckpoint(\n",
        "    filepath=\"checkpoints/run_10/cp-{epoch:04d}.ckpt\", \n",
        "    verbose=1, \n",
        "    save_weights_only=True)"
      ]
    },
    {
      "cell_type": "code",
      "execution_count": 59,
      "metadata": {},
      "outputs": [
        {
          "output_type": "execute_result",
          "data": {
            "text/plain": [
              "<tensorflow.python.training.tracking.util.CheckpointLoadStatus at 0x2135a0b4508>"
            ]
          },
          "metadata": {},
          "execution_count": 59
        }
      ],
      "source": [
        "# Let's continue training with pretrained weights on 17 epochs.\n",
        "model.load_weights(\"checkpoints/run_09/cp-0017.ckpt\")"
      ]
    },
    {
      "cell_type": "code",
      "metadata": {
        "id": "83Gj7MxGkezZ"
      },
      "source": [
        "model_history = model.fit(\n",
        "    train_data, \n",
        "    epochs=EPOCHS, \n",
        "    validation_data=val_data, \n",
        "    callbacks=[checkpoint_callback]\n",
        ")"
      ],
      "execution_count": 61,
      "outputs": [
        {
          "output_type": "stream",
          "name": "stdout",
          "text": [
            "Epoch 1/30\n",
            "905/905 [==============================] - 2132s 2s/step - loss: 2.7915 - accuracy: 0.5235 - top_5_accuracy: 0.5742 - val_loss: 2.4616 - val_accuracy: 0.5662 - val_top_5_accuracy: 0.6231\n",
            "\n",
            "Epoch 00001: saving model to checkpoints/run_10\\cp-0001.ckpt\n",
            "Epoch 2/30\n",
            "905/905 [==============================] - 2009s 2s/step - loss: 2.7902 - accuracy: 0.5230 - top_5_accuracy: 0.5793 - val_loss: 2.4440 - val_accuracy: 0.5659 - val_top_5_accuracy: 0.6280\n",
            "\n",
            "Epoch 00002: saving model to checkpoints/run_10\\cp-0002.ckpt\n",
            "Epoch 3/30\n",
            "905/905 [==============================] - 1818s 2s/step - loss: 2.7871 - accuracy: 0.5238 - top_5_accuracy: 0.5779 - val_loss: 2.4336 - val_accuracy: 0.5663 - val_top_5_accuracy: 0.6296\n",
            "\n",
            "Epoch 00003: saving model to checkpoints/run_10\\cp-0003.ckpt\n",
            "Epoch 4/30\n",
            "905/905 [==============================] - 1833s 2s/step - loss: 2.7825 - accuracy: 0.5227 - top_5_accuracy: 0.5797 - val_loss: 2.4310 - val_accuracy: 0.5666 - val_top_5_accuracy: 0.6341\n",
            "\n",
            "Epoch 00004: saving model to checkpoints/run_10\\cp-0004.ckpt\n",
            "Epoch 5/30\n",
            "905/905 [==============================] - 1800s 2s/step - loss: 2.7766 - accuracy: 0.5225 - top_5_accuracy: 0.5810 - val_loss: 2.4384 - val_accuracy: 0.5664 - val_top_5_accuracy: 0.6328\n",
            "\n",
            "Epoch 00005: saving model to checkpoints/run_10\\cp-0005.ckpt\n",
            "Epoch 6/30\n",
            "905/905 [==============================] - 1819s 2s/step - loss: 2.7609 - accuracy: 0.5258 - top_5_accuracy: 0.5843 - val_loss: 2.4548 - val_accuracy: 0.5671 - val_top_5_accuracy: 0.6323\n",
            "\n",
            "Epoch 00006: saving model to checkpoints/run_10\\cp-0006.ckpt\n",
            "Epoch 7/30\n",
            "905/905 [==============================] - 1826s 2s/step - loss: 2.7574 - accuracy: 0.5253 - top_5_accuracy: 0.5856 - val_loss: 2.4609 - val_accuracy: 0.5664 - val_top_5_accuracy: 0.6357\n",
            "\n",
            "Epoch 00007: saving model to checkpoints/run_10\\cp-0007.ckpt\n",
            "Epoch 8/30\n",
            "905/905 [==============================] - 1832s 2s/step - loss: 2.7583 - accuracy: 0.5235 - top_5_accuracy: 0.5862 - val_loss: 2.4809 - val_accuracy: 0.5667 - val_top_5_accuracy: 0.6314\n",
            "\n",
            "Epoch 00008: saving model to checkpoints/run_10\\cp-0008.ckpt\n",
            "Epoch 9/30\n",
            "905/905 [==============================] - 1828s 2s/step - loss: 2.7563 - accuracy: 0.5232 - top_5_accuracy: 0.5839 - val_loss: 2.4771 - val_accuracy: 0.5674 - val_top_5_accuracy: 0.6356\n",
            "\n",
            "Epoch 00009: saving model to checkpoints/run_10\\cp-0009.ckpt\n",
            "Epoch 10/30\n",
            "905/905 [==============================] - 1826s 2s/step - loss: 2.7611 - accuracy: 0.5222 - top_5_accuracy: 0.5855 - val_loss: 2.5634 - val_accuracy: 0.5682 - val_top_5_accuracy: 0.6288\n",
            "\n",
            "Epoch 00010: saving model to checkpoints/run_10\\cp-0010.ckpt\n",
            "Epoch 11/30\n",
            "905/905 [==============================] - 1809s 2s/step - loss: 2.7497 - accuracy: 0.5233 - top_5_accuracy: 0.5869 - val_loss: 2.3909 - val_accuracy: 0.5678 - val_top_5_accuracy: 0.6399\n",
            "\n",
            "Epoch 00011: saving model to checkpoints/run_10\\cp-0011.ckpt\n",
            "Epoch 12/30\n",
            "905/905 [==============================] - 1821s 2s/step - loss: 2.7504 - accuracy: 0.5226 - top_5_accuracy: 0.5856 - val_loss: 2.4810 - val_accuracy: 0.5666 - val_top_5_accuracy: 0.6332\n",
            "\n",
            "Epoch 00012: saving model to checkpoints/run_10\\cp-0012.ckpt\n",
            "Epoch 13/30\n",
            "905/905 [==============================] - 1817s 2s/step - loss: 2.7618 - accuracy: 0.5210 - top_5_accuracy: 0.5880 - val_loss: 2.4283 - val_accuracy: 0.5679 - val_top_5_accuracy: 0.6376\n",
            "\n",
            "Epoch 00013: saving model to checkpoints/run_10\\cp-0013.ckpt\n",
            "Epoch 14/30\n",
            "905/905 [==============================] - 1836s 2s/step - loss: 2.7412 - accuracy: 0.5237 - top_5_accuracy: 0.5889 - val_loss: 2.4292 - val_accuracy: 0.5692 - val_top_5_accuracy: 0.6400\n",
            "\n",
            "Epoch 00014: saving model to checkpoints/run_10\\cp-0014.ckpt\n",
            "Epoch 15/30\n",
            "905/905 [==============================] - 1812s 2s/step - loss: 2.7490 - accuracy: 0.5219 - top_5_accuracy: 0.5902 - val_loss: 2.4262 - val_accuracy: 0.5691 - val_top_5_accuracy: 0.6393\n",
            "\n",
            "Epoch 00015: saving model to checkpoints/run_10\\cp-0015.ckpt\n",
            "Epoch 16/30\n",
            "905/905 [==============================] - 1835s 2s/step - loss: 2.7487 - accuracy: 0.5241 - top_5_accuracy: 0.5903 - val_loss: 2.4406 - val_accuracy: 0.5684 - val_top_5_accuracy: 0.6389\n",
            "\n",
            "Epoch 00016: saving model to checkpoints/run_10\\cp-0016.ckpt\n",
            "Epoch 17/30\n",
            "905/905 [==============================] - 1815s 2s/step - loss: 2.7398 - accuracy: 0.5227 - top_5_accuracy: 0.5900 - val_loss: 2.4087 - val_accuracy: 0.5679 - val_top_5_accuracy: 0.6425\n",
            "\n",
            "Epoch 00017: saving model to checkpoints/run_10\\cp-0017.ckpt\n",
            "Epoch 18/30\n",
            "905/905 [==============================] - 1824s 2s/step - loss: 2.7324 - accuracy: 0.5242 - top_5_accuracy: 0.5935 - val_loss: 2.4920 - val_accuracy: 0.5678 - val_top_5_accuracy: 0.6361\n",
            "\n",
            "Epoch 00018: saving model to checkpoints/run_10\\cp-0018.ckpt\n",
            "Epoch 19/30\n",
            "905/905 [==============================] - 1825s 2s/step - loss: 2.7353 - accuracy: 0.5230 - top_5_accuracy: 0.5919 - val_loss: 2.5039 - val_accuracy: 0.5698 - val_top_5_accuracy: 0.6411\n",
            "\n",
            "Epoch 00019: saving model to checkpoints/run_10\\cp-0019.ckpt\n",
            "Epoch 20/30\n",
            "905/905 [==============================] - 1824s 2s/step - loss: 2.7216 - accuracy: 0.5246 - top_5_accuracy: 0.5913 - val_loss: 2.6905 - val_accuracy: 0.5660 - val_top_5_accuracy: 0.6290\n",
            "\n",
            "Epoch 00020: saving model to checkpoints/run_10\\cp-0020.ckpt\n",
            "Epoch 21/30\n",
            "905/905 [==============================] - 1848s 2s/step - loss: 2.7411 - accuracy: 0.5239 - top_5_accuracy: 0.5910 - val_loss: 2.4016 - val_accuracy: 0.5690 - val_top_5_accuracy: 0.6461\n",
            "\n",
            "Epoch 00021: saving model to checkpoints/run_10\\cp-0021.ckpt\n",
            "Epoch 22/30\n",
            "905/905 [==============================] - 1878s 2s/step - loss: 2.7354 - accuracy: 0.5226 - top_5_accuracy: 0.5905 - val_loss: 2.4735 - val_accuracy: 0.5689 - val_top_5_accuracy: 0.6435\n",
            "\n",
            "Epoch 00022: saving model to checkpoints/run_10\\cp-0022.ckpt\n",
            "Epoch 23/30\n",
            "905/905 [==============================] - 2091s 2s/step - loss: 2.7421 - accuracy: 0.5232 - top_5_accuracy: 0.5905 - val_loss: 2.4794 - val_accuracy: 0.5700 - val_top_5_accuracy: 0.6395\n",
            "\n",
            "Epoch 00023: saving model to checkpoints/run_10\\cp-0023.ckpt\n",
            "Epoch 24/30\n",
            "905/905 [==============================] - 2345s 3s/step - loss: 2.7178 - accuracy: 0.5256 - top_5_accuracy: 0.5950 - val_loss: 2.5519 - val_accuracy: 0.5688 - val_top_5_accuracy: 0.6344\n",
            "\n",
            "Epoch 00024: saving model to checkpoints/run_10\\cp-0024.ckpt\n",
            "Epoch 25/30\n",
            "905/905 [==============================] - 2661s 3s/step - loss: 2.7393 - accuracy: 0.5216 - top_5_accuracy: 0.5918 - val_loss: 2.4929 - val_accuracy: 0.5692 - val_top_5_accuracy: 0.6408\n",
            "\n",
            "Epoch 00025: saving model to checkpoints/run_10\\cp-0025.ckpt\n",
            "Epoch 26/30\n",
            "905/905 [==============================] - 2237s 2s/step - loss: 2.7266 - accuracy: 0.5233 - top_5_accuracy: 0.5937 - val_loss: 2.5542 - val_accuracy: 0.5711 - val_top_5_accuracy: 0.6451\n",
            "\n",
            "Epoch 00026: saving model to checkpoints/run_10\\cp-0026.ckpt\n",
            "Epoch 27/30\n",
            "905/905 [==============================] - 1854s 2s/step - loss: 2.7197 - accuracy: 0.5241 - top_5_accuracy: 0.5964 - val_loss: 2.4293 - val_accuracy: 0.5676 - val_top_5_accuracy: 0.6425\n",
            "\n",
            "Epoch 00027: saving model to checkpoints/run_10\\cp-0027.ckpt\n",
            "Epoch 28/30\n",
            "905/905 [==============================] - 2250s 2s/step - loss: 2.7395 - accuracy: 0.5227 - top_5_accuracy: 0.5919 - val_loss: 2.4780 - val_accuracy: 0.5703 - val_top_5_accuracy: 0.6472\n",
            "\n",
            "Epoch 00028: saving model to checkpoints/run_10\\cp-0028.ckpt\n",
            "Epoch 29/30\n",
            "905/905 [==============================] - 2459s 3s/step - loss: 2.7330 - accuracy: 0.5235 - top_5_accuracy: 0.5945 - val_loss: 2.4446 - val_accuracy: 0.5694 - val_top_5_accuracy: 0.6424\n",
            "\n",
            "Epoch 00029: saving model to checkpoints/run_10\\cp-0029.ckpt\n",
            "Epoch 30/30\n",
            "905/905 [==============================] - 2762s 3s/step - loss: 2.7247 - accuracy: 0.5238 - top_5_accuracy: 0.5937 - val_loss: 2.4507 - val_accuracy: 0.5681 - val_top_5_accuracy: 0.6464\n",
            "\n",
            "Epoch 00030: saving model to checkpoints/run_10\\cp-0030.ckpt\n"
          ]
        }
      ]
    },
    {
      "cell_type": "code",
      "execution_count": 74,
      "metadata": {},
      "outputs": [],
      "source": [
        "# ============================\n",
        "# !!!!!! SET NEW RUN ID !!!!!!\n",
        "# ============================\n",
        "checkpoint_callback = tf.keras.callbacks.ModelCheckpoint(\n",
        "    filepath=\"checkpoints/run_11/cp-{epoch:04d}.ckpt\", \n",
        "    verbose=1, \n",
        "    save_weights_only=True)"
      ]
    },
    {
      "cell_type": "code",
      "execution_count": null,
      "metadata": {},
      "outputs": [],
      "source": [
        "model_history_second = model.fit(\n",
        "    train_data, \n",
        "    epochs=EPOCHS + 30, \n",
        "    initial_epoch=model_history.epoch[-1],\n",
        "    callbacks=[checkpoint_callback]\n",
        ")"
      ]
    },
    {
      "cell_type": "code",
      "metadata": {
        "id": "KXBQzWGZkezq"
      },
      "source": [
        "loss = model_history.history['loss'].copy()\n",
        "val_loss = model_history.history['val_loss'].copy()\n",
        "\n",
        "plt.figure()\n",
        "plt.plot(range(EPOCHS), loss, 'r', label='Training loss')\n",
        "plt.plot(range(EPOCHS), val_loss, 'bo', label='Validation loss')\n",
        "plt.title('Training and Validation Loss')\n",
        "plt.xlabel('Epoch')\n",
        "plt.ylabel('Loss Value')\n",
        "plt.ylim([2.3,2.8])\n",
        "plt.legend()\n",
        "plt.show()"
      ],
      "execution_count": 67,
      "outputs": [
        {
          "output_type": "display_data",
          "data": {
            "text/plain": "<Figure size 432x288 with 1 Axes>",
            "image/svg+xml": "<?xml version=\"1.0\" encoding=\"utf-8\" standalone=\"no\"?>\r\n<!DOCTYPE svg PUBLIC \"-//W3C//DTD SVG 1.1//EN\"\r\n  \"http://www.w3.org/Graphics/SVG/1.1/DTD/svg11.dtd\">\r\n<!-- Created with matplotlib (https://matplotlib.org/) -->\r\n<svg height=\"277.314375pt\" version=\"1.1\" viewBox=\"0 0 387.420866 277.314375\" width=\"387.420866pt\" xmlns=\"http://www.w3.org/2000/svg\" xmlns:xlink=\"http://www.w3.org/1999/xlink\">\r\n <defs>\r\n  <style type=\"text/css\">\r\n*{stroke-linecap:butt;stroke-linejoin:round;}\r\n  </style>\r\n </defs>\r\n <g id=\"figure_1\">\r\n  <g id=\"patch_1\">\r\n   <path d=\"M 0 277.314375 \r\nL 387.420866 277.314375 \r\nL 387.420866 0 \r\nL 0 0 \r\nz\r\n\" style=\"fill:none;\"/>\r\n  </g>\r\n  <g id=\"axes_1\">\r\n   <g id=\"patch_2\">\r\n    <path d=\"M 43.78125 239.758125 \r\nL 378.58125 239.758125 \r\nL 378.58125 22.318125 \r\nL 43.78125 22.318125 \r\nz\r\n\" style=\"fill:#ffffff;\"/>\r\n   </g>\r\n   <g id=\"matplotlib.axis_1\">\r\n    <g id=\"xtick_1\">\r\n     <g id=\"line2d_1\">\r\n      <defs>\r\n       <path d=\"M 0 0 \r\nL 0 3.5 \r\n\" id=\"mae8c3be62a\" style=\"stroke:#000000;stroke-width:0.8;\"/>\r\n      </defs>\r\n      <g>\r\n       <use style=\"stroke:#000000;stroke-width:0.8;\" x=\"58.999432\" xlink:href=\"#mae8c3be62a\" y=\"239.758125\"/>\r\n      </g>\r\n     </g>\r\n     <g id=\"text_1\">\r\n      <!-- 0 -->\r\n      <defs>\r\n       <path d=\"M 31.78125 66.40625 \r\nQ 24.171875 66.40625 20.328125 58.90625 \r\nQ 16.5 51.421875 16.5 36.375 \r\nQ 16.5 21.390625 20.328125 13.890625 \r\nQ 24.171875 6.390625 31.78125 6.390625 \r\nQ 39.453125 6.390625 43.28125 13.890625 \r\nQ 47.125 21.390625 47.125 36.375 \r\nQ 47.125 51.421875 43.28125 58.90625 \r\nQ 39.453125 66.40625 31.78125 66.40625 \r\nz\r\nM 31.78125 74.21875 \r\nQ 44.046875 74.21875 50.515625 64.515625 \r\nQ 56.984375 54.828125 56.984375 36.375 \r\nQ 56.984375 17.96875 50.515625 8.265625 \r\nQ 44.046875 -1.421875 31.78125 -1.421875 \r\nQ 19.53125 -1.421875 13.0625 8.265625 \r\nQ 6.59375 17.96875 6.59375 36.375 \r\nQ 6.59375 54.828125 13.0625 64.515625 \r\nQ 19.53125 74.21875 31.78125 74.21875 \r\nz\r\n\" id=\"DejaVuSans-48\"/>\r\n      </defs>\r\n      <g transform=\"translate(55.818182 254.356562)scale(0.1 -0.1)\">\r\n       <use xlink:href=\"#DejaVuSans-48\"/>\r\n      </g>\r\n     </g>\r\n    </g>\r\n    <g id=\"xtick_2\">\r\n     <g id=\"line2d_2\">\r\n      <g>\r\n       <use style=\"stroke:#000000;stroke-width:0.8;\" x=\"111.475921\" xlink:href=\"#mae8c3be62a\" y=\"239.758125\"/>\r\n      </g>\r\n     </g>\r\n     <g id=\"text_2\">\r\n      <!-- 5 -->\r\n      <defs>\r\n       <path d=\"M 10.796875 72.90625 \r\nL 49.515625 72.90625 \r\nL 49.515625 64.59375 \r\nL 19.828125 64.59375 \r\nL 19.828125 46.734375 \r\nQ 21.96875 47.46875 24.109375 47.828125 \r\nQ 26.265625 48.1875 28.421875 48.1875 \r\nQ 40.625 48.1875 47.75 41.5 \r\nQ 54.890625 34.8125 54.890625 23.390625 \r\nQ 54.890625 11.625 47.5625 5.09375 \r\nQ 40.234375 -1.421875 26.90625 -1.421875 \r\nQ 22.3125 -1.421875 17.546875 -0.640625 \r\nQ 12.796875 0.140625 7.71875 1.703125 \r\nL 7.71875 11.625 \r\nQ 12.109375 9.234375 16.796875 8.0625 \r\nQ 21.484375 6.890625 26.703125 6.890625 \r\nQ 35.15625 6.890625 40.078125 11.328125 \r\nQ 45.015625 15.765625 45.015625 23.390625 \r\nQ 45.015625 31 40.078125 35.4375 \r\nQ 35.15625 39.890625 26.703125 39.890625 \r\nQ 22.75 39.890625 18.8125 39.015625 \r\nQ 14.890625 38.140625 10.796875 36.28125 \r\nz\r\n\" id=\"DejaVuSans-53\"/>\r\n      </defs>\r\n      <g transform=\"translate(108.294671 254.356562)scale(0.1 -0.1)\">\r\n       <use xlink:href=\"#DejaVuSans-53\"/>\r\n      </g>\r\n     </g>\r\n    </g>\r\n    <g id=\"xtick_3\">\r\n     <g id=\"line2d_3\">\r\n      <g>\r\n       <use style=\"stroke:#000000;stroke-width:0.8;\" x=\"163.95241\" xlink:href=\"#mae8c3be62a\" y=\"239.758125\"/>\r\n      </g>\r\n     </g>\r\n     <g id=\"text_3\">\r\n      <!-- 10 -->\r\n      <defs>\r\n       <path d=\"M 12.40625 8.296875 \r\nL 28.515625 8.296875 \r\nL 28.515625 63.921875 \r\nL 10.984375 60.40625 \r\nL 10.984375 69.390625 \r\nL 28.421875 72.90625 \r\nL 38.28125 72.90625 \r\nL 38.28125 8.296875 \r\nL 54.390625 8.296875 \r\nL 54.390625 0 \r\nL 12.40625 0 \r\nz\r\n\" id=\"DejaVuSans-49\"/>\r\n      </defs>\r\n      <g transform=\"translate(157.58991 254.356562)scale(0.1 -0.1)\">\r\n       <use xlink:href=\"#DejaVuSans-49\"/>\r\n       <use x=\"63.623047\" xlink:href=\"#DejaVuSans-48\"/>\r\n      </g>\r\n     </g>\r\n    </g>\r\n    <g id=\"xtick_4\">\r\n     <g id=\"line2d_4\">\r\n      <g>\r\n       <use style=\"stroke:#000000;stroke-width:0.8;\" x=\"216.428899\" xlink:href=\"#mae8c3be62a\" y=\"239.758125\"/>\r\n      </g>\r\n     </g>\r\n     <g id=\"text_4\">\r\n      <!-- 15 -->\r\n      <g transform=\"translate(210.066399 254.356562)scale(0.1 -0.1)\">\r\n       <use xlink:href=\"#DejaVuSans-49\"/>\r\n       <use x=\"63.623047\" xlink:href=\"#DejaVuSans-53\"/>\r\n      </g>\r\n     </g>\r\n    </g>\r\n    <g id=\"xtick_5\">\r\n     <g id=\"line2d_5\">\r\n      <g>\r\n       <use style=\"stroke:#000000;stroke-width:0.8;\" x=\"268.905388\" xlink:href=\"#mae8c3be62a\" y=\"239.758125\"/>\r\n      </g>\r\n     </g>\r\n     <g id=\"text_5\">\r\n      <!-- 20 -->\r\n      <defs>\r\n       <path d=\"M 19.1875 8.296875 \r\nL 53.609375 8.296875 \r\nL 53.609375 0 \r\nL 7.328125 0 \r\nL 7.328125 8.296875 \r\nQ 12.9375 14.109375 22.625 23.890625 \r\nQ 32.328125 33.6875 34.8125 36.53125 \r\nQ 39.546875 41.84375 41.421875 45.53125 \r\nQ 43.3125 49.21875 43.3125 52.78125 \r\nQ 43.3125 58.59375 39.234375 62.25 \r\nQ 35.15625 65.921875 28.609375 65.921875 \r\nQ 23.96875 65.921875 18.8125 64.3125 \r\nQ 13.671875 62.703125 7.8125 59.421875 \r\nL 7.8125 69.390625 \r\nQ 13.765625 71.78125 18.9375 73 \r\nQ 24.125 74.21875 28.421875 74.21875 \r\nQ 39.75 74.21875 46.484375 68.546875 \r\nQ 53.21875 62.890625 53.21875 53.421875 \r\nQ 53.21875 48.921875 51.53125 44.890625 \r\nQ 49.859375 40.875 45.40625 35.40625 \r\nQ 44.1875 33.984375 37.640625 27.21875 \r\nQ 31.109375 20.453125 19.1875 8.296875 \r\nz\r\n\" id=\"DejaVuSans-50\"/>\r\n      </defs>\r\n      <g transform=\"translate(262.542888 254.356562)scale(0.1 -0.1)\">\r\n       <use xlink:href=\"#DejaVuSans-50\"/>\r\n       <use x=\"63.623047\" xlink:href=\"#DejaVuSans-48\"/>\r\n      </g>\r\n     </g>\r\n    </g>\r\n    <g id=\"xtick_6\">\r\n     <g id=\"line2d_6\">\r\n      <g>\r\n       <use style=\"stroke:#000000;stroke-width:0.8;\" x=\"321.381877\" xlink:href=\"#mae8c3be62a\" y=\"239.758125\"/>\r\n      </g>\r\n     </g>\r\n     <g id=\"text_6\">\r\n      <!-- 25 -->\r\n      <g transform=\"translate(315.019377 254.356562)scale(0.1 -0.1)\">\r\n       <use xlink:href=\"#DejaVuSans-50\"/>\r\n       <use x=\"63.623047\" xlink:href=\"#DejaVuSans-53\"/>\r\n      </g>\r\n     </g>\r\n    </g>\r\n    <g id=\"xtick_7\">\r\n     <g id=\"line2d_7\">\r\n      <g>\r\n       <use style=\"stroke:#000000;stroke-width:0.8;\" x=\"373.858366\" xlink:href=\"#mae8c3be62a\" y=\"239.758125\"/>\r\n      </g>\r\n     </g>\r\n     <g id=\"text_7\">\r\n      <!-- 30 -->\r\n      <defs>\r\n       <path d=\"M 40.578125 39.3125 \r\nQ 47.65625 37.796875 51.625 33 \r\nQ 55.609375 28.21875 55.609375 21.1875 \r\nQ 55.609375 10.40625 48.1875 4.484375 \r\nQ 40.765625 -1.421875 27.09375 -1.421875 \r\nQ 22.515625 -1.421875 17.65625 -0.515625 \r\nQ 12.796875 0.390625 7.625 2.203125 \r\nL 7.625 11.71875 \r\nQ 11.71875 9.328125 16.59375 8.109375 \r\nQ 21.484375 6.890625 26.8125 6.890625 \r\nQ 36.078125 6.890625 40.9375 10.546875 \r\nQ 45.796875 14.203125 45.796875 21.1875 \r\nQ 45.796875 27.640625 41.28125 31.265625 \r\nQ 36.765625 34.90625 28.71875 34.90625 \r\nL 20.21875 34.90625 \r\nL 20.21875 43.015625 \r\nL 29.109375 43.015625 \r\nQ 36.375 43.015625 40.234375 45.921875 \r\nQ 44.09375 48.828125 44.09375 54.296875 \r\nQ 44.09375 59.90625 40.109375 62.90625 \r\nQ 36.140625 65.921875 28.71875 65.921875 \r\nQ 24.65625 65.921875 20.015625 65.03125 \r\nQ 15.375 64.15625 9.8125 62.3125 \r\nL 9.8125 71.09375 \r\nQ 15.4375 72.65625 20.34375 73.4375 \r\nQ 25.25 74.21875 29.59375 74.21875 \r\nQ 40.828125 74.21875 47.359375 69.109375 \r\nQ 53.90625 64.015625 53.90625 55.328125 \r\nQ 53.90625 49.265625 50.4375 45.09375 \r\nQ 46.96875 40.921875 40.578125 39.3125 \r\nz\r\n\" id=\"DejaVuSans-51\"/>\r\n      </defs>\r\n      <g transform=\"translate(367.495866 254.356562)scale(0.1 -0.1)\">\r\n       <use xlink:href=\"#DejaVuSans-51\"/>\r\n       <use x=\"63.623047\" xlink:href=\"#DejaVuSans-48\"/>\r\n      </g>\r\n     </g>\r\n    </g>\r\n    <g id=\"text_8\">\r\n     <!-- Epoch -->\r\n     <defs>\r\n      <path d=\"M 9.8125 72.90625 \r\nL 55.90625 72.90625 \r\nL 55.90625 64.59375 \r\nL 19.671875 64.59375 \r\nL 19.671875 43.015625 \r\nL 54.390625 43.015625 \r\nL 54.390625 34.71875 \r\nL 19.671875 34.71875 \r\nL 19.671875 8.296875 \r\nL 56.78125 8.296875 \r\nL 56.78125 0 \r\nL 9.8125 0 \r\nz\r\n\" id=\"DejaVuSans-69\"/>\r\n      <path d=\"M 18.109375 8.203125 \r\nL 18.109375 -20.796875 \r\nL 9.078125 -20.796875 \r\nL 9.078125 54.6875 \r\nL 18.109375 54.6875 \r\nL 18.109375 46.390625 \r\nQ 20.953125 51.265625 25.265625 53.625 \r\nQ 29.59375 56 35.59375 56 \r\nQ 45.5625 56 51.78125 48.09375 \r\nQ 58.015625 40.1875 58.015625 27.296875 \r\nQ 58.015625 14.40625 51.78125 6.484375 \r\nQ 45.5625 -1.421875 35.59375 -1.421875 \r\nQ 29.59375 -1.421875 25.265625 0.953125 \r\nQ 20.953125 3.328125 18.109375 8.203125 \r\nz\r\nM 48.6875 27.296875 \r\nQ 48.6875 37.203125 44.609375 42.84375 \r\nQ 40.53125 48.484375 33.40625 48.484375 \r\nQ 26.265625 48.484375 22.1875 42.84375 \r\nQ 18.109375 37.203125 18.109375 27.296875 \r\nQ 18.109375 17.390625 22.1875 11.75 \r\nQ 26.265625 6.109375 33.40625 6.109375 \r\nQ 40.53125 6.109375 44.609375 11.75 \r\nQ 48.6875 17.390625 48.6875 27.296875 \r\nz\r\n\" id=\"DejaVuSans-112\"/>\r\n      <path d=\"M 30.609375 48.390625 \r\nQ 23.390625 48.390625 19.1875 42.75 \r\nQ 14.984375 37.109375 14.984375 27.296875 \r\nQ 14.984375 17.484375 19.15625 11.84375 \r\nQ 23.34375 6.203125 30.609375 6.203125 \r\nQ 37.796875 6.203125 41.984375 11.859375 \r\nQ 46.1875 17.53125 46.1875 27.296875 \r\nQ 46.1875 37.015625 41.984375 42.703125 \r\nQ 37.796875 48.390625 30.609375 48.390625 \r\nz\r\nM 30.609375 56 \r\nQ 42.328125 56 49.015625 48.375 \r\nQ 55.71875 40.765625 55.71875 27.296875 \r\nQ 55.71875 13.875 49.015625 6.21875 \r\nQ 42.328125 -1.421875 30.609375 -1.421875 \r\nQ 18.84375 -1.421875 12.171875 6.21875 \r\nQ 5.515625 13.875 5.515625 27.296875 \r\nQ 5.515625 40.765625 12.171875 48.375 \r\nQ 18.84375 56 30.609375 56 \r\nz\r\n\" id=\"DejaVuSans-111\"/>\r\n      <path d=\"M 48.78125 52.59375 \r\nL 48.78125 44.1875 \r\nQ 44.96875 46.296875 41.140625 47.34375 \r\nQ 37.3125 48.390625 33.40625 48.390625 \r\nQ 24.65625 48.390625 19.8125 42.84375 \r\nQ 14.984375 37.3125 14.984375 27.296875 \r\nQ 14.984375 17.28125 19.8125 11.734375 \r\nQ 24.65625 6.203125 33.40625 6.203125 \r\nQ 37.3125 6.203125 41.140625 7.25 \r\nQ 44.96875 8.296875 48.78125 10.40625 \r\nL 48.78125 2.09375 \r\nQ 45.015625 0.34375 40.984375 -0.53125 \r\nQ 36.96875 -1.421875 32.421875 -1.421875 \r\nQ 20.0625 -1.421875 12.78125 6.34375 \r\nQ 5.515625 14.109375 5.515625 27.296875 \r\nQ 5.515625 40.671875 12.859375 48.328125 \r\nQ 20.21875 56 33.015625 56 \r\nQ 37.15625 56 41.109375 55.140625 \r\nQ 45.0625 54.296875 48.78125 52.59375 \r\nz\r\n\" id=\"DejaVuSans-99\"/>\r\n      <path d=\"M 54.890625 33.015625 \r\nL 54.890625 0 \r\nL 45.90625 0 \r\nL 45.90625 32.71875 \r\nQ 45.90625 40.484375 42.875 44.328125 \r\nQ 39.84375 48.1875 33.796875 48.1875 \r\nQ 26.515625 48.1875 22.3125 43.546875 \r\nQ 18.109375 38.921875 18.109375 30.90625 \r\nL 18.109375 0 \r\nL 9.078125 0 \r\nL 9.078125 75.984375 \r\nL 18.109375 75.984375 \r\nL 18.109375 46.1875 \r\nQ 21.34375 51.125 25.703125 53.5625 \r\nQ 30.078125 56 35.796875 56 \r\nQ 45.21875 56 50.046875 50.171875 \r\nQ 54.890625 44.34375 54.890625 33.015625 \r\nz\r\n\" id=\"DejaVuSans-104\"/>\r\n     </defs>\r\n     <g transform=\"translate(195.870313 268.034687)scale(0.1 -0.1)\">\r\n      <use xlink:href=\"#DejaVuSans-69\"/>\r\n      <use x=\"63.183594\" xlink:href=\"#DejaVuSans-112\"/>\r\n      <use x=\"126.660156\" xlink:href=\"#DejaVuSans-111\"/>\r\n      <use x=\"187.841797\" xlink:href=\"#DejaVuSans-99\"/>\r\n      <use x=\"242.822266\" xlink:href=\"#DejaVuSans-104\"/>\r\n     </g>\r\n    </g>\r\n   </g>\r\n   <g id=\"matplotlib.axis_2\">\r\n    <g id=\"ytick_1\">\r\n     <g id=\"line2d_8\">\r\n      <defs>\r\n       <path d=\"M 0 0 \r\nL -3.5 0 \r\n\" id=\"m44aa56ddca\" style=\"stroke:#000000;stroke-width:0.8;\"/>\r\n      </defs>\r\n      <g>\r\n       <use style=\"stroke:#000000;stroke-width:0.8;\" x=\"43.78125\" xlink:href=\"#m44aa56ddca\" y=\"239.758125\"/>\r\n      </g>\r\n     </g>\r\n     <g id=\"text_9\">\r\n      <!-- 2.3 -->\r\n      <defs>\r\n       <path d=\"M 10.6875 12.40625 \r\nL 21 12.40625 \r\nL 21 0 \r\nL 10.6875 0 \r\nz\r\n\" id=\"DejaVuSans-46\"/>\r\n      </defs>\r\n      <g transform=\"translate(20.878125 243.557344)scale(0.1 -0.1)\">\r\n       <use xlink:href=\"#DejaVuSans-50\"/>\r\n       <use x=\"63.623047\" xlink:href=\"#DejaVuSans-46\"/>\r\n       <use x=\"95.410156\" xlink:href=\"#DejaVuSans-51\"/>\r\n      </g>\r\n     </g>\r\n    </g>\r\n    <g id=\"ytick_2\">\r\n     <g id=\"line2d_9\">\r\n      <g>\r\n       <use style=\"stroke:#000000;stroke-width:0.8;\" x=\"43.78125\" xlink:href=\"#m44aa56ddca\" y=\"196.270125\"/>\r\n      </g>\r\n     </g>\r\n     <g id=\"text_10\">\r\n      <!-- 2.4 -->\r\n      <defs>\r\n       <path d=\"M 37.796875 64.3125 \r\nL 12.890625 25.390625 \r\nL 37.796875 25.390625 \r\nz\r\nM 35.203125 72.90625 \r\nL 47.609375 72.90625 \r\nL 47.609375 25.390625 \r\nL 58.015625 25.390625 \r\nL 58.015625 17.1875 \r\nL 47.609375 17.1875 \r\nL 47.609375 0 \r\nL 37.796875 0 \r\nL 37.796875 17.1875 \r\nL 4.890625 17.1875 \r\nL 4.890625 26.703125 \r\nz\r\n\" id=\"DejaVuSans-52\"/>\r\n      </defs>\r\n      <g transform=\"translate(20.878125 200.069344)scale(0.1 -0.1)\">\r\n       <use xlink:href=\"#DejaVuSans-50\"/>\r\n       <use x=\"63.623047\" xlink:href=\"#DejaVuSans-46\"/>\r\n       <use x=\"95.410156\" xlink:href=\"#DejaVuSans-52\"/>\r\n      </g>\r\n     </g>\r\n    </g>\r\n    <g id=\"ytick_3\">\r\n     <g id=\"line2d_10\">\r\n      <g>\r\n       <use style=\"stroke:#000000;stroke-width:0.8;\" x=\"43.78125\" xlink:href=\"#m44aa56ddca\" y=\"152.782125\"/>\r\n      </g>\r\n     </g>\r\n     <g id=\"text_11\">\r\n      <!-- 2.5 -->\r\n      <g transform=\"translate(20.878125 156.581344)scale(0.1 -0.1)\">\r\n       <use xlink:href=\"#DejaVuSans-50\"/>\r\n       <use x=\"63.623047\" xlink:href=\"#DejaVuSans-46\"/>\r\n       <use x=\"95.410156\" xlink:href=\"#DejaVuSans-53\"/>\r\n      </g>\r\n     </g>\r\n    </g>\r\n    <g id=\"ytick_4\">\r\n     <g id=\"line2d_11\">\r\n      <g>\r\n       <use style=\"stroke:#000000;stroke-width:0.8;\" x=\"43.78125\" xlink:href=\"#m44aa56ddca\" y=\"109.294125\"/>\r\n      </g>\r\n     </g>\r\n     <g id=\"text_12\">\r\n      <!-- 2.6 -->\r\n      <defs>\r\n       <path d=\"M 33.015625 40.375 \r\nQ 26.375 40.375 22.484375 35.828125 \r\nQ 18.609375 31.296875 18.609375 23.390625 \r\nQ 18.609375 15.53125 22.484375 10.953125 \r\nQ 26.375 6.390625 33.015625 6.390625 \r\nQ 39.65625 6.390625 43.53125 10.953125 \r\nQ 47.40625 15.53125 47.40625 23.390625 \r\nQ 47.40625 31.296875 43.53125 35.828125 \r\nQ 39.65625 40.375 33.015625 40.375 \r\nz\r\nM 52.59375 71.296875 \r\nL 52.59375 62.3125 \r\nQ 48.875 64.0625 45.09375 64.984375 \r\nQ 41.3125 65.921875 37.59375 65.921875 \r\nQ 27.828125 65.921875 22.671875 59.328125 \r\nQ 17.53125 52.734375 16.796875 39.40625 \r\nQ 19.671875 43.65625 24.015625 45.921875 \r\nQ 28.375 48.1875 33.59375 48.1875 \r\nQ 44.578125 48.1875 50.953125 41.515625 \r\nQ 57.328125 34.859375 57.328125 23.390625 \r\nQ 57.328125 12.15625 50.6875 5.359375 \r\nQ 44.046875 -1.421875 33.015625 -1.421875 \r\nQ 20.359375 -1.421875 13.671875 8.265625 \r\nQ 6.984375 17.96875 6.984375 36.375 \r\nQ 6.984375 53.65625 15.1875 63.9375 \r\nQ 23.390625 74.21875 37.203125 74.21875 \r\nQ 40.921875 74.21875 44.703125 73.484375 \r\nQ 48.484375 72.75 52.59375 71.296875 \r\nz\r\n\" id=\"DejaVuSans-54\"/>\r\n      </defs>\r\n      <g transform=\"translate(20.878125 113.093344)scale(0.1 -0.1)\">\r\n       <use xlink:href=\"#DejaVuSans-50\"/>\r\n       <use x=\"63.623047\" xlink:href=\"#DejaVuSans-46\"/>\r\n       <use x=\"95.410156\" xlink:href=\"#DejaVuSans-54\"/>\r\n      </g>\r\n     </g>\r\n    </g>\r\n    <g id=\"ytick_5\">\r\n     <g id=\"line2d_12\">\r\n      <g>\r\n       <use style=\"stroke:#000000;stroke-width:0.8;\" x=\"43.78125\" xlink:href=\"#m44aa56ddca\" y=\"65.806125\"/>\r\n      </g>\r\n     </g>\r\n     <g id=\"text_13\">\r\n      <!-- 2.7 -->\r\n      <defs>\r\n       <path d=\"M 8.203125 72.90625 \r\nL 55.078125 72.90625 \r\nL 55.078125 68.703125 \r\nL 28.609375 0 \r\nL 18.3125 0 \r\nL 43.21875 64.59375 \r\nL 8.203125 64.59375 \r\nz\r\n\" id=\"DejaVuSans-55\"/>\r\n      </defs>\r\n      <g transform=\"translate(20.878125 69.605344)scale(0.1 -0.1)\">\r\n       <use xlink:href=\"#DejaVuSans-50\"/>\r\n       <use x=\"63.623047\" xlink:href=\"#DejaVuSans-46\"/>\r\n       <use x=\"95.410156\" xlink:href=\"#DejaVuSans-55\"/>\r\n      </g>\r\n     </g>\r\n    </g>\r\n    <g id=\"ytick_6\">\r\n     <g id=\"line2d_13\">\r\n      <g>\r\n       <use style=\"stroke:#000000;stroke-width:0.8;\" x=\"43.78125\" xlink:href=\"#m44aa56ddca\" y=\"22.318125\"/>\r\n      </g>\r\n     </g>\r\n     <g id=\"text_14\">\r\n      <!-- 2.8 -->\r\n      <defs>\r\n       <path d=\"M 31.78125 34.625 \r\nQ 24.75 34.625 20.71875 30.859375 \r\nQ 16.703125 27.09375 16.703125 20.515625 \r\nQ 16.703125 13.921875 20.71875 10.15625 \r\nQ 24.75 6.390625 31.78125 6.390625 \r\nQ 38.8125 6.390625 42.859375 10.171875 \r\nQ 46.921875 13.96875 46.921875 20.515625 \r\nQ 46.921875 27.09375 42.890625 30.859375 \r\nQ 38.875 34.625 31.78125 34.625 \r\nz\r\nM 21.921875 38.8125 \r\nQ 15.578125 40.375 12.03125 44.71875 \r\nQ 8.5 49.078125 8.5 55.328125 \r\nQ 8.5 64.0625 14.71875 69.140625 \r\nQ 20.953125 74.21875 31.78125 74.21875 \r\nQ 42.671875 74.21875 48.875 69.140625 \r\nQ 55.078125 64.0625 55.078125 55.328125 \r\nQ 55.078125 49.078125 51.53125 44.71875 \r\nQ 48 40.375 41.703125 38.8125 \r\nQ 48.828125 37.15625 52.796875 32.3125 \r\nQ 56.78125 27.484375 56.78125 20.515625 \r\nQ 56.78125 9.90625 50.3125 4.234375 \r\nQ 43.84375 -1.421875 31.78125 -1.421875 \r\nQ 19.734375 -1.421875 13.25 4.234375 \r\nQ 6.78125 9.90625 6.78125 20.515625 \r\nQ 6.78125 27.484375 10.78125 32.3125 \r\nQ 14.796875 37.15625 21.921875 38.8125 \r\nz\r\nM 18.3125 54.390625 \r\nQ 18.3125 48.734375 21.84375 45.5625 \r\nQ 25.390625 42.390625 31.78125 42.390625 \r\nQ 38.140625 42.390625 41.71875 45.5625 \r\nQ 45.3125 48.734375 45.3125 54.390625 \r\nQ 45.3125 60.0625 41.71875 63.234375 \r\nQ 38.140625 66.40625 31.78125 66.40625 \r\nQ 25.390625 66.40625 21.84375 63.234375 \r\nQ 18.3125 60.0625 18.3125 54.390625 \r\nz\r\n\" id=\"DejaVuSans-56\"/>\r\n      </defs>\r\n      <g transform=\"translate(20.878125 26.117344)scale(0.1 -0.1)\">\r\n       <use xlink:href=\"#DejaVuSans-50\"/>\r\n       <use x=\"63.623047\" xlink:href=\"#DejaVuSans-46\"/>\r\n       <use x=\"95.410156\" xlink:href=\"#DejaVuSans-56\"/>\r\n      </g>\r\n     </g>\r\n    </g>\r\n    <g id=\"text_15\">\r\n     <!-- Loss Value -->\r\n     <defs>\r\n      <path d=\"M 9.8125 72.90625 \r\nL 19.671875 72.90625 \r\nL 19.671875 8.296875 \r\nL 55.171875 8.296875 \r\nL 55.171875 0 \r\nL 9.8125 0 \r\nz\r\n\" id=\"DejaVuSans-76\"/>\r\n      <path d=\"M 44.28125 53.078125 \r\nL 44.28125 44.578125 \r\nQ 40.484375 46.53125 36.375 47.5 \r\nQ 32.28125 48.484375 27.875 48.484375 \r\nQ 21.1875 48.484375 17.84375 46.4375 \r\nQ 14.5 44.390625 14.5 40.28125 \r\nQ 14.5 37.15625 16.890625 35.375 \r\nQ 19.28125 33.59375 26.515625 31.984375 \r\nL 29.59375 31.296875 \r\nQ 39.15625 29.25 43.1875 25.515625 \r\nQ 47.21875 21.78125 47.21875 15.09375 \r\nQ 47.21875 7.46875 41.1875 3.015625 \r\nQ 35.15625 -1.421875 24.609375 -1.421875 \r\nQ 20.21875 -1.421875 15.453125 -0.5625 \r\nQ 10.6875 0.296875 5.421875 2 \r\nL 5.421875 11.28125 \r\nQ 10.40625 8.6875 15.234375 7.390625 \r\nQ 20.0625 6.109375 24.8125 6.109375 \r\nQ 31.15625 6.109375 34.5625 8.28125 \r\nQ 37.984375 10.453125 37.984375 14.40625 \r\nQ 37.984375 18.0625 35.515625 20.015625 \r\nQ 33.0625 21.96875 24.703125 23.78125 \r\nL 21.578125 24.515625 \r\nQ 13.234375 26.265625 9.515625 29.90625 \r\nQ 5.8125 33.546875 5.8125 39.890625 \r\nQ 5.8125 47.609375 11.28125 51.796875 \r\nQ 16.75 56 26.8125 56 \r\nQ 31.78125 56 36.171875 55.265625 \r\nQ 40.578125 54.546875 44.28125 53.078125 \r\nz\r\n\" id=\"DejaVuSans-115\"/>\r\n      <path id=\"DejaVuSans-32\"/>\r\n      <path d=\"M 28.609375 0 \r\nL 0.78125 72.90625 \r\nL 11.078125 72.90625 \r\nL 34.1875 11.53125 \r\nL 57.328125 72.90625 \r\nL 67.578125 72.90625 \r\nL 39.796875 0 \r\nz\r\n\" id=\"DejaVuSans-86\"/>\r\n      <path d=\"M 34.28125 27.484375 \r\nQ 23.390625 27.484375 19.1875 25 \r\nQ 14.984375 22.515625 14.984375 16.5 \r\nQ 14.984375 11.71875 18.140625 8.90625 \r\nQ 21.296875 6.109375 26.703125 6.109375 \r\nQ 34.1875 6.109375 38.703125 11.40625 \r\nQ 43.21875 16.703125 43.21875 25.484375 \r\nL 43.21875 27.484375 \r\nz\r\nM 52.203125 31.203125 \r\nL 52.203125 0 \r\nL 43.21875 0 \r\nL 43.21875 8.296875 \r\nQ 40.140625 3.328125 35.546875 0.953125 \r\nQ 30.953125 -1.421875 24.3125 -1.421875 \r\nQ 15.921875 -1.421875 10.953125 3.296875 \r\nQ 6 8.015625 6 15.921875 \r\nQ 6 25.140625 12.171875 29.828125 \r\nQ 18.359375 34.515625 30.609375 34.515625 \r\nL 43.21875 34.515625 \r\nL 43.21875 35.40625 \r\nQ 43.21875 41.609375 39.140625 45 \r\nQ 35.0625 48.390625 27.6875 48.390625 \r\nQ 23 48.390625 18.546875 47.265625 \r\nQ 14.109375 46.140625 10.015625 43.890625 \r\nL 10.015625 52.203125 \r\nQ 14.9375 54.109375 19.578125 55.046875 \r\nQ 24.21875 56 28.609375 56 \r\nQ 40.484375 56 46.34375 49.84375 \r\nQ 52.203125 43.703125 52.203125 31.203125 \r\nz\r\n\" id=\"DejaVuSans-97\"/>\r\n      <path d=\"M 9.421875 75.984375 \r\nL 18.40625 75.984375 \r\nL 18.40625 0 \r\nL 9.421875 0 \r\nz\r\n\" id=\"DejaVuSans-108\"/>\r\n      <path d=\"M 8.5 21.578125 \r\nL 8.5 54.6875 \r\nL 17.484375 54.6875 \r\nL 17.484375 21.921875 \r\nQ 17.484375 14.15625 20.5 10.265625 \r\nQ 23.53125 6.390625 29.59375 6.390625 \r\nQ 36.859375 6.390625 41.078125 11.03125 \r\nQ 45.3125 15.671875 45.3125 23.6875 \r\nL 45.3125 54.6875 \r\nL 54.296875 54.6875 \r\nL 54.296875 0 \r\nL 45.3125 0 \r\nL 45.3125 8.40625 \r\nQ 42.046875 3.421875 37.71875 1 \r\nQ 33.40625 -1.421875 27.6875 -1.421875 \r\nQ 18.265625 -1.421875 13.375 4.4375 \r\nQ 8.5 10.296875 8.5 21.578125 \r\nz\r\nM 31.109375 56 \r\nz\r\n\" id=\"DejaVuSans-117\"/>\r\n      <path d=\"M 56.203125 29.59375 \r\nL 56.203125 25.203125 \r\nL 14.890625 25.203125 \r\nQ 15.484375 15.921875 20.484375 11.0625 \r\nQ 25.484375 6.203125 34.421875 6.203125 \r\nQ 39.59375 6.203125 44.453125 7.46875 \r\nQ 49.3125 8.734375 54.109375 11.28125 \r\nL 54.109375 2.78125 \r\nQ 49.265625 0.734375 44.1875 -0.34375 \r\nQ 39.109375 -1.421875 33.890625 -1.421875 \r\nQ 20.796875 -1.421875 13.15625 6.1875 \r\nQ 5.515625 13.8125 5.515625 26.8125 \r\nQ 5.515625 40.234375 12.765625 48.109375 \r\nQ 20.015625 56 32.328125 56 \r\nQ 43.359375 56 49.78125 48.890625 \r\nQ 56.203125 41.796875 56.203125 29.59375 \r\nz\r\nM 47.21875 32.234375 \r\nQ 47.125 39.59375 43.09375 43.984375 \r\nQ 39.0625 48.390625 32.421875 48.390625 \r\nQ 24.90625 48.390625 20.390625 44.140625 \r\nQ 15.875 39.890625 15.1875 32.171875 \r\nz\r\n\" id=\"DejaVuSans-101\"/>\r\n     </defs>\r\n     <g transform=\"translate(14.798438 157.794375)rotate(-90)scale(0.1 -0.1)\">\r\n      <use xlink:href=\"#DejaVuSans-76\"/>\r\n      <use x=\"55.697266\" xlink:href=\"#DejaVuSans-111\"/>\r\n      <use x=\"116.878906\" xlink:href=\"#DejaVuSans-115\"/>\r\n      <use x=\"168.978516\" xlink:href=\"#DejaVuSans-115\"/>\r\n      <use x=\"221.078125\" xlink:href=\"#DejaVuSans-32\"/>\r\n      <use x=\"252.865234\" xlink:href=\"#DejaVuSans-86\"/>\r\n      <use x=\"321.164062\" xlink:href=\"#DejaVuSans-97\"/>\r\n      <use x=\"382.443359\" xlink:href=\"#DejaVuSans-108\"/>\r\n      <use x=\"410.226562\" xlink:href=\"#DejaVuSans-117\"/>\r\n      <use x=\"473.605469\" xlink:href=\"#DejaVuSans-101\"/>\r\n     </g>\r\n    </g>\r\n   </g>\r\n   <g id=\"line2d_14\">\r\n    <path clip-path=\"url(#p368a5b7eb0)\" d=\"M 58.999432 24.924126 \r\nL 69.49473 27.094636 \r\nL 79.990027 29.441408 \r\nL 90.485325 33.9618 \r\nL 100.980623 34.381925 \r\nL 111.475921 38.432631 \r\nL 121.971219 39.984047 \r\nL 132.466516 43.835473 \r\nL 142.961814 44.946441 \r\nL 153.457112 43.766731 \r\nL 163.95241 45.820078 \r\nL 174.447708 44.501743 \r\nL 184.943005 46.601955 \r\nL 195.438303 47.64978 \r\nL 205.933601 51.763422 \r\nL 216.428899 50.102828 \r\nL 226.924197 49.182741 \r\nL 237.419495 52.34716 \r\nL 247.914792 51.081081 \r\nL 258.41009 54.003089 \r\nL 268.905388 51.516241 \r\nL 279.400686 53.196328 \r\nL 289.895984 51.344541 \r\nL 300.391281 55.228005 \r\nL 310.886579 52.578478 \r\nL 321.381877 55.283995 \r\nL 331.877175 56.211132 \r\nL 342.372473 54.536022 \r\nL 352.86777 55.280884 \r\nL 363.363068 57.502199 \r\n\" style=\"fill:none;stroke:#ff0000;stroke-linecap:square;stroke-width:1.5;\"/>\r\n   </g>\r\n   <g id=\"line2d_15\">\r\n    <defs>\r\n     <path d=\"M 0 3 \r\nC 0.795609 3 1.55874 2.683901 2.12132 2.12132 \r\nC 2.683901 1.55874 3 0.795609 3 0 \r\nC 3 -0.795609 2.683901 -1.55874 2.12132 -2.12132 \r\nC 1.55874 -2.683901 0.795609 -3 0 -3 \r\nC -0.795609 -3 -1.55874 -2.683901 -2.12132 -2.12132 \r\nC -2.683901 -1.55874 -3 -0.795609 -3 0 \r\nC -3 0.795609 -2.683901 1.55874 -2.12132 2.12132 \r\nC -1.55874 2.683901 -0.795609 3 0 3 \r\nz\r\n\" id=\"me18376263a\" style=\"stroke:#0000ff;\"/>\r\n    </defs>\r\n    <g clip-path=\"url(#p368a5b7eb0)\">\r\n     <use style=\"fill:#0000ff;stroke:#0000ff;\" x=\"58.999432\" xlink:href=\"#me18376263a\" y=\"169.46521\"/>\r\n     <use style=\"fill:#0000ff;stroke:#0000ff;\" x=\"69.49473\" xlink:href=\"#me18376263a\" y=\"177.154999\"/>\r\n     <use style=\"fill:#0000ff;stroke:#0000ff;\" x=\"79.990027\" xlink:href=\"#me18376263a\" y=\"181.666059\"/>\r\n     <use style=\"fill:#0000ff;stroke:#0000ff;\" x=\"90.485325\" xlink:href=\"#me18376263a\" y=\"182.799112\"/>\r\n     <use style=\"fill:#0000ff;stroke:#0000ff;\" x=\"100.980623\" xlink:href=\"#me18376263a\" y=\"179.560248\"/>\r\n     <use style=\"fill:#0000ff;stroke:#0000ff;\" x=\"111.475921\" xlink:href=\"#me18376263a\" y=\"172.43035\"/>\r\n     <use style=\"fill:#0000ff;stroke:#0000ff;\" x=\"121.971219\" xlink:href=\"#me18376263a\" y=\"169.788599\"/>\r\n     <use style=\"fill:#0000ff;stroke:#0000ff;\" x=\"132.466516\" xlink:href=\"#me18376263a\" y=\"161.103138\"/>\r\n     <use style=\"fill:#0000ff;stroke:#0000ff;\" x=\"142.961814\" xlink:href=\"#me18376263a\" y=\"162.745381\"/>\r\n     <use style=\"fill:#0000ff;stroke:#0000ff;\" x=\"153.457112\" xlink:href=\"#me18376263a\" y=\"125.193197\"/>\r\n     <use style=\"fill:#0000ff;stroke:#0000ff;\" x=\"163.95241\" xlink:href=\"#me18376263a\" y=\"200.212959\"/>\r\n     <use style=\"fill:#0000ff;stroke:#0000ff;\" x=\"174.447708\" xlink:href=\"#me18376263a\" y=\"161.03761\"/>\r\n     <use style=\"fill:#0000ff;stroke:#0000ff;\" x=\"184.943005\" xlink:href=\"#me18376263a\" y=\"183.946681\"/>\r\n     <use style=\"fill:#0000ff;stroke:#0000ff;\" x=\"195.438303\" xlink:href=\"#me18376263a\" y=\"183.58016\"/>\r\n     <use style=\"fill:#0000ff;stroke:#0000ff;\" x=\"205.933601\" xlink:href=\"#me18376263a\" y=\"184.870708\"/>\r\n     <use style=\"fill:#0000ff;stroke:#0000ff;\" x=\"216.428899\" xlink:href=\"#me18376263a\" y=\"178.599932\"/>\r\n     <use style=\"fill:#0000ff;stroke:#0000ff;\" x=\"226.924197\" xlink:href=\"#me18376263a\" y=\"192.477549\"/>\r\n     <use style=\"fill:#0000ff;stroke:#0000ff;\" x=\"237.419495\" xlink:href=\"#me18376263a\" y=\"156.250233\"/>\r\n     <use style=\"fill:#0000ff;stroke:#0000ff;\" x=\"247.914792\" xlink:href=\"#me18376263a\" y=\"151.090425\"/>\r\n     <use style=\"fill:#0000ff;stroke:#0000ff;\" x=\"258.41009\" xlink:href=\"#me18376263a\" y=\"69.938098\"/>\r\n     <use style=\"fill:#0000ff;stroke:#0000ff;\" x=\"268.905388\" xlink:href=\"#me18376263a\" y=\"195.569702\"/>\r\n     <use style=\"fill:#0000ff;stroke:#0000ff;\" x=\"279.400686\" xlink:href=\"#me18376263a\" y=\"164.304573\"/>\r\n     <use style=\"fill:#0000ff;stroke:#0000ff;\" x=\"289.895984\" xlink:href=\"#me18376263a\" y=\"161.724306\"/>\r\n     <use style=\"fill:#0000ff;stroke:#0000ff;\" x=\"300.391281\" xlink:href=\"#me18376263a\" y=\"130.219876\"/>\r\n     <use style=\"fill:#0000ff;stroke:#0000ff;\" x=\"310.886579\" xlink:href=\"#me18376263a\" y=\"155.884957\"/>\r\n     <use style=\"fill:#0000ff;stroke:#0000ff;\" x=\"321.381877\" xlink:href=\"#me18376263a\" y=\"129.220678\"/>\r\n     <use style=\"fill:#0000ff;stroke:#0000ff;\" x=\"331.877175\" xlink:href=\"#me18376263a\" y=\"183.520542\"/>\r\n     <use style=\"fill:#0000ff;stroke:#0000ff;\" x=\"342.372473\" xlink:href=\"#me18376263a\" y=\"162.335105\"/>\r\n     <use style=\"fill:#0000ff;stroke:#0000ff;\" x=\"352.86777\" xlink:href=\"#me18376263a\" y=\"176.890606\"/>\r\n     <use style=\"fill:#0000ff;stroke:#0000ff;\" x=\"363.363068\" xlink:href=\"#me18376263a\" y=\"174.236516\"/>\r\n    </g>\r\n   </g>\r\n   <g id=\"patch_3\">\r\n    <path d=\"M 43.78125 239.758125 \r\nL 43.78125 22.318125 \r\n\" style=\"fill:none;stroke:#000000;stroke-linecap:square;stroke-linejoin:miter;stroke-width:0.8;\"/>\r\n   </g>\r\n   <g id=\"patch_4\">\r\n    <path d=\"M 378.58125 239.758125 \r\nL 378.58125 22.318125 \r\n\" style=\"fill:none;stroke:#000000;stroke-linecap:square;stroke-linejoin:miter;stroke-width:0.8;\"/>\r\n   </g>\r\n   <g id=\"patch_5\">\r\n    <path d=\"M 43.78125 239.758125 \r\nL 378.58125 239.758125 \r\n\" style=\"fill:none;stroke:#000000;stroke-linecap:square;stroke-linejoin:miter;stroke-width:0.8;\"/>\r\n   </g>\r\n   <g id=\"patch_6\">\r\n    <path d=\"M 43.78125 22.318125 \r\nL 378.58125 22.318125 \r\n\" style=\"fill:none;stroke:#000000;stroke-linecap:square;stroke-linejoin:miter;stroke-width:0.8;\"/>\r\n   </g>\r\n   <g id=\"text_16\">\r\n    <!-- Training and Validation Loss -->\r\n    <defs>\r\n     <path d=\"M -0.296875 72.90625 \r\nL 61.375 72.90625 \r\nL 61.375 64.59375 \r\nL 35.5 64.59375 \r\nL 35.5 0 \r\nL 25.59375 0 \r\nL 25.59375 64.59375 \r\nL -0.296875 64.59375 \r\nz\r\n\" id=\"DejaVuSans-84\"/>\r\n     <path d=\"M 41.109375 46.296875 \r\nQ 39.59375 47.171875 37.8125 47.578125 \r\nQ 36.03125 48 33.890625 48 \r\nQ 26.265625 48 22.1875 43.046875 \r\nQ 18.109375 38.09375 18.109375 28.8125 \r\nL 18.109375 0 \r\nL 9.078125 0 \r\nL 9.078125 54.6875 \r\nL 18.109375 54.6875 \r\nL 18.109375 46.1875 \r\nQ 20.953125 51.171875 25.484375 53.578125 \r\nQ 30.03125 56 36.53125 56 \r\nQ 37.453125 56 38.578125 55.875 \r\nQ 39.703125 55.765625 41.0625 55.515625 \r\nz\r\n\" id=\"DejaVuSans-114\"/>\r\n     <path d=\"M 9.421875 54.6875 \r\nL 18.40625 54.6875 \r\nL 18.40625 0 \r\nL 9.421875 0 \r\nz\r\nM 9.421875 75.984375 \r\nL 18.40625 75.984375 \r\nL 18.40625 64.59375 \r\nL 9.421875 64.59375 \r\nz\r\n\" id=\"DejaVuSans-105\"/>\r\n     <path d=\"M 54.890625 33.015625 \r\nL 54.890625 0 \r\nL 45.90625 0 \r\nL 45.90625 32.71875 \r\nQ 45.90625 40.484375 42.875 44.328125 \r\nQ 39.84375 48.1875 33.796875 48.1875 \r\nQ 26.515625 48.1875 22.3125 43.546875 \r\nQ 18.109375 38.921875 18.109375 30.90625 \r\nL 18.109375 0 \r\nL 9.078125 0 \r\nL 9.078125 54.6875 \r\nL 18.109375 54.6875 \r\nL 18.109375 46.1875 \r\nQ 21.34375 51.125 25.703125 53.5625 \r\nQ 30.078125 56 35.796875 56 \r\nQ 45.21875 56 50.046875 50.171875 \r\nQ 54.890625 44.34375 54.890625 33.015625 \r\nz\r\n\" id=\"DejaVuSans-110\"/>\r\n     <path d=\"M 45.40625 27.984375 \r\nQ 45.40625 37.75 41.375 43.109375 \r\nQ 37.359375 48.484375 30.078125 48.484375 \r\nQ 22.859375 48.484375 18.828125 43.109375 \r\nQ 14.796875 37.75 14.796875 27.984375 \r\nQ 14.796875 18.265625 18.828125 12.890625 \r\nQ 22.859375 7.515625 30.078125 7.515625 \r\nQ 37.359375 7.515625 41.375 12.890625 \r\nQ 45.40625 18.265625 45.40625 27.984375 \r\nz\r\nM 54.390625 6.78125 \r\nQ 54.390625 -7.171875 48.1875 -13.984375 \r\nQ 42 -20.796875 29.203125 -20.796875 \r\nQ 24.46875 -20.796875 20.265625 -20.09375 \r\nQ 16.0625 -19.390625 12.109375 -17.921875 \r\nL 12.109375 -9.1875 \r\nQ 16.0625 -11.328125 19.921875 -12.34375 \r\nQ 23.78125 -13.375 27.78125 -13.375 \r\nQ 36.625 -13.375 41.015625 -8.765625 \r\nQ 45.40625 -4.15625 45.40625 5.171875 \r\nL 45.40625 9.625 \r\nQ 42.625 4.78125 38.28125 2.390625 \r\nQ 33.9375 0 27.875 0 \r\nQ 17.828125 0 11.671875 7.65625 \r\nQ 5.515625 15.328125 5.515625 27.984375 \r\nQ 5.515625 40.671875 11.671875 48.328125 \r\nQ 17.828125 56 27.875 56 \r\nQ 33.9375 56 38.28125 53.609375 \r\nQ 42.625 51.21875 45.40625 46.390625 \r\nL 45.40625 54.6875 \r\nL 54.390625 54.6875 \r\nz\r\n\" id=\"DejaVuSans-103\"/>\r\n     <path d=\"M 45.40625 46.390625 \r\nL 45.40625 75.984375 \r\nL 54.390625 75.984375 \r\nL 54.390625 0 \r\nL 45.40625 0 \r\nL 45.40625 8.203125 \r\nQ 42.578125 3.328125 38.25 0.953125 \r\nQ 33.9375 -1.421875 27.875 -1.421875 \r\nQ 17.96875 -1.421875 11.734375 6.484375 \r\nQ 5.515625 14.40625 5.515625 27.296875 \r\nQ 5.515625 40.1875 11.734375 48.09375 \r\nQ 17.96875 56 27.875 56 \r\nQ 33.9375 56 38.25 53.625 \r\nQ 42.578125 51.265625 45.40625 46.390625 \r\nz\r\nM 14.796875 27.296875 \r\nQ 14.796875 17.390625 18.875 11.75 \r\nQ 22.953125 6.109375 30.078125 6.109375 \r\nQ 37.203125 6.109375 41.296875 11.75 \r\nQ 45.40625 17.390625 45.40625 27.296875 \r\nQ 45.40625 37.203125 41.296875 42.84375 \r\nQ 37.203125 48.484375 30.078125 48.484375 \r\nQ 22.953125 48.484375 18.875 42.84375 \r\nQ 14.796875 37.203125 14.796875 27.296875 \r\nz\r\n\" id=\"DejaVuSans-100\"/>\r\n     <path d=\"M 18.3125 70.21875 \r\nL 18.3125 54.6875 \r\nL 36.8125 54.6875 \r\nL 36.8125 47.703125 \r\nL 18.3125 47.703125 \r\nL 18.3125 18.015625 \r\nQ 18.3125 11.328125 20.140625 9.421875 \r\nQ 21.96875 7.515625 27.59375 7.515625 \r\nL 36.8125 7.515625 \r\nL 36.8125 0 \r\nL 27.59375 0 \r\nQ 17.1875 0 13.234375 3.875 \r\nQ 9.28125 7.765625 9.28125 18.015625 \r\nL 9.28125 47.703125 \r\nL 2.6875 47.703125 \r\nL 2.6875 54.6875 \r\nL 9.28125 54.6875 \r\nL 9.28125 70.21875 \r\nz\r\n\" id=\"DejaVuSans-116\"/>\r\n    </defs>\r\n    <g transform=\"translate(126.2775 16.318125)scale(0.12 -0.12)\">\r\n     <use xlink:href=\"#DejaVuSans-84\"/>\r\n     <use x=\"60.865234\" xlink:href=\"#DejaVuSans-114\"/>\r\n     <use x=\"101.978516\" xlink:href=\"#DejaVuSans-97\"/>\r\n     <use x=\"163.257812\" xlink:href=\"#DejaVuSans-105\"/>\r\n     <use x=\"191.041016\" xlink:href=\"#DejaVuSans-110\"/>\r\n     <use x=\"254.419922\" xlink:href=\"#DejaVuSans-105\"/>\r\n     <use x=\"282.203125\" xlink:href=\"#DejaVuSans-110\"/>\r\n     <use x=\"345.582031\" xlink:href=\"#DejaVuSans-103\"/>\r\n     <use x=\"409.058594\" xlink:href=\"#DejaVuSans-32\"/>\r\n     <use x=\"440.845703\" xlink:href=\"#DejaVuSans-97\"/>\r\n     <use x=\"502.125\" xlink:href=\"#DejaVuSans-110\"/>\r\n     <use x=\"565.503906\" xlink:href=\"#DejaVuSans-100\"/>\r\n     <use x=\"628.980469\" xlink:href=\"#DejaVuSans-32\"/>\r\n     <use x=\"660.767578\" xlink:href=\"#DejaVuSans-86\"/>\r\n     <use x=\"729.066406\" xlink:href=\"#DejaVuSans-97\"/>\r\n     <use x=\"790.345703\" xlink:href=\"#DejaVuSans-108\"/>\r\n     <use x=\"818.128906\" xlink:href=\"#DejaVuSans-105\"/>\r\n     <use x=\"845.912109\" xlink:href=\"#DejaVuSans-100\"/>\r\n     <use x=\"909.388672\" xlink:href=\"#DejaVuSans-97\"/>\r\n     <use x=\"970.667969\" xlink:href=\"#DejaVuSans-116\"/>\r\n     <use x=\"1009.876953\" xlink:href=\"#DejaVuSans-105\"/>\r\n     <use x=\"1037.660156\" xlink:href=\"#DejaVuSans-111\"/>\r\n     <use x=\"1098.841797\" xlink:href=\"#DejaVuSans-110\"/>\r\n     <use x=\"1162.220703\" xlink:href=\"#DejaVuSans-32\"/>\r\n     <use x=\"1194.007812\" xlink:href=\"#DejaVuSans-76\"/>\r\n     <use x=\"1249.705078\" xlink:href=\"#DejaVuSans-111\"/>\r\n     <use x=\"1310.886719\" xlink:href=\"#DejaVuSans-115\"/>\r\n     <use x=\"1362.986328\" xlink:href=\"#DejaVuSans-115\"/>\r\n    </g>\r\n   </g>\r\n   <g id=\"legend_1\">\r\n    <g id=\"patch_7\">\r\n     <path d=\"M 50.78125 234.758125 \r\nL 155.420313 234.758125 \r\nQ 157.420313 234.758125 157.420313 232.758125 \r\nL 157.420313 204.401875 \r\nQ 157.420313 202.401875 155.420313 202.401875 \r\nL 50.78125 202.401875 \r\nQ 48.78125 202.401875 48.78125 204.401875 \r\nL 48.78125 232.758125 \r\nQ 48.78125 234.758125 50.78125 234.758125 \r\nz\r\n\" style=\"fill:#ffffff;opacity:0.8;stroke:#cccccc;stroke-linejoin:miter;\"/>\r\n    </g>\r\n    <g id=\"line2d_16\">\r\n     <path d=\"M 52.78125 210.500312 \r\nL 72.78125 210.500312 \r\n\" style=\"fill:none;stroke:#ff0000;stroke-linecap:square;stroke-width:1.5;\"/>\r\n    </g>\r\n    <g id=\"line2d_17\"/>\r\n    <g id=\"text_17\">\r\n     <!-- Training loss -->\r\n     <g transform=\"translate(80.78125 214.000312)scale(0.1 -0.1)\">\r\n      <use xlink:href=\"#DejaVuSans-84\"/>\r\n      <use x=\"60.865234\" xlink:href=\"#DejaVuSans-114\"/>\r\n      <use x=\"101.978516\" xlink:href=\"#DejaVuSans-97\"/>\r\n      <use x=\"163.257812\" xlink:href=\"#DejaVuSans-105\"/>\r\n      <use x=\"191.041016\" xlink:href=\"#DejaVuSans-110\"/>\r\n      <use x=\"254.419922\" xlink:href=\"#DejaVuSans-105\"/>\r\n      <use x=\"282.203125\" xlink:href=\"#DejaVuSans-110\"/>\r\n      <use x=\"345.582031\" xlink:href=\"#DejaVuSans-103\"/>\r\n      <use x=\"409.058594\" xlink:href=\"#DejaVuSans-32\"/>\r\n      <use x=\"440.845703\" xlink:href=\"#DejaVuSans-108\"/>\r\n      <use x=\"468.628906\" xlink:href=\"#DejaVuSans-111\"/>\r\n      <use x=\"529.810547\" xlink:href=\"#DejaVuSans-115\"/>\r\n      <use x=\"581.910156\" xlink:href=\"#DejaVuSans-115\"/>\r\n     </g>\r\n    </g>\r\n    <g id=\"line2d_18\"/>\r\n    <g id=\"line2d_19\">\r\n     <g>\r\n      <use style=\"fill:#0000ff;stroke:#0000ff;\" x=\"62.78125\" xlink:href=\"#me18376263a\" y=\"225.178437\"/>\r\n     </g>\r\n    </g>\r\n    <g id=\"text_18\">\r\n     <!-- Validation loss -->\r\n     <g transform=\"translate(80.78125 228.678437)scale(0.1 -0.1)\">\r\n      <use xlink:href=\"#DejaVuSans-86\"/>\r\n      <use x=\"68.298828\" xlink:href=\"#DejaVuSans-97\"/>\r\n      <use x=\"129.578125\" xlink:href=\"#DejaVuSans-108\"/>\r\n      <use x=\"157.361328\" xlink:href=\"#DejaVuSans-105\"/>\r\n      <use x=\"185.144531\" xlink:href=\"#DejaVuSans-100\"/>\r\n      <use x=\"248.621094\" xlink:href=\"#DejaVuSans-97\"/>\r\n      <use x=\"309.900391\" xlink:href=\"#DejaVuSans-116\"/>\r\n      <use x=\"349.109375\" xlink:href=\"#DejaVuSans-105\"/>\r\n      <use x=\"376.892578\" xlink:href=\"#DejaVuSans-111\"/>\r\n      <use x=\"438.074219\" xlink:href=\"#DejaVuSans-110\"/>\r\n      <use x=\"501.453125\" xlink:href=\"#DejaVuSans-32\"/>\r\n      <use x=\"533.240234\" xlink:href=\"#DejaVuSans-108\"/>\r\n      <use x=\"561.023438\" xlink:href=\"#DejaVuSans-111\"/>\r\n      <use x=\"622.205078\" xlink:href=\"#DejaVuSans-115\"/>\r\n      <use x=\"674.304688\" xlink:href=\"#DejaVuSans-115\"/>\r\n     </g>\r\n    </g>\r\n   </g>\r\n  </g>\r\n </g>\r\n <defs>\r\n  <clipPath id=\"p368a5b7eb0\">\r\n   <rect height=\"217.44\" width=\"334.8\" x=\"43.78125\" y=\"22.318125\"/>\r\n  </clipPath>\r\n </defs>\r\n</svg>\r\n",
            "image/png": "[encoded data removed]"
          },
          "metadata": {
            "needs_background": "light"
          }
        }
      ]
    },
    {
      "cell_type": "markdown",
      "metadata": {
        "id": "ggTKa3ka0kOf"
      },
      "source": [
        "## Results"
      ]
    },
    {
      "cell_type": "code",
      "execution_count": 50,
      "metadata": {},
      "outputs": [
        {
          "output_type": "execute_result",
          "data": {
            "text/plain": [
              "<tensorflow.python.training.tracking.util.CheckpointLoadStatus at 0x18158337888>"
            ]
          },
          "metadata": {},
          "execution_count": 50
        }
      ],
      "source": [
        "# Load weights from the select epoch.\n",
        "model.load_weights(\"checkpoints/run_06/cp-0040.ckpt\")"
      ]
    },
    {
      "cell_type": "code",
      "execution_count": 48,
      "metadata": {},
      "outputs": [
        {
          "output_type": "stream",
          "name": "stdout",
          "text": [
            "230/230 [==============================] - 133s 558ms/step - loss: 2.4677 - accuracy: 0.5794 - top_5_accuracy: 0.6285\n"
          ]
        },
        {
          "output_type": "execute_result",
          "data": {
            "text/plain": [
              "[2.4671006202697754, 0.5772510766983032, 0.6293615102767944]"
            ]
          },
          "metadata": {},
          "execution_count": 48
        }
      ],
      "source": [
        "model.evaluate(val_data)"
      ]
    },
    {
      "cell_type": "code",
      "execution_count": 68,
      "metadata": {},
      "outputs": [],
      "source": [
        "# TODO: For some reason it does not work within the Tensorflow graph (as part of metric),\n",
        "# even though only `tf.` operations are used.\n",
        "def calculate_iou(y_true, y_pred):\n",
        "    \"\"\"\n",
        "    Returns IoU of all classes.\n",
        "    \"\"\"\n",
        "    y_true = tf.reshape(y_true, [IMAGE_HEIGHT * IMAGE_WIDTH])\n",
        "    classes_true, _ = tf.unique(y_true)\n",
        "\n",
        "    y_pred = tf.math.argmax(y_pred, axis=-1)\n",
        "    y_pred = tf.reshape(y_pred, [IMAGE_HEIGHT * IMAGE_WIDTH])\n",
        "    classes_pred, _ = tf.unique(tf.cast(y_pred, tf.uint8))\n",
        "\n",
        "    classes, _ = tf.unique(tf.concat([classes_true, classes_pred], axis=-1))\n",
        "    iou_list = tf.TensorArray(tf.float32, size=0, dynamic_size=True)\n",
        "\n",
        "    for i in classes:\n",
        "        y_true_mask = tf.math.equal(y_true, i)\n",
        "        y_pred_mask = tf.math.equal(tf.cast(y_pred, tf.uint8), i)\n",
        "\n",
        "        intersection_mask = tf.math.logical_and(y_true_mask, y_pred_mask)\n",
        "        union_mask = tf.math.logical_or(y_true_mask, y_pred_mask)\n",
        "\n",
        "        intersection = tf.reduce_sum(tf.cast(intersection_mask, tf.float32))\n",
        "        union = tf.reduce_sum(tf.cast(union_mask, tf.float32))\n",
        "\n",
        "        #print(f\"[{i}] {intersection} / {union}\")\n",
        "        iou = intersection / union\n",
        "        iou_list = iou_list.write(iou_list.size(), iou)\n",
        "    return iou_list.concat() #tf.reduce_mean(iou_list.concat())"
      ]
    },
    {
      "cell_type": "code",
      "execution_count": 71,
      "metadata": {},
      "outputs": [],
      "source": [
        "test_iou_no_background = []\n",
        "test_iou_top_5 = []\n",
        "test_iou = []\n",
        "\n",
        "for batch_image, batch_mask in val_data:\n",
        "    batch_pred = model.predict(batch_image)\n",
        "    for true_mask, pred_mask in zip(batch_mask, batch_pred):\n",
        "        iou_list = calculate_iou(true_mask, pred_mask)\n",
        "        try:\n",
        "            iou = np.mean(iou_list)\n",
        "            test_iou.append(iou)\n",
        "\n",
        "            classes = len(iou_list)\n",
        "            iou_no_background = np.mean(iou_list[1:])\n",
        "            test_iou_no_background.append(iou_no_background)\n",
        "\n",
        "            iou_top_5 = np.mean(iou_list[1:6])\n",
        "            test_iou_top_5.append(iou_top_5)\n",
        "        except:\n",
        "            print('Only background in image.')\n"
      ]
    },
    {
      "cell_type": "code",
      "execution_count": 1,
      "metadata": {},
      "outputs": [],
      "source": [
        "print(f\"Test result without backround class: {np.mean(test_iou_no_background)}\")\n",
        "print(f\"Test result of top 5 non background classes: {np.mean(test_iou_top_5)}\")\n",
        "print(f\"Test result with backround class: {np.mean(test_iou)}\")"
      ]
    },
    {
      "cell_type": "code",
      "execution_count": 54,
      "metadata": {},
      "outputs": [],
      "source": [
        "#plot_mask_predictions(val_data, 50)"
      ]
    },
    {
      "cell_type": "code",
      "execution_count": 55,
      "metadata": {},
      "outputs": [],
      "source": [
        "#plot_mask_predictions(test_data.batch(BATCH_SIZE), 50)"
      ]
    },
    {
      "source": [
        "## Convert to `.tflite`"
      ],
      "cell_type": "markdown",
      "metadata": {}
    },
    {
      "cell_type": "code",
      "execution_count": 59,
      "metadata": {},
      "outputs": [
        {
          "output_type": "stream",
          "name": "stdout",
          "text": [
            "INFO:tensorflow:Assets written to: C:\\Users\\janar\\AppData\\Local\\Temp\\tmpls5mpn_2\\assets\n",
            "INFO:tensorflow:Assets written to: C:\\Users\\janar\\AppData\\Local\\Temp\\tmpls5mpn_2\\assets\n"
          ]
        },
        {
          "output_type": "execute_result",
          "data": {
            "text/plain": [
              "21136340"
            ]
          },
          "metadata": {},
          "execution_count": 59
        }
      ],
      "source": [
        "#converter = tf.lite.TFLiteConverter.from_saved_model(DRIVE_FOLDER + '/models/full_02')\n",
        "converter = tf.lite.TFLiteConverter.from_keras_model(model)\n",
        "# Needed for the preprocessing layers.\n",
        "converter.target_spec.supported_ops = [tf.lite.OpsSet.TFLITE_BUILTINS,\n",
        "                                       tf.lite.OpsSet.SELECT_TF_OPS]\n",
        "tflite_model = converter.convert()\n",
        "open(\"./tflite_models/unet_71.tflite\", \"wb\").write(tflite_model)"
      ]
    }
  ]
}