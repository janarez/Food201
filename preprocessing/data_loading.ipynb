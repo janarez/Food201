{
 "metadata": {
  "language_info": {
   "codemirror_mode": {
    "name": "ipython",
    "version": 3
   },
   "file_extension": ".py",
   "mimetype": "text/x-python",
   "name": "python",
   "nbconvert_exporter": "python",
   "pygments_lexer": "ipython3",
   "version": "3.7.6-final"
  },
  "orig_nbformat": 2,
  "kernelspec": {
   "name": "Python 3.7.6 64-bit",
   "display_name": "Python 3.7.6 64-bit",
   "metadata": {
    "interpreter": {
     "hash": "b645526185d99215aa93b35893ebde63767219db82c922476bfeda3d99cf53d5"
    }
   }
  }
 },
 "nbformat": 4,
 "nbformat_minor": 2,
 "cells": [
  {
   "source": [
    "# Food 201 Segmentation Task\n",
    "\n",
    "This notebook filters data for the Food 201 dataset from the broader Food 101 dataset that contains just labels.\n",
    "\n",
    "Get the dataset from `https://storage.googleapis.com/food201/\n",
    "food201.zip` and unzip it.\n",
    "\n",
    "After running it the data will be in following folders:\n",
    "\n",
    "- `segmented_test` + `segmented_train`: 9654\n",
    "- `masks_test` + `masks_train`: 2439\n",
    "\n",
    "Labels are stored in Jupyter variables:\n",
    "\n",
    "- `df_test` + `df_train`\n",
    "\n",
    "Each image contains up to 6 labels (one of them is the original Food 101 label).\n",
    "There is total of 201 labels.\n"
   ],
   "cell_type": "markdown",
   "metadata": {}
  },
  {
   "cell_type": "code",
   "execution_count": 123,
   "metadata": {},
   "outputs": [],
   "source": [
    "import pandas as pd\n",
    "import numpy as np\n",
    "import matplotlib as mpl\n",
    "import matplotlib.pyplot as plt\n",
    "import PIL"
   ]
  },
  {
   "cell_type": "code",
   "execution_count": 3,
   "metadata": {},
   "outputs": [],
   "source": [
    "import os\n",
    "import pathlib\n",
    "from collections import defaultdict"
   ]
  },
  {
   "cell_type": "code",
   "execution_count": 4,
   "metadata": {},
   "outputs": [],
   "source": [
    "DATA_FOLDER = \"../food201/\"\n",
    "FOOD_101_FOLDER = \"../food-101/images/\""
   ]
  },
  {
   "cell_type": "code",
   "execution_count": 5,
   "metadata": {},
   "outputs": [],
   "source": [
    "def dataset_stats(df):\n",
    "    print('Dataset shape: ', df.shape)\n",
    "    print('Columns: ', df.columns)\n",
    "    print('Head: \\n', df.head())"
   ]
  },
  {
   "cell_type": "code",
   "execution_count": 8,
   "metadata": {},
   "outputs": [],
   "source": [
    "def extract_segmented_pictures(df, dataset_type):\n",
    "    \"\"\"\n",
    "    Copies the 10_000 segmented images from Food101 that contains total > 100_000 pictures.\n",
    "    \"\"\"\n",
    "    image_folder = f\"{DATA_FOLDER}images_{dataset_type}/\"\n",
    "    total = df.shape[0]\n",
    "    print(\"================== START ==================\")\n",
    "    for i in range(total):\n",
    "        filename = df.loc[i, \"file\"]\n",
    "        food_folder = filename.split('/')[0]\n",
    "        if not os.path.exists(image_folder + food_folder):\n",
    "            os.makedirs(image_folder + food_folder)\n",
    "        try:\n",
    "            os.rename(FOOD_101_FOLDER + filename, image_folder + filename)\n",
    "        except:\n",
    "            print(f\"Could not copy file: {filename}\")\n",
    "        if i % 1000 == 0:\n",
    "            print(f\"Copied {i} / {total} files\")\n",
    "\n",
    "    print(\"================== DONE ==================\")"
   ]
  },
  {
   "cell_type": "code",
   "execution_count": 9,
   "metadata": {},
   "outputs": [],
   "source": [
    "def prepare_image_dataset(dataset_type):\n",
    "    \"\"\"\n",
    "    Parses and finds images for given `dataset_type`: {test, train}.\n",
    "    \"\"\"\n",
    "    df = pd.read_csv(DATA_FOLDER + dataset_type + \"_multilabel.csv\", header=None, names=['all'])\n",
    "\n",
    "    dataset_stats(df)\n",
    "\n",
    "    df['file'] = df['all'].apply(lambda x: x.split(' ')[0])\n",
    "    df['ids'] = df['all'].apply(lambda x: x.split(' ')[1:])\n",
    "    df.drop(columns=[\"all\"], inplace=True)\n",
    "    dataset_stats(df)\n",
    "    \n",
    "    # DONE ALREADY\n",
    "    # extract_segmented_pictures(df, dataset_type)\n",
    "    return df"
   ]
  },
  {
   "source": [
    "## Labels"
   ],
   "cell_type": "markdown",
   "metadata": {}
  },
  {
   "cell_type": "code",
   "execution_count": 29,
   "metadata": {},
   "outputs": [],
   "source": [
    "df_labels = pd.read_csv(DATA_FOLDER + \"multilabel_map.csv\", header=None, names=[\"id\", \"food\"])"
   ]
  },
  {
   "cell_type": "code",
   "execution_count": 30,
   "metadata": {},
   "outputs": [
    {
     "output_type": "stream",
     "name": "stdout",
     "text": [
      "Dataset shape:  (201, 2)\nColumns:  Index(['id', 'food'], dtype='object')\nHead: \n    id       food\n0   0  apple pie\n1   1    arugula\n2   2  asparagus\n3   3     au jus\n4   4    avocado\n"
     ]
    }
   ],
   "source": [
    "dataset_stats(df_labels)"
   ]
  },
  {
   "cell_type": "code",
   "execution_count": 31,
   "metadata": {},
   "outputs": [
    {
     "output_type": "execute_result",
     "data": {
      "text/plain": [
       "200"
      ]
     },
     "metadata": {},
     "execution_count": 31
    }
   ],
   "source": [
    "MAX_ID = df_labels[\"id\"].max()\n",
    "MAX_ID"
   ]
  },
  {
   "source": [
    "## Train / test images labels"
   ],
   "cell_type": "markdown",
   "metadata": {}
  },
  {
   "cell_type": "code",
   "execution_count": 124,
   "metadata": {},
   "outputs": [
    {
     "output_type": "stream",
     "name": "stdout",
     "text": [
      "Dataset shape:  (35242, 1)\nColumns:  Index(['all'], dtype='object')\nHead: \n                                 all\n0          omelette/3532836.jpg 134\n1  frozen_yogurt/3667619.jpg 88 183\n2            paella/3673967.jpg 140\n3   baby_back_ribs/3781340.jpg 5 69\n4         creme_brulee/82255.jpg 63\nDataset shape:  (35242, 2)\nColumns:  Index(['file', 'ids'], dtype='object')\nHead: \n                          file        ids\n0        omelette/3532836.jpg      [134]\n1   frozen_yogurt/3667619.jpg  [88, 183]\n2          paella/3673967.jpg      [140]\n3  baby_back_ribs/3781340.jpg    [5, 69]\n4      creme_brulee/82255.jpg       [63]\n"
     ]
    }
   ],
   "source": [
    "df_train = prepare_image_dataset('train')"
   ]
  },
  {
   "cell_type": "code",
   "execution_count": 125,
   "metadata": {},
   "outputs": [
    {
     "output_type": "stream",
     "name": "stdout",
     "text": [
      "Dataset shape:  (15132, 1)\nColumns:  Index(['all'], dtype='object')\nHead: \n                                        all\n0  strawberry_shortcake/837744.jpg 184 199\n1      pork_chop/540470.jpg 163 193 152 66\n2              clam_chowder/2762472.jpg 54\n3           baby_back_ribs/543585.jpg 5 81\n4     lobster_roll_sandwich/670381.jpg 118\nDataset shape:  (15132, 2)\nColumns:  Index(['file', 'ids'], dtype='object')\nHead: \n                                file                  ids\n0   strawberry_shortcake/837744.jpg           [184, 199]\n1              pork_chop/540470.jpg  [163, 193, 152, 66]\n2          clam_chowder/2762472.jpg                 [54]\n3         baby_back_ribs/543585.jpg              [5, 81]\n4  lobster_roll_sandwich/670381.jpg                [118]\n"
     ]
    }
   ],
   "source": [
    "df_test = prepare_image_dataset('test')"
   ]
  },
  {
   "cell_type": "code",
   "execution_count": 126,
   "metadata": {},
   "outputs": [],
   "source": [
    "test_images_dir = pathlib.Path(DATA_FOLDER + 'images_test/')\n",
    "train_images_dir = pathlib.Path(DATA_FOLDER + 'images_train/')"
   ]
  },
  {
   "cell_type": "code",
   "execution_count": 127,
   "metadata": {},
   "outputs": [
    {
     "output_type": "stream",
     "name": "stdout",
     "text": [
      "Train images: 25587\nTest images: 12693\n"
     ]
    }
   ],
   "source": [
    "train_count = len(list(train_images_dir.glob('*/*.jpg')))\n",
    "print(f'Train images: {train_count}')\n",
    "\n",
    "test_count = len(list(test_images_dir.glob('*/*.jpg')))\n",
    "print(f'Test images: {test_count}')"
   ]
  },
  {
   "cell_type": "code",
   "execution_count": 128,
   "metadata": {},
   "outputs": [],
   "source": [
    "test_image_sizes = defaultdict(int)\n",
    "\n",
    "for img in test_images_dir.glob('*/*.jpg'):\n",
    "    image = PIL.Image.open(str(img))\n",
    "    test_image_sizes[image.size] += 1\n",
    "\n",
    "train_image_sizes = defaultdict(int)\n",
    "\n",
    "for img in train_images_dir.glob('*/*.jpg'):\n",
    "    image = PIL.Image.open(str(img))\n",
    "    train_image_sizes[image.size] += 1"
   ]
  },
  {
   "cell_type": "code",
   "execution_count": 129,
   "metadata": {},
   "outputs": [
    {
     "output_type": "stream",
     "name": "stdout",
     "text": [
      "Size (512, 512) 7904\nSize (512, 384) 1870\nSize (384, 512) 848\nSize (382, 512) 345\nSize (512, 382) 322\nSize (512, 341) 174\nSize (512, 288) 126\nSize (512, 306) 104\nSize (512, 289) 101\nSize (512, 383) 73\nSize (306, 512) 57\nSize (511, 512) 45\nSize (512, 342) 45\nSize (288, 512) 44\nSize (512, 340) 44\nSize (512, 307) 39\nSize (289, 512) 34\nSize (383, 512) 33\nSize (512, 287) 32\nSize (512, 511) 29\nSize (512, 343) 25\nSize (341, 512) 22\nSize (512, 339) 18\nSize (287, 512) 14\nSize (512, 385) 14\n"
     ]
    }
   ],
   "source": [
    "for size, count in sorted(test_image_sizes.items(), key=lambda x: x[1], reverse=True):\n",
    "    if count < 10:\n",
    "        break\n",
    "    print(f\"Size {size} {count}\")\n",
    "    "
   ]
  },
  {
   "cell_type": "code",
   "execution_count": 130,
   "metadata": {},
   "outputs": [
    {
     "output_type": "stream",
     "name": "stdout",
     "text": [
      "Size (512, 512) 15745\nSize (512, 384) 3767\nSize (384, 512) 1703\nSize (382, 512) 667\nSize (512, 382) 663\nSize (512, 341) 333\nSize (512, 306) 261\nSize (512, 288) 253\nSize (512, 289) 189\nSize (512, 383) 168\nSize (306, 512) 121\nSize (511, 512) 117\nSize (512, 340) 111\nSize (512, 307) 86\nSize (512, 342) 85\nSize (288, 512) 85\nSize (383, 512) 85\nSize (341, 512) 77\nSize (512, 511) 68\nSize (512, 287) 67\nSize (289, 512) 54\nSize (512, 343) 47\nSize (512, 339) 42\nSize (307, 512) 30\nSize (512, 385) 26\nSize (512, 509) 24\nSize (512, 308) 16\nSize (287, 512) 16\nSize (512, 508) 15\nSize (512, 500) 15\nSize (512, 471) 14\nSize (512, 386) 13\nSize (512, 366) 12\nSize (342, 512) 11\nSize (512, 510) 11\nSize (512, 304) 10\n"
     ]
    }
   ],
   "source": [
    "for size, count in sorted(train_image_sizes.items(), key=lambda x: x[1], reverse=True):\n",
    "    if count < 10:\n",
    "        break\n",
    "    print(f\"Size {size} {count}\")"
   ]
  },
  {
   "source": [
    "## Keep segmented only"
   ],
   "cell_type": "markdown",
   "metadata": {}
  },
  {
   "cell_type": "code",
   "execution_count": 131,
   "metadata": {},
   "outputs": [],
   "source": [
    "def extract_masks(df, dataset_type):\n",
    "    \"\"\"\n",
    "    Split the masks into train / test sets and removes any image without mask.\n",
    "    \"\"\"\n",
    "    mask_folder = f\"{DATA_FOLDER}masks_{dataset_type}/\"\n",
    "\n",
    "    total = df.shape[0]\n",
    "    print(\"================== START ==================\")\n",
    "    for i in range(total):\n",
    "        filename = df.loc[i, \"file\"]\n",
    "        food_folder = filename.split('/')[0]\n",
    "        filename_png = filename.split('.')[0] + '.png'\n",
    "\n",
    "        if not os.path.exists(mask_folder + food_folder):\n",
    "            os.makedirs(mask_folder + food_folder)\n",
    "        try:\n",
    "            os.rename(DATA_FOLDER + 'pixel_annotations/' + filename_png, mask_folder + filename_png)\n",
    "        except:\n",
    "            print(f\"Could not find mask for file: {filename}\")\n",
    "        if i % 1000 == 0:\n",
    "            print(f\"Copied {i} / {total} files\")\n",
    "\n",
    "    print(\"================== DONE ==================\")"
   ]
  },
  {
   "cell_type": "code",
   "execution_count": 132,
   "metadata": {
    "tags": []
   },
   "outputs": [],
   "source": [
    "# extract_masks(df_test, 'test')"
   ]
  },
  {
   "cell_type": "code",
   "execution_count": 133,
   "metadata": {
    "tags": []
   },
   "outputs": [],
   "source": [
    "# extract_masks(df_train, 'train')"
   ]
  },
  {
   "cell_type": "code",
   "execution_count": 134,
   "metadata": {},
   "outputs": [],
   "source": [
    "test_masks = pathlib.Path(DATA_FOLDER + 'masks_test/')\n",
    "train_masks = pathlib.Path(DATA_FOLDER + 'masks_train/')"
   ]
  },
  {
   "cell_type": "code",
   "execution_count": 135,
   "metadata": {},
   "outputs": [
    {
     "output_type": "stream",
     "name": "stdout",
     "text": [
      "Tests images with mask: 2439\n",
      "Train images with mask: 9654\n"
     ]
    }
   ],
   "source": [
    "print(f\"Tests images with mask: {len(list(test_masks.glob('*/*.png')))}\")\n",
    "print(f\"Train images with mask: {len(list(train_masks.glob('*/*.png')))}\")\n"
   ]
  },
  {
   "cell_type": "code",
   "execution_count": 136,
   "metadata": {},
   "outputs": [],
   "source": [
    "def extract_segmented(dataset_type):\n",
    "    \"\"\"\n",
    "    Removes all test / train images without a mask.\n",
    "    \"\"\"\n",
    "    mask_folder = pathlib.Path(f\"{DATA_FOLDER}masks_{dataset_type}/\")\n",
    "    image_folder = pathlib.Path(f\"{DATA_FOLDER}images_{dataset_type}\")\n",
    "    new_image_folder = pathlib.Path(f\"{DATA_FOLDER}segmented_{dataset_type}\")\n",
    "\n",
    "    removed = 0\n",
    "    total = 0\n",
    "\n",
    "    print(\"================== START ==================\")\n",
    "    for mask in mask_folder.glob('*/*'):\n",
    "        # Map to jpeg file.\n",
    "        filefolder = str(mask).split('\\\\')[-2]\n",
    "        filename = filefolder + '\\\\' + str(mask).split('\\\\')[-1].split('.')[0] + '.jpg'\n",
    "        filepath = image_folder / filename\n",
    "        newpath = new_image_folder / filename\n",
    "\n",
    "        if not os.path.exists(new_image_folder / filefolder):\n",
    "            os.makedirs(new_image_folder / filefolder)\n",
    "\n",
    "        os.replace(filepath, newpath)\n",
    "        total += 1\n",
    "    \n",
    "    print(f\"Removed {total} files\")\n",
    "    print(\"================== DONE ==================\")"
   ]
  },
  {
   "cell_type": "code",
   "execution_count": 137,
   "metadata": {},
   "outputs": [],
   "source": [
    "# extract_segmented('test')"
   ]
  },
  {
   "cell_type": "code",
   "execution_count": 138,
   "metadata": {},
   "outputs": [],
   "source": [
    "# extract_segmented('train')"
   ]
  },
  {
   "cell_type": "code",
   "execution_count": 139,
   "metadata": {},
   "outputs": [
    {
     "output_type": "stream",
     "name": "stdout",
     "text": [
      "Tests images with mask: 2439\n",
      "Train images with mask: 9654\n"
     ]
    }
   ],
   "source": [
    "test_s = pathlib.Path(DATA_FOLDER + 'segmented_test/')\n",
    "train_s = pathlib.Path(DATA_FOLDER + 'segmented_train/')\n",
    "\n",
    "print(f\"Tests images with mask: {len(list(test_s.glob('*/*.jpg')))}\")\n",
    "print(f\"Train images with mask: {len(list(train_s.glob('*/*.jpg')))}\")"
   ]
  },
  {
   "source": [
    "### Remove from labels datasets extraneous entries"
   ],
   "cell_type": "markdown",
   "metadata": {}
  },
  {
   "cell_type": "code",
   "execution_count": 140,
   "metadata": {},
   "outputs": [],
   "source": [
    "df_test[\"present\"] = False\n",
    "df_train[\"present\"] = False"
   ]
  },
  {
   "cell_type": "code",
   "execution_count": 141,
   "metadata": {},
   "outputs": [],
   "source": [
    "def remove_unused_entries(df, dataset_type):\n",
    "    \"\"\"\n",
    "    Removes all entries that don't have segmented image.\n",
    "    \"\"\"\n",
    "    segmented_folder = pathlib.Path(f\"{DATA_FOLDER}segmented_{dataset_type}\")\n",
    "\n",
    "    for image in segmented_folder.glob('*/*'):\n",
    "        filename = ('/').join(str(image).split('\\\\')[-2:])\n",
    "        df.loc[df['file'] == filename, 'present'] = True"
   ]
  },
  {
   "cell_type": "code",
   "execution_count": 142,
   "metadata": {
    "tags": []
   },
   "outputs": [],
   "source": [
    "remove_unused_entries(df_test, 'test')"
   ]
  },
  {
   "cell_type": "code",
   "execution_count": 143,
   "metadata": {},
   "outputs": [
    {
     "output_type": "execute_result",
     "data": {
      "text/plain": [
       "False    12693\n",
       "True      2439\n",
       "Name: present, dtype: int64"
      ]
     },
     "metadata": {},
     "execution_count": 143
    }
   ],
   "source": [
    "df_test['present'].value_counts()"
   ]
  },
  {
   "cell_type": "code",
   "execution_count": 144,
   "metadata": {},
   "outputs": [],
   "source": [
    "remove_unused_entries(df_train, 'train')"
   ]
  },
  {
   "cell_type": "code",
   "execution_count": 145,
   "metadata": {},
   "outputs": [
    {
     "output_type": "execute_result",
     "data": {
      "text/plain": [
       "False    25588\n",
       "True      9654\n",
       "Name: present, dtype: int64"
      ]
     },
     "metadata": {},
     "execution_count": 145
    }
   ],
   "source": [
    "df_train['present'].value_counts()"
   ]
  },
  {
   "cell_type": "code",
   "execution_count": 146,
   "metadata": {},
   "outputs": [
    {
     "output_type": "execute_result",
     "data": {
      "text/plain": [
       "(2439, 2)"
      ]
     },
     "metadata": {},
     "execution_count": 146
    }
   ],
   "source": [
    "df_test = df_test[df_test[\"present\"] == True]\n",
    "df_test.drop(columns=[\"present\"], inplace=True)\n",
    "df_test.shape"
   ]
  },
  {
   "cell_type": "code",
   "execution_count": 147,
   "metadata": {},
   "outputs": [
    {
     "output_type": "execute_result",
     "data": {
      "text/plain": [
       "(9654, 2)"
      ]
     },
     "metadata": {},
     "execution_count": 147
    }
   ],
   "source": [
    "df_train = df_train[df_train[\"present\"] == True]\n",
    "df_train.drop(columns=[\"present\"], inplace=True)\n",
    "df_train.shape"
   ]
  },
  {
   "cell_type": "code",
   "execution_count": 150,
   "metadata": {},
   "outputs": [
    {
     "output_type": "stream",
     "name": "stdout",
     "text": [
      "Stored 'df_train_stored' (DataFrame)\nStored 'df_test_stored' (DataFrame)\n"
     ]
    }
   ],
   "source": [
    "df_train_stored = df_train\n",
    "df_test_stored = df_test\n",
    "\n",
    "%store df_train_stored\n",
    "%store df_test_stored"
   ]
  },
  {
   "cell_type": "code",
   "execution_count": 151,
   "metadata": {},
   "outputs": [],
   "source": [
    "df_train.to_csv('train_images_101_labels.csv')\n",
    "df_test.to_csv('test_images_101_labels.csv')"
   ]
  },
  {
   "source": [
    "## Stats for Food 201 dataset"
   ],
   "cell_type": "markdown",
   "metadata": {}
  },
  {
   "cell_type": "code",
   "execution_count": 46,
   "metadata": {},
   "outputs": [],
   "source": [
    "test_image_sizes = defaultdict(int)\n",
    "\n",
    "for img in test_s.glob('*/*.jpg'):\n",
    "    image = PIL.Image.open(str(img))\n",
    "    test_image_sizes[image.size] += 1\n",
    "\n",
    "train_image_sizes = defaultdict(int)\n",
    "\n",
    "for img in train_s.glob('*/*.jpg'):\n",
    "    image = PIL.Image.open(str(img))\n",
    "    train_image_sizes[image.size] += 1"
   ]
  },
  {
   "cell_type": "code",
   "execution_count": 47,
   "metadata": {},
   "outputs": [
    {
     "output_type": "stream",
     "name": "stdout",
     "text": [
      "Size (512, 512) 1514\nSize (512, 384) 365\nSize (384, 512) 173\nSize (382, 512) 66\nSize (512, 382) 61\nSize (512, 288) 27\nSize (512, 341) 26\nSize (512, 306) 22\nSize (512, 289) 20\nSize (306, 512) 14\nSize (512, 342) 11\n"
     ]
    }
   ],
   "source": [
    "for size, count in sorted(test_image_sizes.items(), key=lambda x: x[1], reverse=True):\n",
    "    if count < 10:\n",
    "        break\n",
    "    print(f\"Size {size} {count}\")"
   ]
  },
  {
   "cell_type": "code",
   "execution_count": 48,
   "metadata": {},
   "outputs": [
    {
     "output_type": "stream",
     "name": "stdout",
     "text": [
      "Size (512, 512) 5969\nSize (512, 384) 1397\nSize (384, 512) 634\nSize (382, 512) 258\nSize (512, 382) 249\nSize (512, 341) 151\nSize (512, 288) 112\nSize (512, 289) 92\nSize (512, 306) 84\nSize (512, 383) 46\nSize (306, 512) 46\nSize (512, 340) 43\nSize (512, 307) 40\nSize (511, 512) 39\nSize (288, 512) 34\nSize (512, 342) 31\nSize (383, 512) 26\nSize (512, 287) 22\nSize (289, 512) 21\nSize (341, 512) 20\nSize (512, 509) 17\nSize (307, 512) 17\nSize (512, 511) 17\nSize (512, 339) 14\nSize (512, 343) 12\n"
     ]
    }
   ],
   "source": [
    "for size, count in sorted(train_image_sizes.items(), key=lambda x: x[1], reverse=True):\n",
    "    if count < 10:\n",
    "        break\n",
    "    print(f\"Size {size} {count}\")"
   ]
  },
  {
   "cell_type": "code",
   "execution_count": 117,
   "metadata": {},
   "outputs": [],
   "source": [
    "def food_frequency(df):\n",
    "    food_ids = np.concatenate(df[\"ids\"].values)\n",
    "    food_ids_u, food_ids_c = np.unique(food_ids, return_counts=True)\n",
    "    foods = []\n",
    "\n",
    "    food_ids_u, food_ids_c = zip(*sorted(zip(food_ids_u, food_ids_c), key=lambda x: x[1]))\n",
    "\n",
    "    for food_id, count in zip(food_ids_u, food_ids_c):\n",
    "        food = df_labels.loc[int(food_id), \"food\"]\n",
    "        foods.append(food)\n",
    "\n",
    "        print(f\"[{food_id:>3}] {food:25} {count}\")\n",
    "\n",
    "    # fig, ax = plt.subplots(nrows=1, ncols=1, figsize=(20,100))\n",
    "    # ax.barh(y=range(len(foods)), width=food_ids_c, tick_label=foods, align='center', color=['y', 'b'])"
   ]
  },
  {
   "cell_type": "code",
   "execution_count": 119,
   "metadata": {},
   "outputs": [
    {
     "output_type": "stream",
     "name": "stdout",
     "text": [
      "[ 20] black beans               15\n[ 28] bun                       15\n[  3] au jus                    15\n[192] tomato sauce              17\n[ 53] cilantro                  19\n[125] mixed greens              21\n[129] mustard                   21\n[ 21] blackberries              21\n[200] wine                      22\n[ 48] chocolate                 22\n[ 65] croutons                  22\n[170] sausage                   23\n[ 87] frosting                  23\n[ 47] chives                    24\n[ 91] ginger                    24\n[143] parmesan cheese           25\n[ 15] beer                      25\n[ 18] berries                   25\n[147] peppers                   26\n[ 43] chicken                   26\n[175] soup                      27\n[194] tortilla                  27\n[  9] basil                     27\n[103] ham                       28\n[ 32] cake                      28\n[ 30] cabbage                   30\n[ 56] cocktail sauce            30\n[ 62] cream                     30\n[  1] arugula                   31\n[  7] baked potato              31\n[132] nuts                      33\n[ 90] garnish                   33\n[145] peas                      34\n[ 41] cheeseburger              34\n[122] mint                      37\n[ 61] crackers                  39\n[ 93] grapes                    40\n[106] home fries                41\n[ 12] beef                      41\n[ 57] coffee                    42\n[ 85] fried egg                 42\n[127] mushrooms                 43\n[133] olives                    43\n[ 11] beans                     45\n[198] wasabi                    45\n[  4] avocado                   45\n[ 98] greens                    45\n[  2] asparagus                 46\n[ 96] green beans               46\n[177] soy sauce                 48\n[131] noodles                   49\n[160] raspberries               49\n[ 37] celery                    49\n[ 59] corn                      49\n[ 94] gravy                     49\n[137] orange slice              50\n[ 26] broccoli                  50\n[105] hash browns               53\n[ 10] bean sprouts              54\n[150] pita bread                60\n[189] tartar sauce              63\n[ 22] blueberries               67\n[180] spinach                   70\n[173] shrimp                    71\n[124] mixed fruit               74\n[  6] bacon                     75\n[ 14] beef tartare              76\n[ 82] french onion soup         77\n[149] pickles                   79\n[179] spaghetti carbonara       79\n[153] potato chips              80\n[ 74] eggs benedict             83\n[109] huevos rancheros          84\n[140] paella                    84\n[ 66] cucumber slice            84\n[117] lobster bisque            85\n[ 68] deviled eggs              85\n[ 88] frozen yogurt             85\n[191] toast                     86\n[ 78] fish                      86\n[ 79] fish and chips            86\n[  8] baklava                   88\n[ 44] chicken curry             89\n[118] lobster roll sandwich     90\n[181] spring rolls              90\n[188] takoyaki                  90\n[196] tuna tartare              90\n[ 35] carrot cake               90\n[ 38] ceviche                   90\n[ 97] green onions              90\n[148] pho                       91\n[161] ravioli                   91\n[ 40] cheese plate              91\n[ 45] chicken quesadilla        91\n[ 75] escargots                 91\n[ 80] foie gras                 91\n[ 19] bibimbap                  92\n[190] tiramisu                  92\n[197] waffles                   92\n[ 34] caprese salad             92\n[ 24] bread pudding             93\n[ 92] gnocchi                   93\n[ 17] beignets                  94\n[ 70] donuts                    94\n[ 76] falafel                   94\n[164] risotto                   95\n[ 31] caesar salad              95\n[ 72] edamame                   95\n[108] hot dog                   96\n[116] lime slice                96\n[ 25] breakfast burrito         96\n[ 50] chocolate mousse          96\n[ 60] crab cakes                96\n[146] peking duck               97\n[157] prime rib                 97\n[195] tortilla chips            97\n[ 55] club sandwich             97\n[ 77] filet mignon              97\n[ 95] greek salad               97\n[141] pancakes                  98\n[152] pork chop                 98\n[ 58] coleslaw                  98\n[155] poutine                   99\n[ 46] chicken wings             99\n[ 52] churros                   99\n[102] gyoza                     100\n[110] hummus                    100\n[134] omelette                  100\n[138] oysters                   100\n[139] pad thai                  100\n[154] potatoes                  100\n[184] strawberry shortcake      100\n[ 33] cannoli                   100\n[ 71] dumplings                 100\n[ 83] french toast              100\n[120] macarons                  101\n[130] nachos                    101\n[142] panna cotta               101\n[167] samosa                    101\n[171] scallops                  101\n[172] seaweed salad             101\n[182] steak                     101\n[ 99] grilled cheese sandwich   101\n[113] lasagna                   102\n[158] pulled pork sandwich      102\n[178] spaghetti bolognese       102\n[ 13] beef carpaccio            103\n[144] parsley                   103\n[159] ramen                     103\n[174] shrimp and grits          103\n[ 42] cheesecake                103\n[  5] baby back ribs            103\n[ 84] fried calamari            103\n[107] hot and sour soup         104\n[187] tacos                     104\n[ 64] croque madame             104\n[128] mussels                   105\n[ 16] beet salad                105\n[ 27] bruschetta                105\n[ 49] chocolate cake            106\n[100] grilled salmon            107\n[121] mashed potatoes           107\n[ 51] chocolate sauce           107\n[ 67] cup cakes                 107\n[  0] apple pie                 108\n[168] sashimi                   108\n[186] syrup                     109\n[ 54] clam chowder              109\n[ 63] creme brulee              110\n[162] red velvet cake           112\n[104] hamburger                 113\n[123] miso soup                 113\n[119] macaroni and cheese       115\n[185] sushi                     115\n[ 36] carrots                   116\n[151] pizza                     117\n[ 73] eggs                      119\n[112] ketchup                   120\n[135] onion rings               121\n[ 86] fried rice                123\n[ 89] garlic bread              128\n[ 29] butter                    129\n[126] mixed vegetables          140\n[136] onions                    143\n[156] powdered sugar            150\n[176] sour cream                153\n[166] salsa                     154\n[101] guacamole                 189\n[199] whipped cream             192\n[183] strawberries              203\n[169] sauce                     207\n[163] rice                      208\n[165] salad                     218\n[111] ice cream                 226\n[ 39] cheese                    270\n[193] tomato slice              282\n[ 23] bread                     306\n[115] lettuce                   317\n[114] lemon slice               335\n[ 69] dipping sauce             357\n[ 81] french fries              528\n"
     ]
    }
   ],
   "source": [
    "food_frequency(df_train)"
   ]
  },
  {
   "cell_type": "code",
   "execution_count": 118,
   "metadata": {},
   "outputs": [
    {
     "output_type": "stream",
     "name": "stdout",
     "text": [
      "[ 18] berries                   3\n[  3] au jus                    3\n[ 30] cabbage                   3\n[ 32] cake                      3\n[ 20] black beans               4\n[ 87] frosting                  4\n[ 90] garnish                   4\n[ 12] beef                      5\n[127] mushrooms                 5\n[131] noodles                   5\n[147] peppers                   5\n[ 48] chocolate                 5\n[ 91] ginger                    5\n[ 56] cocktail sauce            6\n[ 93] grapes                    6\n[ 11] beans                     7\n[132] nuts                      7\n[175] soup                      7\n[200] wine                      7\n[ 43] chicken                   7\n[ 53] cilantro                  7\n[ 85] fried egg                 7\n[122] mint                      8\n[ 21] blackberries              8\n[  4] avocado                   8\n[145] peas                      9\n[170] sausage                   9\n[194] tortilla                  9\n[ 47] chives                    9\n[ 62] cream                     9\n[ 65] croutons                  9\n[ 66] cucumber slice            9\n[ 98] greens                    9\n[129] mustard                   10\n[143] parmesan cheese           10\n[ 15] beer                      10\n[ 28] bun                       10\n[ 41] cheeseburger              10\n[ 59] corn                      10\n[ 96] green beans               10\n[105] hash browns               11\n[125] mixed greens              11\n[180] spinach                   11\n[192] tomato sauce              11\n[ 57] coffee                    11\n[133] olives                    12\n[ 94] gravy                     12\n[173] shrimp                    13\n[197] waffles                   13\n[198] wasabi                    13\n[  2] asparagus                 13\n[  1] arugula                   14\n[106] home fries                14\n[149] pickles                   14\n[160] raspberries               14\n[177] soy sauce                 14\n[ 26] broccoli                  14\n[184] strawberry shortcake      15\n[ 37] celery                    15\n[ 88] frozen yogurt             15\n[  9] basil                     15\n[ 10] bean sprouts              16\n[116] lime slice                16\n[ 22] blueberries               16\n[ 24] bread pudding             16\n[ 60] crab cakes                16\n[103] ham                       17\n[120] macarons                  17\n[124] mixed fruit               17\n[137] orange slice              17\n[161] ravioli                   17\n[ 17] beignets                  17\n[  6] bacon                     17\n[ 61] crackers                  17\n[ 68] deviled eggs              17\n[  7] baked potato              17\n[113] lasagna                   18\n[174] shrimp and grits          18\n[186] syrup                     18\n[ 38] ceviche                   18\n[ 51] chocolate sauce           18\n[  8] baklava                   18\n[142] panna cotta               19\n[144] parsley                   19\n[150] pita bread                19\n[ 80] foie gras                 19\n[139] pad thai                  20\n[157] prime rib                 20\n[118] lobster roll sandwich     21\n[140] paella                    21\n[146] peking duck               21\n[ 16] beet salad                21\n[179] spaghetti carbonara       21\n[187] tacos                     21\n[191] toast                     21\n[ 64] croque madame             21\n[100] grilled salmon            22\n[151] pizza                     22\n[195] tortilla chips            22\n[ 44] chicken curry             22\n[ 63] creme brulee              22\n[ 75] escargots                 22\n[ 76] falafel                   22\n[ 83] french toast              22\n[ 86] fried rice                22\n[130] nachos                    23\n[141] pancakes                  23\n[178] spaghetti bolognese       23\n[188] takoyaki                  23\n[189] tartar sauce              23\n[ 25] breakfast burrito         23\n[ 45] chicken quesadilla        23\n[ 99] grilled cheese sandwich   23\n[135] onion rings               24\n[158] pulled pork sandwich      24\n[164] risotto                   24\n[171] scallops                  24\n[181] spring rolls              24\n[ 70] donuts                    24\n[110] hummus                    25\n[ 14] beef tartare              25\n[162] red velvet cake           25\n[172] seaweed salad             25\n[ 27] bruschetta                25\n[ 33] cannoli                   25\n[ 40] cheese plate              25\n[ 67] cup cakes                 25\n[117] lobster bisque            26\n[152] pork chop                 26\n[168] sashimi                   26\n[190] tiramisu                  26\n[196] tuna tartare              26\n[ 49] chocolate cake            26\n[ 50] chocolate mousse          26\n[ 74] eggs benedict             26\n[ 77] filet mignon              26\n[ 78] fish                      26\n[ 79] fish and chips            26\n[128] mussels                   27\n[155] poutine                   27\n[185] sushi                     27\n[ 71] dumplings                 27\n[ 72] edamame                   27\n[  0] apple pie                 28\n[107] hot and sour soup         28\n[109] huevos rancheros          28\n[ 42] cheesecake                28\n[ 52] churros                   28\n[ 58] coleslaw                  28\n[ 84] fried calamari            28\n[ 95] greek salad               28\n[104] hamburger                 29\n[108] hot dog                   29\n[134] omelette                  29\n[148] pho                       29\n[153] potato chips              29\n[ 46] chicken wings             29\n[ 55] club sandwich             29\n[119] macaroni and cheese       30\n[123] miso soup                 30\n[159] ramen                     30\n[ 35] carrot cake               30\n[  5] baby back ribs            30\n[121] mashed potatoes           31\n[ 29] butter                    31\n[ 34] caprese salad             31\n[ 82] french onion soup         31\n[102] gyoza                     32\n[167] samosa                    32\n[ 92] gnocchi                   32\n[156] powdered sugar            33\n[ 13] beef carpaccio            34\n[138] oysters                   34\n[ 31] caesar salad              34\n[ 36] carrots                   34\n[ 54] clam chowder              34\n[ 97] green onions              34\n[112] ketchup                   35\n[ 19] bibimbap                  35\n[126] mixed vegetables          36\n[ 89] garlic bread              37\n[166] salsa                     38\n[182] steak                     38\n[136] onions                    39\n[176] sour cream                39\n[ 73] eggs                      39\n[163] rice                      41\n[154] potatoes                  43\n[111] ice cream                 48\n[183] strawberries              49\n[199] whipped cream             49\n[101] guacamole                 52\n[169] sauce                     54\n[ 39] cheese                    64\n[193] tomato slice              68\n[115] lettuce                   71\n[165] salad                     73\n[ 23] bread                     86\n[114] lemon slice               101\n[ 69] dipping sauce             105\n[ 81] french fries              137\n"
     ]
    }
   ],
   "source": [
    "food_frequency(df_test)"
   ]
  },
  {
   "cell_type": "code",
   "execution_count": 120,
   "metadata": {},
   "outputs": [
    {
     "output_type": "stream",
     "name": "stdout",
     "text": [
      "[  0] apple pie                  108 0.01   28 0.01  3.86\n[  1] arugula                     31 0.00   14 0.01  2.21\n[  2] asparagus                   54 0.01   16 0.01  3.38\n[  3] au jus                     107 0.01   22 0.01  4.86\n[  4] avocado                    189 0.02   52 0.02  3.63\n[  5] baby back ribs             100 0.01   32 0.01  3.12\n[  6] bacon                       28 0.00   17 0.01  1.65\n[  7] baked potato               113 0.01   29 0.01  3.90\n[  8] baklava                     53 0.01   11 0.00  4.82\n[  9] basil                       41 0.00   14 0.01  2.93\n[ 10] bean sprouts               104 0.01   28 0.01  3.71\n[ 11] beans                       96 0.01   29 0.01  3.31\n[ 12] beef                        84 0.01   28 0.01  3.00\n[ 13] beef carpaccio              45 0.00    7 0.00  6.43\n[ 14] beef tartare               100 0.01   25 0.01  4.00\n[ 15] beer                       226 0.02   48 0.02  4.71\n[ 16] beet salad                 120 0.01   35 0.01  3.43\n[ 17] beignets                   102 0.01   18 0.01  5.67\n[ 18] berries                    335 0.03  101 0.04  3.32\n[ 19] bibimbap                   317 0.03   71 0.03  4.46\n[ 20] black beans                 96 0.01   16 0.01  6.00\n[ 21] blackberries                85 0.01   26 0.01  3.27\n[ 22] blueberries                 90 0.01   21 0.01  4.29\n[ 23] bread                      115 0.01   30 0.01  3.83\n[ 24] bread pudding               41 0.00    5 0.00  8.20\n[ 25] breakfast burrito          101 0.01   17 0.01  5.94\n[ 26] broccoli                   107 0.01   31 0.01  3.45\n[ 27] bruschetta                  37 0.00    8 0.00  4.62\n[ 28] bun                        113 0.01   30 0.01  3.77\n[ 29] butter                      74 0.01   17 0.01  4.35\n[ 30] cabbage                     21 0.00   11 0.00  1.91\n[ 31] caesar salad               140 0.01   36 0.01  3.89\n[ 32] cake                        43 0.00    5 0.00  8.60\n[ 33] cannoli                    105 0.01   27 0.01  3.89\n[ 34] caprese salad               21 0.00   10 0.00  2.10\n[ 35] carrot cake                103 0.01   34 0.01  3.03\n[ 36] carrots                    101 0.01   23 0.01  4.39\n[ 37] celery                      49 0.01    5 0.00  9.80\n[ 38] ceviche                     33 0.00    7 0.00  4.71\n[ 39] cheese                      43 0.00   12 0.00  3.58\n[ 40] cheese plate               100 0.01   29 0.01  3.45\n[ 41] cheeseburger               121 0.01   24 0.01  5.04\n[ 42] cheesecake                 143 0.01   39 0.02  3.67\n[ 43] chicken                     50 0.01   17 0.01  2.94\n[ 44] chicken curry              100 0.01   34 0.01  2.94\n[ 45] chicken quesadilla         100 0.01   20 0.01  5.00\n[ 46] chicken wings               76 0.01   25 0.01  3.04\n[ 47] chives                      84 0.01   21 0.01  4.00\n[ 48] chocolate                   98 0.01   23 0.01  4.26\n[ 49] chocolate cake             101 0.01   19 0.01  5.32\n[ 50] chocolate mousse            25 0.00   10 0.00  2.50\n[ 51] chocolate sauce            103 0.01   19 0.01  5.42\n[ 52] churros                     34 0.00    9 0.00  3.78\n[ 53] cilantro                    97 0.01   21 0.01  4.62\n[ 54] clam chowder                26 0.00    5 0.00  5.20\n[ 55] club sandwich               91 0.01   29 0.01  3.14\n[ 56] cocktail sauce              79 0.01   14 0.01  5.64\n[ 57] coffee                      25 0.00   10 0.00  2.50\n[ 58] coleslaw                    60 0.01   19 0.01  3.16\n[ 59] corn                       117 0.01   22 0.01  5.32\n[ 60] crab cakes                  98 0.01   26 0.01  3.77\n[ 61] crackers                    80 0.01   29 0.01  2.76\n[ 62] cream                      100 0.01   43 0.02  2.33\n[ 63] creme brulee                99 0.01   27 0.01  3.67\n[ 64] croque madame              150 0.02   33 0.01  4.55\n[ 65] croutons                    97 0.01   20 0.01  4.85\n[ 66] cucumber slice             102 0.01   24 0.01  4.25\n[ 67] cup cakes                  103 0.01   30 0.01  3.43\n[ 68] deviled eggs               105 0.01   21 0.01  5.00\n[ 69] dipping sauce               49 0.01   14 0.01  3.50\n[ 70] donuts                      91 0.01   17 0.01  5.35\n[ 71] dumplings                  112 0.01   25 0.01  4.48\n[ 72] edamame                    208 0.02   41 0.02  5.07\n[ 73] eggs                        95 0.01   24 0.01  3.96\n[ 74] eggs benedict              218 0.02   73 0.03  2.99\n[ 75] escargots                  154 0.02   38 0.02  4.05\n[ 76] falafel                    101 0.01   32 0.01  3.16\n[ 77] filet mignon               108 0.01   26 0.01  4.15\n[ 78] fish                       207 0.02   54 0.02  3.83\n[ 79] fish and chips              94 0.01   17 0.01  5.53\n[ 80] foie gras                   23 0.00    9 0.00  2.56\n[ 81] french fries               101 0.01   24 0.01  4.21\n[ 82] french onion soup          101 0.01   25 0.01  4.04\n[ 83] french toast                71 0.01   13 0.01  5.46\n[ 84] fried calamari             103 0.01   18 0.01  5.72\n[ 85] fried egg                   27 0.00    7 0.00  3.86\n[ 86] fried rice                 153 0.02   39 0.02  3.92\n[ 87] frosting                    48 0.00   14 0.01  3.43\n[ 88] frozen yogurt              102 0.01   23 0.01  4.43\n[ 89] garlic bread                79 0.01   21 0.01  3.76\n[ 90] garnish                     25 0.00    3 0.00  8.33\n[ 91] ginger                      70 0.01   11 0.00  6.36\n[ 92] gnocchi                     90 0.01   24 0.01  3.75\n[ 93] grapes                     101 0.01   38 0.02  2.66\n[ 94] gravy                      203 0.02   49 0.02  4.14\n[ 95] greek salad                100 0.01   15 0.01  6.67\n[ 96] green beans                115 0.01   27 0.01  4.26\n[ 97] green onions               109 0.01   18 0.01  6.06\n[ 98] greens                     104 0.01   21 0.01  4.95\n[ 99] grilled cheese sandwich     90 0.01   23 0.01  3.91\n[100] grilled salmon              63 0.01   23 0.01  2.74\n[101] guacamole                   92 0.01   35 0.01  2.63\n[102] gyoza                       92 0.01   26 0.01  3.54\n[103] ham                         86 0.01   21 0.01  4.10\n[104] hamburger                   17 0.00   11 0.00  1.55\n[105] hash browns                282 0.03   68 0.03  4.15\n[106] home fries                  27 0.00    9 0.00  3.00\n[107] hot and sour soup           97 0.01   22 0.01  4.41\n[108] hot dog                     90 0.01   26 0.01  3.46\n[109] huevos rancheros            92 0.01   13 0.01  7.08\n[110] hummus                      45 0.00   13 0.01  3.46\n[111] ice cream                  192 0.02   49 0.02  3.92\n[112] ketchup                     46 0.00   13 0.01  3.54\n[113] lasagna                     15 0.00    4 0.00  3.75\n[114] lemon slice                 22 0.00    7 0.00  3.14\n[115] lettuce                     21 0.00    8 0.00  2.62\n[116] lime slice                  67 0.01   16 0.01  4.19\n[117] lobster bisque             306 0.03   86 0.04  3.56\n[118] lobster roll sandwich       93 0.01   16 0.01  5.81\n[119] macaroni and cheese         96 0.01   23 0.01  4.17\n[120] macarons                    50 0.01   14 0.01  3.57\n[121] mashed potatoes            105 0.01   25 0.01  4.20\n[122] mint                        15 0.00   10 0.00  1.50\n[123] miso soup                  129 0.01   31 0.01  4.16\n[124] mixed fruit                 15 0.00    3 0.00  5.00\n[125] mixed greens                30 0.00    3 0.00  10.00\n[126] mixed vegetables            95 0.01   34 0.01  2.79\n[127] mushrooms                   28 0.00    3 0.00  9.33\n[128] mussels                    100 0.01   25 0.01  4.00\n[129] mustard                     92 0.01   31 0.01  2.97\n[130] nachos                      90 0.01   30 0.01  3.00\n[131] noodles                    116 0.01   34 0.01  3.41\n[132] nuts                        49 0.01   15 0.01  3.27\n[133] olives                      90 0.01   18 0.01  5.00\n[134] omelette                   270 0.03   64 0.03  4.22\n[135] onion rings                 45 0.00    8 0.00  5.62\n[136] onions                      91 0.01   25 0.01  3.64\n[137] orange slice                34 0.00   10 0.00  3.40\n[138] oysters                    103 0.01   28 0.01  3.68\n[139] pad thai                    26 0.00    7 0.00  3.71\n[140] paella                      89 0.01   22 0.01  4.05\n[141] pancakes                    91 0.01   23 0.01  3.96\n[142] panna cotta                 99 0.01   29 0.01  3.41\n[143] parmesan cheese             24 0.00    9 0.00  2.67\n[144] parsley                     22 0.00    5 0.00  4.40\n[145] peas                       106 0.01   26 0.01  4.08\n[146] peking duck                103 0.01   30 0.01  3.43\n[147] peppers                     96 0.01   26 0.01  3.69\n[148] pho                        107 0.01   18 0.01  5.94\n[149] pickles                     99 0.01   28 0.01  3.54\n[150] pita bread                  19 0.00    7 0.00  2.71\n[151] pizza                      109 0.01   34 0.01  3.21\n[152] pork chop                   97 0.01   29 0.01  3.34\n[153] potato chips                30 0.00    6 0.00  5.00\n[154] potatoes                    42 0.00   11 0.00  3.82\n[155] poutine                     98 0.01   28 0.01  3.50\n[156] powdered sugar              49 0.01   10 0.00  4.90\n[157] prime rib                   75 0.01   17 0.01  4.41\n[158] pulled pork sandwich        96 0.01   16 0.01  6.00\n[159] ramen                       39 0.00   17 0.01  2.29\n[160] raspberries                 30 0.00    9 0.00  3.33\n[161] ravioli                    110 0.01   22 0.01  5.00\n[162] red velvet cake            104 0.01   21 0.01  4.95\n[163] rice                        22 0.00    9 0.00  2.44\n[164] risotto                     84 0.01    9 0.00  9.33\n[165] salad                      107 0.01   25 0.01  4.28\n[166] salsa                       85 0.01   17 0.01  5.00\n[167] samosa                     357 0.04  105 0.04  3.40\n[168] sashimi                     31 0.00   17 0.01  1.82\n[169] sauce                       94 0.01   24 0.01  3.92\n[170] sausage                    100 0.01   27 0.01  3.70\n[171] scallops                    95 0.01   27 0.01  3.52\n[172] seaweed salad              119 0.01   39 0.02  3.05\n[173] shrimp                      83 0.01   26 0.01  3.19\n[174] shrimp and grits            91 0.01   22 0.01  4.14\n[175] soup                        94 0.01   22 0.01  4.27\n[176] sour cream                  97 0.01   26 0.01  3.73\n[177] soy sauce                   86 0.01   26 0.01  3.31\n[178] spaghetti bolognese         86 0.01   26 0.01  3.31\n[179] spaghetti carbonara         88 0.01   18 0.01  4.89\n[180] spinach                     91 0.01   19 0.01  4.79\n[181] spring rolls               528 0.05  137 0.06  3.85\n[182] steak                       77 0.01   31 0.01  2.48\n[183] strawberries               100 0.01   22 0.01  4.55\n[184] strawberry shortcake       103 0.01   28 0.01  3.68\n[185] sushi                       42 0.00    7 0.00  6.00\n[186] syrup                      123 0.01   22 0.01  5.59\n[187] tacos                       23 0.00    4 0.00  5.75\n[188] takoyaki                    85 0.01   15 0.01  5.67\n[189] tartar sauce               128 0.01   37 0.02  3.46\n[190] tiramisu                    27 0.00   15 0.01  1.80\n[191] toast                       33 0.00    4 0.00  8.25\n[192] tomato sauce                24 0.00    5 0.00  4.80\n[193] tomato slice                93 0.01   32 0.01  2.91\n[194] tortilla                    40 0.00    6 0.00  6.67\n[195] tortilla chips              49 0.01   12 0.00  4.08\n[196] tuna tartare                97 0.01   28 0.01  3.46\n[197] waffles                     46 0.00   10 0.00  4.60\n[198] wasabi                      90 0.01   34 0.01  2.65\n[199] whipped cream               45 0.00    9 0.00  5.00\n[200] wine                       101 0.01   23 0.01  4.39\n"
     ]
    }
   ],
   "source": [
    "food_ids_test = np.concatenate(df_test[\"ids\"].values)\n",
    "food_ids_test_u, food_ids_test_c = np.unique(food_ids_test, return_counts=True)\n",
    "\n",
    "food_ids_train = np.concatenate(df_train[\"ids\"].values)\n",
    "food_ids_train_u, food_ids_train_c = np.unique(food_ids_train, return_counts=True)\n",
    "\n",
    "food_ids_test_u, food_ids_test_c = zip(*sorted(zip(food_ids_test_u, food_ids_test_c), key=lambda x: x[0]))\n",
    "food_ids_train_u, food_ids_train_c = zip(*sorted(zip(food_ids_train_u, food_ids_train_c), key=lambda x: x[0]))\n",
    "\n",
    "food_id = 0\n",
    "index_test = 0\n",
    "index_train = 0\n",
    "\n",
    "abundancy_ratios = []\n",
    "\n",
    "while food_id <= MAX_ID:\n",
    "\n",
    "    id_train = food_ids_train_u[index_train]\n",
    "    id_test = food_ids_test_u[index_test]\n",
    "\n",
    "    food = df_labels.loc[int(food_id), \"food\"]\n",
    "\n",
    "    if id_train == id_test:\n",
    "        count_train = food_ids_train_c[index_train]\n",
    "        count_test = food_ids_test_c[index_test]\n",
    "\n",
    "        ratio = count_train / count_test\n",
    "        abundancy_ratios.append(ratio)\n",
    "\n",
    "        print(f\"[{food_id:>3}] {food:25} {count_train:4d} {count_train / df_train.shape[0]:.2f} {count_test:4d} {count_test / df_test.shape[0]:.2f}  {ratio:.2f}\")\n",
    "        index_train += 1\n",
    "        index_test += 1\n",
    "\n",
    "    elif id_train > id_test:\n",
    "        print(f\"[{food_id:>3}] {food:25} {count_test:4d} ONLY IN TEST SET\")\n",
    "        index_test += 1\n",
    "    elif id_train < id_test:\n",
    "        print(f\"[{food_id:>3}] {food:25} {count_train:4d} ONLY IN TRAIN SET\")\n",
    "        index_train += 1\n",
    "\n",
    "    food_id += 1   "
   ]
  },
  {
   "cell_type": "code",
   "execution_count": 121,
   "metadata": {},
   "outputs": [
    {
     "output_type": "execute_result",
     "data": {
      "text/plain": [
       "(array([ 3.,  2.,  1.,  1.,  3.,  4.,  6.,  4., 10.,  8.,  9., 21., 11.,\n",
       "        15., 14., 14.,  7., 10.,  5.,  6., 12.,  2.,  3.,  3.,  6.,  2.,\n",
       "         6.,  0.,  2.,  0.,  2.,  0.,  1.,  0.,  0.,  0.,  0.,  0.,  0.,\n",
       "         2.,  1.,  1.,  0.,  0.,  0.,  0.,  2.,  0.,  1.,  1.]),\n",
       " array([ 1.5 ,  1.67,  1.84,  2.01,  2.18,  2.35,  2.52,  2.69,  2.86,\n",
       "         3.03,  3.2 ,  3.37,  3.54,  3.71,  3.88,  4.05,  4.22,  4.39,\n",
       "         4.56,  4.73,  4.9 ,  5.07,  5.24,  5.41,  5.58,  5.75,  5.92,\n",
       "         6.09,  6.26,  6.43,  6.6 ,  6.77,  6.94,  7.11,  7.28,  7.45,\n",
       "         7.62,  7.79,  7.96,  8.13,  8.3 ,  8.47,  8.64,  8.81,  8.98,\n",
       "         9.15,  9.32,  9.49,  9.66,  9.83, 10.  ]),\n",
       " <a list of 50 Patch objects>)"
      ]
     },
     "metadata": {},
     "execution_count": 121
    },
    {
     "output_type": "display_data",
     "data": {
      "text/plain": "<Figure size 432x288 with 1 Axes>",
      "image/svg+xml": "<?xml version=\"1.0\" encoding=\"utf-8\" standalone=\"no\"?>\r\n<!DOCTYPE svg PUBLIC \"-//W3C//DTD SVG 1.1//EN\"\r\n  \"http://www.w3.org/Graphics/SVG/1.1/DTD/svg11.dtd\">\r\n<!-- Created with matplotlib (https://matplotlib.org/) -->\r\n<svg height=\"248.518125pt\" version=\"1.1\" viewBox=\"0 0 378.465625 248.518125\" width=\"378.465625pt\" xmlns=\"http://www.w3.org/2000/svg\" xmlns:xlink=\"http://www.w3.org/1999/xlink\">\r\n <defs>\r\n  <style type=\"text/css\">\r\n*{stroke-linecap:butt;stroke-linejoin:round;}\r\n  </style>\r\n </defs>\r\n <g id=\"figure_1\">\r\n  <g id=\"patch_1\">\r\n   <path d=\"M 0 248.518125 \r\nL 378.465625 248.518125 \r\nL 378.465625 0 \r\nL 0 0 \r\nz\r\n\" style=\"fill:none;\"/>\r\n  </g>\r\n  <g id=\"axes_1\">\r\n   <g id=\"patch_2\">\r\n    <path d=\"M 36.465625 224.64 \r\nL 371.265625 224.64 \r\nL 371.265625 7.2 \r\nL 36.465625 7.2 \r\nz\r\n\" style=\"fill:#ffffff;\"/>\r\n   </g>\r\n   <g id=\"patch_3\">\r\n    <path clip-path=\"url(#pdce2b66a3e)\" d=\"M 51.683807 224.64 \r\nL 57.77108 224.64 \r\nL 57.77108 195.056327 \r\nL 51.683807 195.056327 \r\nz\r\n\" style=\"fill:#1f77b4;\"/>\r\n   </g>\r\n   <g id=\"patch_4\">\r\n    <path clip-path=\"url(#pdce2b66a3e)\" d=\"M 57.77108 224.64 \r\nL 63.858352 224.64 \r\nL 63.858352 204.917551 \r\nL 57.77108 204.917551 \r\nz\r\n\" style=\"fill:#1f77b4;\"/>\r\n   </g>\r\n   <g id=\"patch_5\">\r\n    <path clip-path=\"url(#pdce2b66a3e)\" d=\"M 63.858352 224.64 \r\nL 69.945625 224.64 \r\nL 69.945625 214.778776 \r\nL 63.858352 214.778776 \r\nz\r\n\" style=\"fill:#1f77b4;\"/>\r\n   </g>\r\n   <g id=\"patch_6\">\r\n    <path clip-path=\"url(#pdce2b66a3e)\" d=\"M 69.945625 224.64 \r\nL 76.032898 224.64 \r\nL 76.032898 214.778776 \r\nL 69.945625 214.778776 \r\nz\r\n\" style=\"fill:#1f77b4;\"/>\r\n   </g>\r\n   <g id=\"patch_7\">\r\n    <path clip-path=\"url(#pdce2b66a3e)\" d=\"M 76.032898 224.64 \r\nL 82.12017 224.64 \r\nL 82.12017 195.056327 \r\nL 76.032898 195.056327 \r\nz\r\n\" style=\"fill:#1f77b4;\"/>\r\n   </g>\r\n   <g id=\"patch_8\">\r\n    <path clip-path=\"url(#pdce2b66a3e)\" d=\"M 82.12017 224.64 \r\nL 88.207443 224.64 \r\nL 88.207443 185.195102 \r\nL 82.12017 185.195102 \r\nz\r\n\" style=\"fill:#1f77b4;\"/>\r\n   </g>\r\n   <g id=\"patch_9\">\r\n    <path clip-path=\"url(#pdce2b66a3e)\" d=\"M 88.207443 224.64 \r\nL 94.294716 224.64 \r\nL 94.294716 165.472653 \r\nL 88.207443 165.472653 \r\nz\r\n\" style=\"fill:#1f77b4;\"/>\r\n   </g>\r\n   <g id=\"patch_10\">\r\n    <path clip-path=\"url(#pdce2b66a3e)\" d=\"M 94.294716 224.64 \r\nL 100.381989 224.64 \r\nL 100.381989 185.195102 \r\nL 94.294716 185.195102 \r\nz\r\n\" style=\"fill:#1f77b4;\"/>\r\n   </g>\r\n   <g id=\"patch_11\">\r\n    <path clip-path=\"url(#pdce2b66a3e)\" d=\"M 100.381989 224.64 \r\nL 106.469261 224.64 \r\nL 106.469261 126.027755 \r\nL 100.381989 126.027755 \r\nz\r\n\" style=\"fill:#1f77b4;\"/>\r\n   </g>\r\n   <g id=\"patch_12\">\r\n    <path clip-path=\"url(#pdce2b66a3e)\" d=\"M 106.469261 224.64 \r\nL 112.556534 224.64 \r\nL 112.556534 145.750204 \r\nL 106.469261 145.750204 \r\nz\r\n\" style=\"fill:#1f77b4;\"/>\r\n   </g>\r\n   <g id=\"patch_13\">\r\n    <path clip-path=\"url(#pdce2b66a3e)\" d=\"M 112.556534 224.64 \r\nL 118.643807 224.64 \r\nL 118.643807 135.88898 \r\nL 112.556534 135.88898 \r\nz\r\n\" style=\"fill:#1f77b4;\"/>\r\n   </g>\r\n   <g id=\"patch_14\">\r\n    <path clip-path=\"url(#pdce2b66a3e)\" d=\"M 118.643807 224.64 \r\nL 124.73108 224.64 \r\nL 124.73108 17.554286 \r\nL 118.643807 17.554286 \r\nz\r\n\" style=\"fill:#1f77b4;\"/>\r\n   </g>\r\n   <g id=\"patch_15\">\r\n    <path clip-path=\"url(#pdce2b66a3e)\" d=\"M 124.73108 224.64 \r\nL 130.818352 224.64 \r\nL 130.818352 116.166531 \r\nL 124.73108 116.166531 \r\nz\r\n\" style=\"fill:#1f77b4;\"/>\r\n   </g>\r\n   <g id=\"patch_16\">\r\n    <path clip-path=\"url(#pdce2b66a3e)\" d=\"M 130.818352 224.64 \r\nL 136.905625 224.64 \r\nL 136.905625 76.721633 \r\nL 130.818352 76.721633 \r\nz\r\n\" style=\"fill:#1f77b4;\"/>\r\n   </g>\r\n   <g id=\"patch_17\">\r\n    <path clip-path=\"url(#pdce2b66a3e)\" d=\"M 136.905625 224.64 \r\nL 142.992898 224.64 \r\nL 142.992898 86.582857 \r\nL 136.905625 86.582857 \r\nz\r\n\" style=\"fill:#1f77b4;\"/>\r\n   </g>\r\n   <g id=\"patch_18\">\r\n    <path clip-path=\"url(#pdce2b66a3e)\" d=\"M 142.992898 224.64 \r\nL 149.08017 224.64 \r\nL 149.08017 86.582857 \r\nL 142.992898 86.582857 \r\nz\r\n\" style=\"fill:#1f77b4;\"/>\r\n   </g>\r\n   <g id=\"patch_19\">\r\n    <path clip-path=\"url(#pdce2b66a3e)\" d=\"M 149.08017 224.64 \r\nL 155.167443 224.64 \r\nL 155.167443 155.611429 \r\nL 149.08017 155.611429 \r\nz\r\n\" style=\"fill:#1f77b4;\"/>\r\n   </g>\r\n   <g id=\"patch_20\">\r\n    <path clip-path=\"url(#pdce2b66a3e)\" d=\"M 155.167443 224.64 \r\nL 161.254716 224.64 \r\nL 161.254716 126.027755 \r\nL 155.167443 126.027755 \r\nz\r\n\" style=\"fill:#1f77b4;\"/>\r\n   </g>\r\n   <g id=\"patch_21\">\r\n    <path clip-path=\"url(#pdce2b66a3e)\" d=\"M 161.254716 224.64 \r\nL 167.341989 224.64 \r\nL 167.341989 175.333878 \r\nL 161.254716 175.333878 \r\nz\r\n\" style=\"fill:#1f77b4;\"/>\r\n   </g>\r\n   <g id=\"patch_22\">\r\n    <path clip-path=\"url(#pdce2b66a3e)\" d=\"M 167.341989 224.64 \r\nL 173.429261 224.64 \r\nL 173.429261 165.472653 \r\nL 167.341989 165.472653 \r\nz\r\n\" style=\"fill:#1f77b4;\"/>\r\n   </g>\r\n   <g id=\"patch_23\">\r\n    <path clip-path=\"url(#pdce2b66a3e)\" d=\"M 173.429261 224.64 \r\nL 179.516534 224.64 \r\nL 179.516534 106.305306 \r\nL 173.429261 106.305306 \r\nz\r\n\" style=\"fill:#1f77b4;\"/>\r\n   </g>\r\n   <g id=\"patch_24\">\r\n    <path clip-path=\"url(#pdce2b66a3e)\" d=\"M 179.516534 224.64 \r\nL 185.603807 224.64 \r\nL 185.603807 204.917551 \r\nL 179.516534 204.917551 \r\nz\r\n\" style=\"fill:#1f77b4;\"/>\r\n   </g>\r\n   <g id=\"patch_25\">\r\n    <path clip-path=\"url(#pdce2b66a3e)\" d=\"M 185.603807 224.64 \r\nL 191.69108 224.64 \r\nL 191.69108 195.056327 \r\nL 185.603807 195.056327 \r\nz\r\n\" style=\"fill:#1f77b4;\"/>\r\n   </g>\r\n   <g id=\"patch_26\">\r\n    <path clip-path=\"url(#pdce2b66a3e)\" d=\"M 191.69108 224.64 \r\nL 197.778352 224.64 \r\nL 197.778352 195.056327 \r\nL 191.69108 195.056327 \r\nz\r\n\" style=\"fill:#1f77b4;\"/>\r\n   </g>\r\n   <g id=\"patch_27\">\r\n    <path clip-path=\"url(#pdce2b66a3e)\" d=\"M 197.778352 224.64 \r\nL 203.865625 224.64 \r\nL 203.865625 165.472653 \r\nL 197.778352 165.472653 \r\nz\r\n\" style=\"fill:#1f77b4;\"/>\r\n   </g>\r\n   <g id=\"patch_28\">\r\n    <path clip-path=\"url(#pdce2b66a3e)\" d=\"M 203.865625 224.64 \r\nL 209.952898 224.64 \r\nL 209.952898 204.917551 \r\nL 203.865625 204.917551 \r\nz\r\n\" style=\"fill:#1f77b4;\"/>\r\n   </g>\r\n   <g id=\"patch_29\">\r\n    <path clip-path=\"url(#pdce2b66a3e)\" d=\"M 209.952898 224.64 \r\nL 216.04017 224.64 \r\nL 216.04017 165.472653 \r\nL 209.952898 165.472653 \r\nz\r\n\" style=\"fill:#1f77b4;\"/>\r\n   </g>\r\n   <g id=\"patch_30\">\r\n    <path clip-path=\"url(#pdce2b66a3e)\" d=\"M 216.04017 224.64 \r\nL 222.127443 224.64 \r\nL 222.127443 224.64 \r\nL 216.04017 224.64 \r\nz\r\n\" style=\"fill:#1f77b4;\"/>\r\n   </g>\r\n   <g id=\"patch_31\">\r\n    <path clip-path=\"url(#pdce2b66a3e)\" d=\"M 222.127443 224.64 \r\nL 228.214716 224.64 \r\nL 228.214716 204.917551 \r\nL 222.127443 204.917551 \r\nz\r\n\" style=\"fill:#1f77b4;\"/>\r\n   </g>\r\n   <g id=\"patch_32\">\r\n    <path clip-path=\"url(#pdce2b66a3e)\" d=\"M 228.214716 224.64 \r\nL 234.301989 224.64 \r\nL 234.301989 224.64 \r\nL 228.214716 224.64 \r\nz\r\n\" style=\"fill:#1f77b4;\"/>\r\n   </g>\r\n   <g id=\"patch_33\">\r\n    <path clip-path=\"url(#pdce2b66a3e)\" d=\"M 234.301989 224.64 \r\nL 240.389261 224.64 \r\nL 240.389261 204.917551 \r\nL 234.301989 204.917551 \r\nz\r\n\" style=\"fill:#1f77b4;\"/>\r\n   </g>\r\n   <g id=\"patch_34\">\r\n    <path clip-path=\"url(#pdce2b66a3e)\" d=\"M 240.389261 224.64 \r\nL 246.476534 224.64 \r\nL 246.476534 224.64 \r\nL 240.389261 224.64 \r\nz\r\n\" style=\"fill:#1f77b4;\"/>\r\n   </g>\r\n   <g id=\"patch_35\">\r\n    <path clip-path=\"url(#pdce2b66a3e)\" d=\"M 246.476534 224.64 \r\nL 252.563807 224.64 \r\nL 252.563807 214.778776 \r\nL 246.476534 214.778776 \r\nz\r\n\" style=\"fill:#1f77b4;\"/>\r\n   </g>\r\n   <g id=\"patch_36\">\r\n    <path clip-path=\"url(#pdce2b66a3e)\" d=\"M 252.563807 224.64 \r\nL 258.65108 224.64 \r\nL 258.65108 224.64 \r\nL 252.563807 224.64 \r\nz\r\n\" style=\"fill:#1f77b4;\"/>\r\n   </g>\r\n   <g id=\"patch_37\">\r\n    <path clip-path=\"url(#pdce2b66a3e)\" d=\"M 258.65108 224.64 \r\nL 264.738352 224.64 \r\nL 264.738352 224.64 \r\nL 258.65108 224.64 \r\nz\r\n\" style=\"fill:#1f77b4;\"/>\r\n   </g>\r\n   <g id=\"patch_38\">\r\n    <path clip-path=\"url(#pdce2b66a3e)\" d=\"M 264.738352 224.64 \r\nL 270.825625 224.64 \r\nL 270.825625 224.64 \r\nL 264.738352 224.64 \r\nz\r\n\" style=\"fill:#1f77b4;\"/>\r\n   </g>\r\n   <g id=\"patch_39\">\r\n    <path clip-path=\"url(#pdce2b66a3e)\" d=\"M 270.825625 224.64 \r\nL 276.912898 224.64 \r\nL 276.912898 224.64 \r\nL 270.825625 224.64 \r\nz\r\n\" style=\"fill:#1f77b4;\"/>\r\n   </g>\r\n   <g id=\"patch_40\">\r\n    <path clip-path=\"url(#pdce2b66a3e)\" d=\"M 276.912898 224.64 \r\nL 283.00017 224.64 \r\nL 283.00017 224.64 \r\nL 276.912898 224.64 \r\nz\r\n\" style=\"fill:#1f77b4;\"/>\r\n   </g>\r\n   <g id=\"patch_41\">\r\n    <path clip-path=\"url(#pdce2b66a3e)\" d=\"M 283.00017 224.64 \r\nL 289.087443 224.64 \r\nL 289.087443 224.64 \r\nL 283.00017 224.64 \r\nz\r\n\" style=\"fill:#1f77b4;\"/>\r\n   </g>\r\n   <g id=\"patch_42\">\r\n    <path clip-path=\"url(#pdce2b66a3e)\" d=\"M 289.087443 224.64 \r\nL 295.174716 224.64 \r\nL 295.174716 204.917551 \r\nL 289.087443 204.917551 \r\nz\r\n\" style=\"fill:#1f77b4;\"/>\r\n   </g>\r\n   <g id=\"patch_43\">\r\n    <path clip-path=\"url(#pdce2b66a3e)\" d=\"M 295.174716 224.64 \r\nL 301.261989 224.64 \r\nL 301.261989 214.778776 \r\nL 295.174716 214.778776 \r\nz\r\n\" style=\"fill:#1f77b4;\"/>\r\n   </g>\r\n   <g id=\"patch_44\">\r\n    <path clip-path=\"url(#pdce2b66a3e)\" d=\"M 301.261989 224.64 \r\nL 307.349261 224.64 \r\nL 307.349261 214.778776 \r\nL 301.261989 214.778776 \r\nz\r\n\" style=\"fill:#1f77b4;\"/>\r\n   </g>\r\n   <g id=\"patch_45\">\r\n    <path clip-path=\"url(#pdce2b66a3e)\" d=\"M 307.349261 224.64 \r\nL 313.436534 224.64 \r\nL 313.436534 224.64 \r\nL 307.349261 224.64 \r\nz\r\n\" style=\"fill:#1f77b4;\"/>\r\n   </g>\r\n   <g id=\"patch_46\">\r\n    <path clip-path=\"url(#pdce2b66a3e)\" d=\"M 313.436534 224.64 \r\nL 319.523807 224.64 \r\nL 319.523807 224.64 \r\nL 313.436534 224.64 \r\nz\r\n\" style=\"fill:#1f77b4;\"/>\r\n   </g>\r\n   <g id=\"patch_47\">\r\n    <path clip-path=\"url(#pdce2b66a3e)\" d=\"M 319.523807 224.64 \r\nL 325.61108 224.64 \r\nL 325.61108 224.64 \r\nL 319.523807 224.64 \r\nz\r\n\" style=\"fill:#1f77b4;\"/>\r\n   </g>\r\n   <g id=\"patch_48\">\r\n    <path clip-path=\"url(#pdce2b66a3e)\" d=\"M 325.61108 224.64 \r\nL 331.698352 224.64 \r\nL 331.698352 224.64 \r\nL 325.61108 224.64 \r\nz\r\n\" style=\"fill:#1f77b4;\"/>\r\n   </g>\r\n   <g id=\"patch_49\">\r\n    <path clip-path=\"url(#pdce2b66a3e)\" d=\"M 331.698352 224.64 \r\nL 337.785625 224.64 \r\nL 337.785625 204.917551 \r\nL 331.698352 204.917551 \r\nz\r\n\" style=\"fill:#1f77b4;\"/>\r\n   </g>\r\n   <g id=\"patch_50\">\r\n    <path clip-path=\"url(#pdce2b66a3e)\" d=\"M 337.785625 224.64 \r\nL 343.872898 224.64 \r\nL 343.872898 224.64 \r\nL 337.785625 224.64 \r\nz\r\n\" style=\"fill:#1f77b4;\"/>\r\n   </g>\r\n   <g id=\"patch_51\">\r\n    <path clip-path=\"url(#pdce2b66a3e)\" d=\"M 343.872898 224.64 \r\nL 349.96017 224.64 \r\nL 349.96017 214.778776 \r\nL 343.872898 214.778776 \r\nz\r\n\" style=\"fill:#1f77b4;\"/>\r\n   </g>\r\n   <g id=\"patch_52\">\r\n    <path clip-path=\"url(#pdce2b66a3e)\" d=\"M 349.96017 224.64 \r\nL 356.047443 224.64 \r\nL 356.047443 214.778776 \r\nL 349.96017 214.778776 \r\nz\r\n\" style=\"fill:#1f77b4;\"/>\r\n   </g>\r\n   <g id=\"matplotlib.axis_1\">\r\n    <g id=\"xtick_1\">\r\n     <g id=\"line2d_1\">\r\n      <defs>\r\n       <path d=\"M 0 0 \r\nL 0 3.5 \r\n\" id=\"mcb090351e6\" style=\"stroke:#000000;stroke-width:0.8;\"/>\r\n      </defs>\r\n      <g>\r\n       <use style=\"stroke:#000000;stroke-width:0.8;\" x=\"69.58755\" xlink:href=\"#mcb090351e6\" y=\"224.64\"/>\r\n      </g>\r\n     </g>\r\n     <g id=\"text_1\">\r\n      <!-- 2 -->\r\n      <defs>\r\n       <path d=\"M 19.1875 8.296875 \r\nL 53.609375 8.296875 \r\nL 53.609375 0 \r\nL 7.328125 0 \r\nL 7.328125 8.296875 \r\nQ 12.9375 14.109375 22.625 23.890625 \r\nQ 32.328125 33.6875 34.8125 36.53125 \r\nQ 39.546875 41.84375 41.421875 45.53125 \r\nQ 43.3125 49.21875 43.3125 52.78125 \r\nQ 43.3125 58.59375 39.234375 62.25 \r\nQ 35.15625 65.921875 28.609375 65.921875 \r\nQ 23.96875 65.921875 18.8125 64.3125 \r\nQ 13.671875 62.703125 7.8125 59.421875 \r\nL 7.8125 69.390625 \r\nQ 13.765625 71.78125 18.9375 73 \r\nQ 24.125 74.21875 28.421875 74.21875 \r\nQ 39.75 74.21875 46.484375 68.546875 \r\nQ 53.21875 62.890625 53.21875 53.421875 \r\nQ 53.21875 48.921875 51.53125 44.890625 \r\nQ 49.859375 40.875 45.40625 35.40625 \r\nQ 44.1875 33.984375 37.640625 27.21875 \r\nQ 31.109375 20.453125 19.1875 8.296875 \r\nz\r\n\" id=\"DejaVuSans-50\"/>\r\n      </defs>\r\n      <g transform=\"translate(66.4063 239.238437)scale(0.1 -0.1)\">\r\n       <use xlink:href=\"#DejaVuSans-50\"/>\r\n      </g>\r\n     </g>\r\n    </g>\r\n    <g id=\"xtick_2\">\r\n     <g id=\"line2d_2\">\r\n      <g>\r\n       <use style=\"stroke:#000000;stroke-width:0.8;\" x=\"141.202523\" xlink:href=\"#mcb090351e6\" y=\"224.64\"/>\r\n      </g>\r\n     </g>\r\n     <g id=\"text_2\">\r\n      <!-- 4 -->\r\n      <defs>\r\n       <path d=\"M 37.796875 64.3125 \r\nL 12.890625 25.390625 \r\nL 37.796875 25.390625 \r\nz\r\nM 35.203125 72.90625 \r\nL 47.609375 72.90625 \r\nL 47.609375 25.390625 \r\nL 58.015625 25.390625 \r\nL 58.015625 17.1875 \r\nL 47.609375 17.1875 \r\nL 47.609375 0 \r\nL 37.796875 0 \r\nL 37.796875 17.1875 \r\nL 4.890625 17.1875 \r\nL 4.890625 26.703125 \r\nz\r\n\" id=\"DejaVuSans-52\"/>\r\n      </defs>\r\n      <g transform=\"translate(138.021273 239.238437)scale(0.1 -0.1)\">\r\n       <use xlink:href=\"#DejaVuSans-52\"/>\r\n      </g>\r\n     </g>\r\n    </g>\r\n    <g id=\"xtick_3\">\r\n     <g id=\"line2d_3\">\r\n      <g>\r\n       <use style=\"stroke:#000000;stroke-width:0.8;\" x=\"212.817497\" xlink:href=\"#mcb090351e6\" y=\"224.64\"/>\r\n      </g>\r\n     </g>\r\n     <g id=\"text_3\">\r\n      <!-- 6 -->\r\n      <defs>\r\n       <path d=\"M 33.015625 40.375 \r\nQ 26.375 40.375 22.484375 35.828125 \r\nQ 18.609375 31.296875 18.609375 23.390625 \r\nQ 18.609375 15.53125 22.484375 10.953125 \r\nQ 26.375 6.390625 33.015625 6.390625 \r\nQ 39.65625 6.390625 43.53125 10.953125 \r\nQ 47.40625 15.53125 47.40625 23.390625 \r\nQ 47.40625 31.296875 43.53125 35.828125 \r\nQ 39.65625 40.375 33.015625 40.375 \r\nz\r\nM 52.59375 71.296875 \r\nL 52.59375 62.3125 \r\nQ 48.875 64.0625 45.09375 64.984375 \r\nQ 41.3125 65.921875 37.59375 65.921875 \r\nQ 27.828125 65.921875 22.671875 59.328125 \r\nQ 17.53125 52.734375 16.796875 39.40625 \r\nQ 19.671875 43.65625 24.015625 45.921875 \r\nQ 28.375 48.1875 33.59375 48.1875 \r\nQ 44.578125 48.1875 50.953125 41.515625 \r\nQ 57.328125 34.859375 57.328125 23.390625 \r\nQ 57.328125 12.15625 50.6875 5.359375 \r\nQ 44.046875 -1.421875 33.015625 -1.421875 \r\nQ 20.359375 -1.421875 13.671875 8.265625 \r\nQ 6.984375 17.96875 6.984375 36.375 \r\nQ 6.984375 53.65625 15.1875 63.9375 \r\nQ 23.390625 74.21875 37.203125 74.21875 \r\nQ 40.921875 74.21875 44.703125 73.484375 \r\nQ 48.484375 72.75 52.59375 71.296875 \r\nz\r\n\" id=\"DejaVuSans-54\"/>\r\n      </defs>\r\n      <g transform=\"translate(209.636247 239.238437)scale(0.1 -0.1)\">\r\n       <use xlink:href=\"#DejaVuSans-54\"/>\r\n      </g>\r\n     </g>\r\n    </g>\r\n    <g id=\"xtick_4\">\r\n     <g id=\"line2d_4\">\r\n      <g>\r\n       <use style=\"stroke:#000000;stroke-width:0.8;\" x=\"284.43247\" xlink:href=\"#mcb090351e6\" y=\"224.64\"/>\r\n      </g>\r\n     </g>\r\n     <g id=\"text_4\">\r\n      <!-- 8 -->\r\n      <defs>\r\n       <path d=\"M 31.78125 34.625 \r\nQ 24.75 34.625 20.71875 30.859375 \r\nQ 16.703125 27.09375 16.703125 20.515625 \r\nQ 16.703125 13.921875 20.71875 10.15625 \r\nQ 24.75 6.390625 31.78125 6.390625 \r\nQ 38.8125 6.390625 42.859375 10.171875 \r\nQ 46.921875 13.96875 46.921875 20.515625 \r\nQ 46.921875 27.09375 42.890625 30.859375 \r\nQ 38.875 34.625 31.78125 34.625 \r\nz\r\nM 21.921875 38.8125 \r\nQ 15.578125 40.375 12.03125 44.71875 \r\nQ 8.5 49.078125 8.5 55.328125 \r\nQ 8.5 64.0625 14.71875 69.140625 \r\nQ 20.953125 74.21875 31.78125 74.21875 \r\nQ 42.671875 74.21875 48.875 69.140625 \r\nQ 55.078125 64.0625 55.078125 55.328125 \r\nQ 55.078125 49.078125 51.53125 44.71875 \r\nQ 48 40.375 41.703125 38.8125 \r\nQ 48.828125 37.15625 52.796875 32.3125 \r\nQ 56.78125 27.484375 56.78125 20.515625 \r\nQ 56.78125 9.90625 50.3125 4.234375 \r\nQ 43.84375 -1.421875 31.78125 -1.421875 \r\nQ 19.734375 -1.421875 13.25 4.234375 \r\nQ 6.78125 9.90625 6.78125 20.515625 \r\nQ 6.78125 27.484375 10.78125 32.3125 \r\nQ 14.796875 37.15625 21.921875 38.8125 \r\nz\r\nM 18.3125 54.390625 \r\nQ 18.3125 48.734375 21.84375 45.5625 \r\nQ 25.390625 42.390625 31.78125 42.390625 \r\nQ 38.140625 42.390625 41.71875 45.5625 \r\nQ 45.3125 48.734375 45.3125 54.390625 \r\nQ 45.3125 60.0625 41.71875 63.234375 \r\nQ 38.140625 66.40625 31.78125 66.40625 \r\nQ 25.390625 66.40625 21.84375 63.234375 \r\nQ 18.3125 60.0625 18.3125 54.390625 \r\nz\r\n\" id=\"DejaVuSans-56\"/>\r\n      </defs>\r\n      <g transform=\"translate(281.25122 239.238437)scale(0.1 -0.1)\">\r\n       <use xlink:href=\"#DejaVuSans-56\"/>\r\n      </g>\r\n     </g>\r\n    </g>\r\n    <g id=\"xtick_5\">\r\n     <g id=\"line2d_5\">\r\n      <g>\r\n       <use style=\"stroke:#000000;stroke-width:0.8;\" x=\"356.047443\" xlink:href=\"#mcb090351e6\" y=\"224.64\"/>\r\n      </g>\r\n     </g>\r\n     <g id=\"text_5\">\r\n      <!-- 10 -->\r\n      <defs>\r\n       <path d=\"M 12.40625 8.296875 \r\nL 28.515625 8.296875 \r\nL 28.515625 63.921875 \r\nL 10.984375 60.40625 \r\nL 10.984375 69.390625 \r\nL 28.421875 72.90625 \r\nL 38.28125 72.90625 \r\nL 38.28125 8.296875 \r\nL 54.390625 8.296875 \r\nL 54.390625 0 \r\nL 12.40625 0 \r\nz\r\n\" id=\"DejaVuSans-49\"/>\r\n       <path d=\"M 31.78125 66.40625 \r\nQ 24.171875 66.40625 20.328125 58.90625 \r\nQ 16.5 51.421875 16.5 36.375 \r\nQ 16.5 21.390625 20.328125 13.890625 \r\nQ 24.171875 6.390625 31.78125 6.390625 \r\nQ 39.453125 6.390625 43.28125 13.890625 \r\nQ 47.125 21.390625 47.125 36.375 \r\nQ 47.125 51.421875 43.28125 58.90625 \r\nQ 39.453125 66.40625 31.78125 66.40625 \r\nz\r\nM 31.78125 74.21875 \r\nQ 44.046875 74.21875 50.515625 64.515625 \r\nQ 56.984375 54.828125 56.984375 36.375 \r\nQ 56.984375 17.96875 50.515625 8.265625 \r\nQ 44.046875 -1.421875 31.78125 -1.421875 \r\nQ 19.53125 -1.421875 13.0625 8.265625 \r\nQ 6.59375 17.96875 6.59375 36.375 \r\nQ 6.59375 54.828125 13.0625 64.515625 \r\nQ 19.53125 74.21875 31.78125 74.21875 \r\nz\r\n\" id=\"DejaVuSans-48\"/>\r\n      </defs>\r\n      <g transform=\"translate(349.684943 239.238437)scale(0.1 -0.1)\">\r\n       <use xlink:href=\"#DejaVuSans-49\"/>\r\n       <use x=\"63.623047\" xlink:href=\"#DejaVuSans-48\"/>\r\n      </g>\r\n     </g>\r\n    </g>\r\n   </g>\r\n   <g id=\"matplotlib.axis_2\">\r\n    <g id=\"ytick_1\">\r\n     <g id=\"line2d_6\">\r\n      <defs>\r\n       <path d=\"M 0 0 \r\nL -3.5 0 \r\n\" id=\"m8f11b8de71\" style=\"stroke:#000000;stroke-width:0.8;\"/>\r\n      </defs>\r\n      <g>\r\n       <use style=\"stroke:#000000;stroke-width:0.8;\" x=\"36.465625\" xlink:href=\"#m8f11b8de71\" y=\"224.64\"/>\r\n      </g>\r\n     </g>\r\n     <g id=\"text_6\">\r\n      <!-- 0.0 -->\r\n      <defs>\r\n       <path d=\"M 10.6875 12.40625 \r\nL 21 12.40625 \r\nL 21 0 \r\nL 10.6875 0 \r\nz\r\n\" id=\"DejaVuSans-46\"/>\r\n      </defs>\r\n      <g transform=\"translate(13.5625 228.439219)scale(0.1 -0.1)\">\r\n       <use xlink:href=\"#DejaVuSans-48\"/>\r\n       <use x=\"63.623047\" xlink:href=\"#DejaVuSans-46\"/>\r\n       <use x=\"95.410156\" xlink:href=\"#DejaVuSans-48\"/>\r\n      </g>\r\n     </g>\r\n    </g>\r\n    <g id=\"ytick_2\">\r\n     <g id=\"line2d_7\">\r\n      <g>\r\n       <use style=\"stroke:#000000;stroke-width:0.8;\" x=\"36.465625\" xlink:href=\"#m8f11b8de71\" y=\"199.986939\"/>\r\n      </g>\r\n     </g>\r\n     <g id=\"text_7\">\r\n      <!-- 2.5 -->\r\n      <defs>\r\n       <path d=\"M 10.796875 72.90625 \r\nL 49.515625 72.90625 \r\nL 49.515625 64.59375 \r\nL 19.828125 64.59375 \r\nL 19.828125 46.734375 \r\nQ 21.96875 47.46875 24.109375 47.828125 \r\nQ 26.265625 48.1875 28.421875 48.1875 \r\nQ 40.625 48.1875 47.75 41.5 \r\nQ 54.890625 34.8125 54.890625 23.390625 \r\nQ 54.890625 11.625 47.5625 5.09375 \r\nQ 40.234375 -1.421875 26.90625 -1.421875 \r\nQ 22.3125 -1.421875 17.546875 -0.640625 \r\nQ 12.796875 0.140625 7.71875 1.703125 \r\nL 7.71875 11.625 \r\nQ 12.109375 9.234375 16.796875 8.0625 \r\nQ 21.484375 6.890625 26.703125 6.890625 \r\nQ 35.15625 6.890625 40.078125 11.328125 \r\nQ 45.015625 15.765625 45.015625 23.390625 \r\nQ 45.015625 31 40.078125 35.4375 \r\nQ 35.15625 39.890625 26.703125 39.890625 \r\nQ 22.75 39.890625 18.8125 39.015625 \r\nQ 14.890625 38.140625 10.796875 36.28125 \r\nz\r\n\" id=\"DejaVuSans-53\"/>\r\n      </defs>\r\n      <g transform=\"translate(13.5625 203.786158)scale(0.1 -0.1)\">\r\n       <use xlink:href=\"#DejaVuSans-50\"/>\r\n       <use x=\"63.623047\" xlink:href=\"#DejaVuSans-46\"/>\r\n       <use x=\"95.410156\" xlink:href=\"#DejaVuSans-53\"/>\r\n      </g>\r\n     </g>\r\n    </g>\r\n    <g id=\"ytick_3\">\r\n     <g id=\"line2d_8\">\r\n      <g>\r\n       <use style=\"stroke:#000000;stroke-width:0.8;\" x=\"36.465625\" xlink:href=\"#m8f11b8de71\" y=\"175.333878\"/>\r\n      </g>\r\n     </g>\r\n     <g id=\"text_8\">\r\n      <!-- 5.0 -->\r\n      <g transform=\"translate(13.5625 179.133096)scale(0.1 -0.1)\">\r\n       <use xlink:href=\"#DejaVuSans-53\"/>\r\n       <use x=\"63.623047\" xlink:href=\"#DejaVuSans-46\"/>\r\n       <use x=\"95.410156\" xlink:href=\"#DejaVuSans-48\"/>\r\n      </g>\r\n     </g>\r\n    </g>\r\n    <g id=\"ytick_4\">\r\n     <g id=\"line2d_9\">\r\n      <g>\r\n       <use style=\"stroke:#000000;stroke-width:0.8;\" x=\"36.465625\" xlink:href=\"#m8f11b8de71\" y=\"150.680816\"/>\r\n      </g>\r\n     </g>\r\n     <g id=\"text_9\">\r\n      <!-- 7.5 -->\r\n      <defs>\r\n       <path d=\"M 8.203125 72.90625 \r\nL 55.078125 72.90625 \r\nL 55.078125 68.703125 \r\nL 28.609375 0 \r\nL 18.3125 0 \r\nL 43.21875 64.59375 \r\nL 8.203125 64.59375 \r\nz\r\n\" id=\"DejaVuSans-55\"/>\r\n      </defs>\r\n      <g transform=\"translate(13.5625 154.480035)scale(0.1 -0.1)\">\r\n       <use xlink:href=\"#DejaVuSans-55\"/>\r\n       <use x=\"63.623047\" xlink:href=\"#DejaVuSans-46\"/>\r\n       <use x=\"95.410156\" xlink:href=\"#DejaVuSans-53\"/>\r\n      </g>\r\n     </g>\r\n    </g>\r\n    <g id=\"ytick_5\">\r\n     <g id=\"line2d_10\">\r\n      <g>\r\n       <use style=\"stroke:#000000;stroke-width:0.8;\" x=\"36.465625\" xlink:href=\"#m8f11b8de71\" y=\"126.027755\"/>\r\n      </g>\r\n     </g>\r\n     <g id=\"text_10\">\r\n      <!-- 10.0 -->\r\n      <g transform=\"translate(7.2 129.826974)scale(0.1 -0.1)\">\r\n       <use xlink:href=\"#DejaVuSans-49\"/>\r\n       <use x=\"63.623047\" xlink:href=\"#DejaVuSans-48\"/>\r\n       <use x=\"127.246094\" xlink:href=\"#DejaVuSans-46\"/>\r\n       <use x=\"159.033203\" xlink:href=\"#DejaVuSans-48\"/>\r\n      </g>\r\n     </g>\r\n    </g>\r\n    <g id=\"ytick_6\">\r\n     <g id=\"line2d_11\">\r\n      <g>\r\n       <use style=\"stroke:#000000;stroke-width:0.8;\" x=\"36.465625\" xlink:href=\"#m8f11b8de71\" y=\"101.374694\"/>\r\n      </g>\r\n     </g>\r\n     <g id=\"text_11\">\r\n      <!-- 12.5 -->\r\n      <g transform=\"translate(7.2 105.173913)scale(0.1 -0.1)\">\r\n       <use xlink:href=\"#DejaVuSans-49\"/>\r\n       <use x=\"63.623047\" xlink:href=\"#DejaVuSans-50\"/>\r\n       <use x=\"127.246094\" xlink:href=\"#DejaVuSans-46\"/>\r\n       <use x=\"159.033203\" xlink:href=\"#DejaVuSans-53\"/>\r\n      </g>\r\n     </g>\r\n    </g>\r\n    <g id=\"ytick_7\">\r\n     <g id=\"line2d_12\">\r\n      <g>\r\n       <use style=\"stroke:#000000;stroke-width:0.8;\" x=\"36.465625\" xlink:href=\"#m8f11b8de71\" y=\"76.721633\"/>\r\n      </g>\r\n     </g>\r\n     <g id=\"text_12\">\r\n      <!-- 15.0 -->\r\n      <g transform=\"translate(7.2 80.520851)scale(0.1 -0.1)\">\r\n       <use xlink:href=\"#DejaVuSans-49\"/>\r\n       <use x=\"63.623047\" xlink:href=\"#DejaVuSans-53\"/>\r\n       <use x=\"127.246094\" xlink:href=\"#DejaVuSans-46\"/>\r\n       <use x=\"159.033203\" xlink:href=\"#DejaVuSans-48\"/>\r\n      </g>\r\n     </g>\r\n    </g>\r\n    <g id=\"ytick_8\">\r\n     <g id=\"line2d_13\">\r\n      <g>\r\n       <use style=\"stroke:#000000;stroke-width:0.8;\" x=\"36.465625\" xlink:href=\"#m8f11b8de71\" y=\"52.068571\"/>\r\n      </g>\r\n     </g>\r\n     <g id=\"text_13\">\r\n      <!-- 17.5 -->\r\n      <g transform=\"translate(7.2 55.86779)scale(0.1 -0.1)\">\r\n       <use xlink:href=\"#DejaVuSans-49\"/>\r\n       <use x=\"63.623047\" xlink:href=\"#DejaVuSans-55\"/>\r\n       <use x=\"127.246094\" xlink:href=\"#DejaVuSans-46\"/>\r\n       <use x=\"159.033203\" xlink:href=\"#DejaVuSans-53\"/>\r\n      </g>\r\n     </g>\r\n    </g>\r\n    <g id=\"ytick_9\">\r\n     <g id=\"line2d_14\">\r\n      <g>\r\n       <use style=\"stroke:#000000;stroke-width:0.8;\" x=\"36.465625\" xlink:href=\"#m8f11b8de71\" y=\"27.41551\"/>\r\n      </g>\r\n     </g>\r\n     <g id=\"text_14\">\r\n      <!-- 20.0 -->\r\n      <g transform=\"translate(7.2 31.214729)scale(0.1 -0.1)\">\r\n       <use xlink:href=\"#DejaVuSans-50\"/>\r\n       <use x=\"63.623047\" xlink:href=\"#DejaVuSans-48\"/>\r\n       <use x=\"127.246094\" xlink:href=\"#DejaVuSans-46\"/>\r\n       <use x=\"159.033203\" xlink:href=\"#DejaVuSans-48\"/>\r\n      </g>\r\n     </g>\r\n    </g>\r\n   </g>\r\n   <g id=\"patch_53\">\r\n    <path d=\"M 36.465625 224.64 \r\nL 36.465625 7.2 \r\n\" style=\"fill:none;stroke:#000000;stroke-linecap:square;stroke-linejoin:miter;stroke-width:0.8;\"/>\r\n   </g>\r\n   <g id=\"patch_54\">\r\n    <path d=\"M 371.265625 224.64 \r\nL 371.265625 7.2 \r\n\" style=\"fill:none;stroke:#000000;stroke-linecap:square;stroke-linejoin:miter;stroke-width:0.8;\"/>\r\n   </g>\r\n   <g id=\"patch_55\">\r\n    <path d=\"M 36.465625 224.64 \r\nL 371.265625 224.64 \r\n\" style=\"fill:none;stroke:#000000;stroke-linecap:square;stroke-linejoin:miter;stroke-width:0.8;\"/>\r\n   </g>\r\n   <g id=\"patch_56\">\r\n    <path d=\"M 36.465625 7.2 \r\nL 371.265625 7.2 \r\n\" style=\"fill:none;stroke:#000000;stroke-linecap:square;stroke-linejoin:miter;stroke-width:0.8;\"/>\r\n   </g>\r\n  </g>\r\n </g>\r\n <defs>\r\n  <clipPath id=\"pdce2b66a3e\">\r\n   <rect height=\"217.44\" width=\"334.8\" x=\"36.465625\" y=\"7.2\"/>\r\n  </clipPath>\r\n </defs>\r\n</svg>\r\n",
      "image/png": "[encoded data removed]"
     },
     "metadata": {
      "needs_background": "light"
     }
    }
   ],
   "source": [
    "plt.hist(abundancy_ratios, bins=50)"
   ]
  },
  {
   "cell_type": "code",
   "execution_count": null,
   "metadata": {},
   "outputs": [],
   "source": []
  }
 ]
}