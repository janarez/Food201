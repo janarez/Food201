{
 "metadata": {
  "language_info": {
   "codemirror_mode": {
    "name": "ipython",
    "version": 3
   },
   "file_extension": ".py",
   "mimetype": "text/x-python",
   "name": "python",
   "nbconvert_exporter": "python",
   "pygments_lexer": "ipython3",
   "version": "3.7.6-final"
  },
  "orig_nbformat": 2,
  "kernelspec": {
   "name": "80d42f4c-46f9-44d0-b742-e3b550f34073",
   "display_name": "'Python Interactive'",
   "language": "python"
  }
 },
 "nbformat": 4,
 "nbformat_minor": 2,
 "cells": [
  {
   "source": [
    "# Labels Food201 vs. labels Food101"
   ],
   "cell_type": "markdown",
   "metadata": {}
  },
  {
   "cell_type": "code",
   "execution_count": 118,
   "metadata": {},
   "outputs": [],
   "source": [
    "%store -r df_train_stored\n",
    "%store -r df_test_stored"
   ]
  },
  {
   "cell_type": "code",
   "execution_count": 119,
   "metadata": {},
   "outputs": [],
   "source": [
    "df_train = df_train_stored.copy()\n",
    "df_test = df_test_stored.copy()"
   ]
  },
  {
   "cell_type": "code",
   "execution_count": 120,
   "metadata": {},
   "outputs": [],
   "source": [
    "import os\n",
    "import pathlib\n",
    "import PIL\n",
    "\n",
    "import pandas as pd\n",
    "import numpy as np\n",
    "import matplotlib as mpl\n",
    "import matplotlib.pyplot as plt"
   ]
  },
  {
   "source": [
    "## Check masks\n",
    "\n",
    "It seems that there are two label maps, so we need to consolidate that."
   ],
   "cell_type": "markdown",
   "metadata": {}
  },
  {
   "cell_type": "code",
   "execution_count": 121,
   "metadata": {},
   "outputs": [],
   "source": [
    "MASK_FOLDER = '../food201/masks_test/'"
   ]
  },
  {
   "cell_type": "code",
   "execution_count": 122,
   "metadata": {},
   "outputs": [],
   "source": [
    "DATA_FOLDER = \"../food201/\"\n"
   ]
  },
  {
   "source": [
    "Indeed we need to replace the original (alphabetical) Food 101 mapping with the Food 201 mapping that marks the pixels in masks. "
   ],
   "cell_type": "markdown",
   "metadata": {}
  },
  {
   "cell_type": "code",
   "execution_count": 124,
   "metadata": {},
   "outputs": [],
   "source": [
    "df_labels_101 = pd.read_csv(DATA_FOLDER + \"multilabel_map.csv\", header=None, names=[\"id\", \"food\"])"
   ]
  },
  {
   "cell_type": "code",
   "execution_count": 125,
   "metadata": {},
   "outputs": [],
   "source": [
    "df_labels_201 = pd.read_csv(DATA_FOLDER + \"pixel_annotations_map.csv\", header=None, names=[\"id\", \"food\"])"
   ]
  },
  {
   "cell_type": "code",
   "execution_count": 126,
   "metadata": {},
   "outputs": [],
   "source": [
    "df_labels = df_labels_201.merge(df_labels_101, on=[\"food\"]).rename(columns={\"id_x\" : \"id\", \"id_y\" : \"id_101\"})"
   ]
  },
  {
   "cell_type": "code",
   "execution_count": 129,
   "metadata": {},
   "outputs": [],
   "source": [
    "def unify_labelling(df):\n",
    "    \"\"\"\n",
    "    Replaces 101 labelling with 201.\n",
    "    \"\"\"\n",
    "    for i in range(df.shape[0]):\n",
    "        ids = df.iloc[i]['ids']\n",
    "        new_ids = [int(df_labels.loc[df_labels['id_101'] == int(id), 'id']) for id in ids]\n",
    "        df.iloc[i]['ids'] = new_ids"
   ]
  },
  {
   "cell_type": "code",
   "execution_count": 130,
   "metadata": {},
   "outputs": [],
   "source": [
    "unify_labelling(df_test)"
   ]
  },
  {
   "cell_type": "code",
   "execution_count": 133,
   "metadata": {},
   "outputs": [],
   "source": [
    "unify_labelling(df_train)"
   ]
  },
  {
   "cell_type": "code",
   "execution_count": 134,
   "metadata": {},
   "outputs": [],
   "source": [
    "df_train.to_csv('train_images_201_labels.csv')\n",
    "df_test.to_csv('test_images_201_labels.csv')"
   ]
  },
  {
   "cell_type": "code",
   "execution_count": null,
   "metadata": {},
   "outputs": [],
   "source": []
  }
 ]
}